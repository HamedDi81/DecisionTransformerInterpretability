{
 "cells": [
  {
   "attachments": {},
   "cell_type": "markdown",
   "metadata": {},
   "source": [
    "# https://github.com/users/jbloomAus/projects/1/views/1?pane=issue&itemId=27197493\n",
    "\n",
    "\n"
   ]
  },
  {
   "attachments": {},
   "cell_type": "markdown",
   "metadata": {},
   "source": [
    "- [ ] Make a BOW model that encodes the object/color/state at each position using different embedding matrices\n",
    "- [ ] Visualize each/make method to default to orthogonal or something? see how much by default?\n",
    "- [ ] ensure init is in similar range to typical transformer situation\n",
    "- [ ] Make a sinusoidal relative position encoding like what's used for some LLMs and add that on top. \n",
    "- [ ] Visualize positional embeddings via dot product as with did in arena. "
   ]
  },
  {
   "cell_type": "code",
   "execution_count": 1,
   "metadata": {},
   "outputs": [
    {
     "name": "stdout",
     "output_type": "stream",
     "text": [
      "MiniGridBOWEmbedding(\n",
      "  (embedding): Embedding(33, 32)\n",
      "  (position_encoding): Summer(\n",
      "    (penc): PositionalEncoding2D()\n",
      "  )\n",
      ")\n",
      "torch.Size([1, 7, 7, 32])\n",
      "--\n",
      "torch.Size([11, 32])\n",
      "torch.Size([6, 32])\n",
      "torch.Size([3, 32])\n",
      "torch.Size([20, 32])\n",
      "torch.Size([1, 7, 7, 32])\n",
      "--\n",
      "average norm channel embeddings: tensor(0.9847, grad_fn=<MeanBackward0>)\n",
      "average norm positional encoding: tensor(1.4963)\n"
     ]
    },
    {
     "data": {
      "application/vnd.plotly.v1+json": {
       "config": {
        "plotlyServerURL": "https://plotly.com"
       },
       "data": [
        {
         "coloraxis": "coloraxis",
         "hovertemplate": "x: %{x}<br>y: %{y}<br>color: %{z}<extra></extra>",
         "name": "0",
         "type": "heatmap",
         "x": [
          0,
          1,
          2,
          3,
          4,
          5,
          6,
          7,
          8,
          9,
          10
         ],
         "xaxis": "x",
         "y": [
          0,
          1,
          2,
          3,
          4,
          5,
          6,
          7,
          8,
          9,
          10
         ],
         "yaxis": "y",
         "z": [
          [
           1,
           -0.007204563822597265,
           0.17462649941444397,
           -0.08336345851421356,
           -0.24558934569358826,
           -0.1166020929813385,
           -0.06982079148292542,
           0.1618756204843521,
           0.028960498049855232,
           -0.19145137071609497,
           0.2773558795452118
          ],
          [
           -0.007204563822597265,
           0.9999999403953552,
           0.13815315067768097,
           -0.05223542079329491,
           0.17104509472846985,
           -0.18896649777889252,
           -0.36624008417129517,
           0.06723585724830627,
           -0.11024419963359833,
           0.2021247148513794,
           0.011982831172645092
          ],
          [
           0.17462649941444397,
           0.13815315067768097,
           0.9999999403953552,
           -0.28857797384262085,
           0.02757737785577774,
           -0.2537373900413513,
           -0.0709139034152031,
           -0.020811496302485466,
           0.005707358010113239,
           0.10723592340946198,
           -0.09270159155130386
          ],
          [
           -0.08336345851421356,
           -0.05223542079329491,
           -0.28857797384262085,
           1,
           0.1418704241514206,
           0.12864214181900024,
           -0.07333923876285553,
           -0.020417198538780212,
           -0.284778356552124,
           -0.021104566752910614,
           0.08424822241067886
          ],
          [
           -0.24558934569358826,
           0.17104509472846985,
           0.02757737785577774,
           0.1418704241514206,
           1,
           0.07889088243246078,
           -0.17482247948646545,
           -0.1103600487112999,
           0.04064367711544037,
           0.4286996126174927,
           0.28586751222610474
          ],
          [
           -0.1166020929813385,
           -0.18896649777889252,
           -0.2537373900413513,
           0.12864214181900024,
           0.07889088243246078,
           1.0000001192092896,
           0.2970787584781647,
           -0.009943555109202862,
           -0.14170034229755402,
           -0.1878950595855713,
           0.04809892922639847
          ],
          [
           -0.06982079148292542,
           -0.36624008417129517,
           -0.0709139034152031,
           -0.07333923876285553,
           -0.17482247948646545,
           0.2970787584781647,
           1.0000001192092896,
           -0.24048131704330444,
           0.10546871274709702,
           -0.239862859249115,
           -0.3688682019710541
          ],
          [
           0.1618756204843521,
           0.06723585724830627,
           -0.020811496302485466,
           -0.020417198538780212,
           -0.1103600487112999,
           -0.009943555109202862,
           -0.24048131704330444,
           1.0000001192092896,
           0.19624386727809906,
           -0.059042081236839294,
           0.20076316595077515
          ],
          [
           0.028960498049855232,
           -0.11024419963359833,
           0.005707358010113239,
           -0.284778356552124,
           0.04064367711544037,
           -0.14170034229755402,
           0.10546871274709702,
           0.19624386727809906,
           1,
           -0.1579163521528244,
           0.010774058289825916
          ],
          [
           -0.19145137071609497,
           0.2021247148513794,
           0.10723592340946198,
           -0.021104566752910614,
           0.4286996126174927,
           -0.1878950595855713,
           -0.239862859249115,
           -0.059042081236839294,
           -0.1579163521528244,
           1,
           -0.009074210189282894
          ],
          [
           0.2773558795452118,
           0.011982831172645092,
           -0.09270159155130386,
           0.08424822241067886,
           0.28586751222610474,
           0.04809892922639847,
           -0.3688682019710541,
           0.20076316595077515,
           0.010774058289825916,
           -0.009074210189282894,
           1
          ]
         ]
        }
       ],
       "layout": {
        "coloraxis": {
         "colorscale": [
          [
           0,
           "#440154"
          ],
          [
           0.1111111111111111,
           "#482878"
          ],
          [
           0.2222222222222222,
           "#3e4989"
          ],
          [
           0.3333333333333333,
           "#31688e"
          ],
          [
           0.4444444444444444,
           "#26828e"
          ],
          [
           0.5555555555555556,
           "#1f9e89"
          ],
          [
           0.6666666666666666,
           "#35b779"
          ],
          [
           0.7777777777777778,
           "#6ece58"
          ],
          [
           0.8888888888888888,
           "#b5de2b"
          ],
          [
           1,
           "#fde725"
          ]
         ]
        },
        "template": {
         "data": {
          "bar": [
           {
            "error_x": {
             "color": "#2a3f5f"
            },
            "error_y": {
             "color": "#2a3f5f"
            },
            "marker": {
             "line": {
              "color": "#E5ECF6",
              "width": 0.5
             },
             "pattern": {
              "fillmode": "overlay",
              "size": 10,
              "solidity": 0.2
             }
            },
            "type": "bar"
           }
          ],
          "barpolar": [
           {
            "marker": {
             "line": {
              "color": "#E5ECF6",
              "width": 0.5
             },
             "pattern": {
              "fillmode": "overlay",
              "size": 10,
              "solidity": 0.2
             }
            },
            "type": "barpolar"
           }
          ],
          "carpet": [
           {
            "aaxis": {
             "endlinecolor": "#2a3f5f",
             "gridcolor": "white",
             "linecolor": "white",
             "minorgridcolor": "white",
             "startlinecolor": "#2a3f5f"
            },
            "baxis": {
             "endlinecolor": "#2a3f5f",
             "gridcolor": "white",
             "linecolor": "white",
             "minorgridcolor": "white",
             "startlinecolor": "#2a3f5f"
            },
            "type": "carpet"
           }
          ],
          "choropleth": [
           {
            "colorbar": {
             "outlinewidth": 0,
             "ticks": ""
            },
            "type": "choropleth"
           }
          ],
          "contour": [
           {
            "colorbar": {
             "outlinewidth": 0,
             "ticks": ""
            },
            "colorscale": [
             [
              0,
              "#0d0887"
             ],
             [
              0.1111111111111111,
              "#46039f"
             ],
             [
              0.2222222222222222,
              "#7201a8"
             ],
             [
              0.3333333333333333,
              "#9c179e"
             ],
             [
              0.4444444444444444,
              "#bd3786"
             ],
             [
              0.5555555555555556,
              "#d8576b"
             ],
             [
              0.6666666666666666,
              "#ed7953"
             ],
             [
              0.7777777777777778,
              "#fb9f3a"
             ],
             [
              0.8888888888888888,
              "#fdca26"
             ],
             [
              1,
              "#f0f921"
             ]
            ],
            "type": "contour"
           }
          ],
          "contourcarpet": [
           {
            "colorbar": {
             "outlinewidth": 0,
             "ticks": ""
            },
            "type": "contourcarpet"
           }
          ],
          "heatmap": [
           {
            "colorbar": {
             "outlinewidth": 0,
             "ticks": ""
            },
            "colorscale": [
             [
              0,
              "#0d0887"
             ],
             [
              0.1111111111111111,
              "#46039f"
             ],
             [
              0.2222222222222222,
              "#7201a8"
             ],
             [
              0.3333333333333333,
              "#9c179e"
             ],
             [
              0.4444444444444444,
              "#bd3786"
             ],
             [
              0.5555555555555556,
              "#d8576b"
             ],
             [
              0.6666666666666666,
              "#ed7953"
             ],
             [
              0.7777777777777778,
              "#fb9f3a"
             ],
             [
              0.8888888888888888,
              "#fdca26"
             ],
             [
              1,
              "#f0f921"
             ]
            ],
            "type": "heatmap"
           }
          ],
          "heatmapgl": [
           {
            "colorbar": {
             "outlinewidth": 0,
             "ticks": ""
            },
            "colorscale": [
             [
              0,
              "#0d0887"
             ],
             [
              0.1111111111111111,
              "#46039f"
             ],
             [
              0.2222222222222222,
              "#7201a8"
             ],
             [
              0.3333333333333333,
              "#9c179e"
             ],
             [
              0.4444444444444444,
              "#bd3786"
             ],
             [
              0.5555555555555556,
              "#d8576b"
             ],
             [
              0.6666666666666666,
              "#ed7953"
             ],
             [
              0.7777777777777778,
              "#fb9f3a"
             ],
             [
              0.8888888888888888,
              "#fdca26"
             ],
             [
              1,
              "#f0f921"
             ]
            ],
            "type": "heatmapgl"
           }
          ],
          "histogram": [
           {
            "marker": {
             "pattern": {
              "fillmode": "overlay",
              "size": 10,
              "solidity": 0.2
             }
            },
            "type": "histogram"
           }
          ],
          "histogram2d": [
           {
            "colorbar": {
             "outlinewidth": 0,
             "ticks": ""
            },
            "colorscale": [
             [
              0,
              "#0d0887"
             ],
             [
              0.1111111111111111,
              "#46039f"
             ],
             [
              0.2222222222222222,
              "#7201a8"
             ],
             [
              0.3333333333333333,
              "#9c179e"
             ],
             [
              0.4444444444444444,
              "#bd3786"
             ],
             [
              0.5555555555555556,
              "#d8576b"
             ],
             [
              0.6666666666666666,
              "#ed7953"
             ],
             [
              0.7777777777777778,
              "#fb9f3a"
             ],
             [
              0.8888888888888888,
              "#fdca26"
             ],
             [
              1,
              "#f0f921"
             ]
            ],
            "type": "histogram2d"
           }
          ],
          "histogram2dcontour": [
           {
            "colorbar": {
             "outlinewidth": 0,
             "ticks": ""
            },
            "colorscale": [
             [
              0,
              "#0d0887"
             ],
             [
              0.1111111111111111,
              "#46039f"
             ],
             [
              0.2222222222222222,
              "#7201a8"
             ],
             [
              0.3333333333333333,
              "#9c179e"
             ],
             [
              0.4444444444444444,
              "#bd3786"
             ],
             [
              0.5555555555555556,
              "#d8576b"
             ],
             [
              0.6666666666666666,
              "#ed7953"
             ],
             [
              0.7777777777777778,
              "#fb9f3a"
             ],
             [
              0.8888888888888888,
              "#fdca26"
             ],
             [
              1,
              "#f0f921"
             ]
            ],
            "type": "histogram2dcontour"
           }
          ],
          "mesh3d": [
           {
            "colorbar": {
             "outlinewidth": 0,
             "ticks": ""
            },
            "type": "mesh3d"
           }
          ],
          "parcoords": [
           {
            "line": {
             "colorbar": {
              "outlinewidth": 0,
              "ticks": ""
             }
            },
            "type": "parcoords"
           }
          ],
          "pie": [
           {
            "automargin": true,
            "type": "pie"
           }
          ],
          "scatter": [
           {
            "fillpattern": {
             "fillmode": "overlay",
             "size": 10,
             "solidity": 0.2
            },
            "type": "scatter"
           }
          ],
          "scatter3d": [
           {
            "line": {
             "colorbar": {
              "outlinewidth": 0,
              "ticks": ""
             }
            },
            "marker": {
             "colorbar": {
              "outlinewidth": 0,
              "ticks": ""
             }
            },
            "type": "scatter3d"
           }
          ],
          "scattercarpet": [
           {
            "marker": {
             "colorbar": {
              "outlinewidth": 0,
              "ticks": ""
             }
            },
            "type": "scattercarpet"
           }
          ],
          "scattergeo": [
           {
            "marker": {
             "colorbar": {
              "outlinewidth": 0,
              "ticks": ""
             }
            },
            "type": "scattergeo"
           }
          ],
          "scattergl": [
           {
            "marker": {
             "colorbar": {
              "outlinewidth": 0,
              "ticks": ""
             }
            },
            "type": "scattergl"
           }
          ],
          "scattermapbox": [
           {
            "marker": {
             "colorbar": {
              "outlinewidth": 0,
              "ticks": ""
             }
            },
            "type": "scattermapbox"
           }
          ],
          "scatterpolar": [
           {
            "marker": {
             "colorbar": {
              "outlinewidth": 0,
              "ticks": ""
             }
            },
            "type": "scatterpolar"
           }
          ],
          "scatterpolargl": [
           {
            "marker": {
             "colorbar": {
              "outlinewidth": 0,
              "ticks": ""
             }
            },
            "type": "scatterpolargl"
           }
          ],
          "scatterternary": [
           {
            "marker": {
             "colorbar": {
              "outlinewidth": 0,
              "ticks": ""
             }
            },
            "type": "scatterternary"
           }
          ],
          "surface": [
           {
            "colorbar": {
             "outlinewidth": 0,
             "ticks": ""
            },
            "colorscale": [
             [
              0,
              "#0d0887"
             ],
             [
              0.1111111111111111,
              "#46039f"
             ],
             [
              0.2222222222222222,
              "#7201a8"
             ],
             [
              0.3333333333333333,
              "#9c179e"
             ],
             [
              0.4444444444444444,
              "#bd3786"
             ],
             [
              0.5555555555555556,
              "#d8576b"
             ],
             [
              0.6666666666666666,
              "#ed7953"
             ],
             [
              0.7777777777777778,
              "#fb9f3a"
             ],
             [
              0.8888888888888888,
              "#fdca26"
             ],
             [
              1,
              "#f0f921"
             ]
            ],
            "type": "surface"
           }
          ],
          "table": [
           {
            "cells": {
             "fill": {
              "color": "#EBF0F8"
             },
             "line": {
              "color": "white"
             }
            },
            "header": {
             "fill": {
              "color": "#C8D4E3"
             },
             "line": {
              "color": "white"
             }
            },
            "type": "table"
           }
          ]
         },
         "layout": {
          "annotationdefaults": {
           "arrowcolor": "#2a3f5f",
           "arrowhead": 0,
           "arrowwidth": 1
          },
          "autotypenumbers": "strict",
          "coloraxis": {
           "colorbar": {
            "outlinewidth": 0,
            "ticks": ""
           }
          },
          "colorscale": {
           "diverging": [
            [
             0,
             "#8e0152"
            ],
            [
             0.1,
             "#c51b7d"
            ],
            [
             0.2,
             "#de77ae"
            ],
            [
             0.3,
             "#f1b6da"
            ],
            [
             0.4,
             "#fde0ef"
            ],
            [
             0.5,
             "#f7f7f7"
            ],
            [
             0.6,
             "#e6f5d0"
            ],
            [
             0.7,
             "#b8e186"
            ],
            [
             0.8,
             "#7fbc41"
            ],
            [
             0.9,
             "#4d9221"
            ],
            [
             1,
             "#276419"
            ]
           ],
           "sequential": [
            [
             0,
             "#0d0887"
            ],
            [
             0.1111111111111111,
             "#46039f"
            ],
            [
             0.2222222222222222,
             "#7201a8"
            ],
            [
             0.3333333333333333,
             "#9c179e"
            ],
            [
             0.4444444444444444,
             "#bd3786"
            ],
            [
             0.5555555555555556,
             "#d8576b"
            ],
            [
             0.6666666666666666,
             "#ed7953"
            ],
            [
             0.7777777777777778,
             "#fb9f3a"
            ],
            [
             0.8888888888888888,
             "#fdca26"
            ],
            [
             1,
             "#f0f921"
            ]
           ],
           "sequentialminus": [
            [
             0,
             "#0d0887"
            ],
            [
             0.1111111111111111,
             "#46039f"
            ],
            [
             0.2222222222222222,
             "#7201a8"
            ],
            [
             0.3333333333333333,
             "#9c179e"
            ],
            [
             0.4444444444444444,
             "#bd3786"
            ],
            [
             0.5555555555555556,
             "#d8576b"
            ],
            [
             0.6666666666666666,
             "#ed7953"
            ],
            [
             0.7777777777777778,
             "#fb9f3a"
            ],
            [
             0.8888888888888888,
             "#fdca26"
            ],
            [
             1,
             "#f0f921"
            ]
           ]
          },
          "colorway": [
           "#636efa",
           "#EF553B",
           "#00cc96",
           "#ab63fa",
           "#FFA15A",
           "#19d3f3",
           "#FF6692",
           "#B6E880",
           "#FF97FF",
           "#FECB52"
          ],
          "font": {
           "color": "#2a3f5f"
          },
          "geo": {
           "bgcolor": "white",
           "lakecolor": "white",
           "landcolor": "#E5ECF6",
           "showlakes": true,
           "showland": true,
           "subunitcolor": "white"
          },
          "hoverlabel": {
           "align": "left"
          },
          "hovermode": "closest",
          "mapbox": {
           "style": "light"
          },
          "paper_bgcolor": "white",
          "plot_bgcolor": "#E5ECF6",
          "polar": {
           "angularaxis": {
            "gridcolor": "white",
            "linecolor": "white",
            "ticks": ""
           },
           "bgcolor": "#E5ECF6",
           "radialaxis": {
            "gridcolor": "white",
            "linecolor": "white",
            "ticks": ""
           }
          },
          "scene": {
           "xaxis": {
            "backgroundcolor": "#E5ECF6",
            "gridcolor": "white",
            "gridwidth": 2,
            "linecolor": "white",
            "showbackground": true,
            "ticks": "",
            "zerolinecolor": "white"
           },
           "yaxis": {
            "backgroundcolor": "#E5ECF6",
            "gridcolor": "white",
            "gridwidth": 2,
            "linecolor": "white",
            "showbackground": true,
            "ticks": "",
            "zerolinecolor": "white"
           },
           "zaxis": {
            "backgroundcolor": "#E5ECF6",
            "gridcolor": "white",
            "gridwidth": 2,
            "linecolor": "white",
            "showbackground": true,
            "ticks": "",
            "zerolinecolor": "white"
           }
          },
          "shapedefaults": {
           "line": {
            "color": "#2a3f5f"
           }
          },
          "ternary": {
           "aaxis": {
            "gridcolor": "white",
            "linecolor": "white",
            "ticks": ""
           },
           "baxis": {
            "gridcolor": "white",
            "linecolor": "white",
            "ticks": ""
           },
           "bgcolor": "#E5ECF6",
           "caxis": {
            "gridcolor": "white",
            "linecolor": "white",
            "ticks": ""
           }
          },
          "title": {
           "x": 0.05
          },
          "xaxis": {
           "automargin": true,
           "gridcolor": "white",
           "linecolor": "white",
           "ticks": "",
           "title": {
            "standoff": 15
           },
           "zerolinecolor": "white",
           "zerolinewidth": 2
          },
          "yaxis": {
           "automargin": true,
           "gridcolor": "white",
           "linecolor": "white",
           "ticks": "",
           "title": {
            "standoff": 15
           },
           "zerolinecolor": "white",
           "zerolinewidth": 2
          }
         }
        },
        "title": {
         "text": "Pairwise Cosine Similarity Heatmap"
        },
        "xaxis": {
         "anchor": "y",
         "constrain": "domain",
         "domain": [
          0,
          1
         ],
         "scaleanchor": "y"
        },
        "yaxis": {
         "anchor": "x",
         "autorange": "reversed",
         "constrain": "domain",
         "domain": [
          0,
          1
         ]
        }
       }
      }
     },
     "metadata": {},
     "output_type": "display_data"
    },
    {
     "data": {
      "application/vnd.plotly.v1+json": {
       "config": {
        "plotlyServerURL": "https://plotly.com"
       },
       "data": [
        {
         "coloraxis": "coloraxis",
         "hovertemplate": "x: %{x}<br>y: %{y}<br>color: %{z}<extra></extra>",
         "name": "0",
         "type": "heatmap",
         "x": [
          0,
          1,
          2,
          3,
          4,
          5
         ],
         "xaxis": "x",
         "y": [
          0,
          1,
          2,
          3,
          4,
          5
         ],
         "yaxis": "y",
         "z": [
          [
           0.9999998807907104,
           -0.12669841945171356,
           -0.038460105657577515,
           -0.00476355804130435,
           -0.0054050409235060215,
           -0.02611972764134407
          ],
          [
           -0.12669841945171356,
           0.9999999403953552,
           -0.1578814685344696,
           0.5752526521682739,
           -0.1460462510585785,
           0.19447514414787292
          ],
          [
           -0.038460105657577515,
           -0.1578814685344696,
           1.0000001192092896,
           -0.33963170647621155,
           -0.06173713505268097,
           0.15846119821071625
          ],
          [
           -0.00476355804130435,
           0.5752526521682739,
           -0.33963170647621155,
           1.000000238418579,
           0.07290001213550568,
           0.05219963937997818
          ],
          [
           -0.0054050409235060215,
           -0.1460462510585785,
           -0.06173713505268097,
           0.07290001213550568,
           1.000000238418579,
           -0.020864760503172874
          ],
          [
           -0.02611972764134407,
           0.19447514414787292,
           0.15846119821071625,
           0.05219963937997818,
           -0.020864760503172874,
           0.9999998211860657
          ]
         ]
        }
       ],
       "layout": {
        "coloraxis": {
         "colorscale": [
          [
           0,
           "#440154"
          ],
          [
           0.1111111111111111,
           "#482878"
          ],
          [
           0.2222222222222222,
           "#3e4989"
          ],
          [
           0.3333333333333333,
           "#31688e"
          ],
          [
           0.4444444444444444,
           "#26828e"
          ],
          [
           0.5555555555555556,
           "#1f9e89"
          ],
          [
           0.6666666666666666,
           "#35b779"
          ],
          [
           0.7777777777777778,
           "#6ece58"
          ],
          [
           0.8888888888888888,
           "#b5de2b"
          ],
          [
           1,
           "#fde725"
          ]
         ]
        },
        "template": {
         "data": {
          "bar": [
           {
            "error_x": {
             "color": "#2a3f5f"
            },
            "error_y": {
             "color": "#2a3f5f"
            },
            "marker": {
             "line": {
              "color": "#E5ECF6",
              "width": 0.5
             },
             "pattern": {
              "fillmode": "overlay",
              "size": 10,
              "solidity": 0.2
             }
            },
            "type": "bar"
           }
          ],
          "barpolar": [
           {
            "marker": {
             "line": {
              "color": "#E5ECF6",
              "width": 0.5
             },
             "pattern": {
              "fillmode": "overlay",
              "size": 10,
              "solidity": 0.2
             }
            },
            "type": "barpolar"
           }
          ],
          "carpet": [
           {
            "aaxis": {
             "endlinecolor": "#2a3f5f",
             "gridcolor": "white",
             "linecolor": "white",
             "minorgridcolor": "white",
             "startlinecolor": "#2a3f5f"
            },
            "baxis": {
             "endlinecolor": "#2a3f5f",
             "gridcolor": "white",
             "linecolor": "white",
             "minorgridcolor": "white",
             "startlinecolor": "#2a3f5f"
            },
            "type": "carpet"
           }
          ],
          "choropleth": [
           {
            "colorbar": {
             "outlinewidth": 0,
             "ticks": ""
            },
            "type": "choropleth"
           }
          ],
          "contour": [
           {
            "colorbar": {
             "outlinewidth": 0,
             "ticks": ""
            },
            "colorscale": [
             [
              0,
              "#0d0887"
             ],
             [
              0.1111111111111111,
              "#46039f"
             ],
             [
              0.2222222222222222,
              "#7201a8"
             ],
             [
              0.3333333333333333,
              "#9c179e"
             ],
             [
              0.4444444444444444,
              "#bd3786"
             ],
             [
              0.5555555555555556,
              "#d8576b"
             ],
             [
              0.6666666666666666,
              "#ed7953"
             ],
             [
              0.7777777777777778,
              "#fb9f3a"
             ],
             [
              0.8888888888888888,
              "#fdca26"
             ],
             [
              1,
              "#f0f921"
             ]
            ],
            "type": "contour"
           }
          ],
          "contourcarpet": [
           {
            "colorbar": {
             "outlinewidth": 0,
             "ticks": ""
            },
            "type": "contourcarpet"
           }
          ],
          "heatmap": [
           {
            "colorbar": {
             "outlinewidth": 0,
             "ticks": ""
            },
            "colorscale": [
             [
              0,
              "#0d0887"
             ],
             [
              0.1111111111111111,
              "#46039f"
             ],
             [
              0.2222222222222222,
              "#7201a8"
             ],
             [
              0.3333333333333333,
              "#9c179e"
             ],
             [
              0.4444444444444444,
              "#bd3786"
             ],
             [
              0.5555555555555556,
              "#d8576b"
             ],
             [
              0.6666666666666666,
              "#ed7953"
             ],
             [
              0.7777777777777778,
              "#fb9f3a"
             ],
             [
              0.8888888888888888,
              "#fdca26"
             ],
             [
              1,
              "#f0f921"
             ]
            ],
            "type": "heatmap"
           }
          ],
          "heatmapgl": [
           {
            "colorbar": {
             "outlinewidth": 0,
             "ticks": ""
            },
            "colorscale": [
             [
              0,
              "#0d0887"
             ],
             [
              0.1111111111111111,
              "#46039f"
             ],
             [
              0.2222222222222222,
              "#7201a8"
             ],
             [
              0.3333333333333333,
              "#9c179e"
             ],
             [
              0.4444444444444444,
              "#bd3786"
             ],
             [
              0.5555555555555556,
              "#d8576b"
             ],
             [
              0.6666666666666666,
              "#ed7953"
             ],
             [
              0.7777777777777778,
              "#fb9f3a"
             ],
             [
              0.8888888888888888,
              "#fdca26"
             ],
             [
              1,
              "#f0f921"
             ]
            ],
            "type": "heatmapgl"
           }
          ],
          "histogram": [
           {
            "marker": {
             "pattern": {
              "fillmode": "overlay",
              "size": 10,
              "solidity": 0.2
             }
            },
            "type": "histogram"
           }
          ],
          "histogram2d": [
           {
            "colorbar": {
             "outlinewidth": 0,
             "ticks": ""
            },
            "colorscale": [
             [
              0,
              "#0d0887"
             ],
             [
              0.1111111111111111,
              "#46039f"
             ],
             [
              0.2222222222222222,
              "#7201a8"
             ],
             [
              0.3333333333333333,
              "#9c179e"
             ],
             [
              0.4444444444444444,
              "#bd3786"
             ],
             [
              0.5555555555555556,
              "#d8576b"
             ],
             [
              0.6666666666666666,
              "#ed7953"
             ],
             [
              0.7777777777777778,
              "#fb9f3a"
             ],
             [
              0.8888888888888888,
              "#fdca26"
             ],
             [
              1,
              "#f0f921"
             ]
            ],
            "type": "histogram2d"
           }
          ],
          "histogram2dcontour": [
           {
            "colorbar": {
             "outlinewidth": 0,
             "ticks": ""
            },
            "colorscale": [
             [
              0,
              "#0d0887"
             ],
             [
              0.1111111111111111,
              "#46039f"
             ],
             [
              0.2222222222222222,
              "#7201a8"
             ],
             [
              0.3333333333333333,
              "#9c179e"
             ],
             [
              0.4444444444444444,
              "#bd3786"
             ],
             [
              0.5555555555555556,
              "#d8576b"
             ],
             [
              0.6666666666666666,
              "#ed7953"
             ],
             [
              0.7777777777777778,
              "#fb9f3a"
             ],
             [
              0.8888888888888888,
              "#fdca26"
             ],
             [
              1,
              "#f0f921"
             ]
            ],
            "type": "histogram2dcontour"
           }
          ],
          "mesh3d": [
           {
            "colorbar": {
             "outlinewidth": 0,
             "ticks": ""
            },
            "type": "mesh3d"
           }
          ],
          "parcoords": [
           {
            "line": {
             "colorbar": {
              "outlinewidth": 0,
              "ticks": ""
             }
            },
            "type": "parcoords"
           }
          ],
          "pie": [
           {
            "automargin": true,
            "type": "pie"
           }
          ],
          "scatter": [
           {
            "fillpattern": {
             "fillmode": "overlay",
             "size": 10,
             "solidity": 0.2
            },
            "type": "scatter"
           }
          ],
          "scatter3d": [
           {
            "line": {
             "colorbar": {
              "outlinewidth": 0,
              "ticks": ""
             }
            },
            "marker": {
             "colorbar": {
              "outlinewidth": 0,
              "ticks": ""
             }
            },
            "type": "scatter3d"
           }
          ],
          "scattercarpet": [
           {
            "marker": {
             "colorbar": {
              "outlinewidth": 0,
              "ticks": ""
             }
            },
            "type": "scattercarpet"
           }
          ],
          "scattergeo": [
           {
            "marker": {
             "colorbar": {
              "outlinewidth": 0,
              "ticks": ""
             }
            },
            "type": "scattergeo"
           }
          ],
          "scattergl": [
           {
            "marker": {
             "colorbar": {
              "outlinewidth": 0,
              "ticks": ""
             }
            },
            "type": "scattergl"
           }
          ],
          "scattermapbox": [
           {
            "marker": {
             "colorbar": {
              "outlinewidth": 0,
              "ticks": ""
             }
            },
            "type": "scattermapbox"
           }
          ],
          "scatterpolar": [
           {
            "marker": {
             "colorbar": {
              "outlinewidth": 0,
              "ticks": ""
             }
            },
            "type": "scatterpolar"
           }
          ],
          "scatterpolargl": [
           {
            "marker": {
             "colorbar": {
              "outlinewidth": 0,
              "ticks": ""
             }
            },
            "type": "scatterpolargl"
           }
          ],
          "scatterternary": [
           {
            "marker": {
             "colorbar": {
              "outlinewidth": 0,
              "ticks": ""
             }
            },
            "type": "scatterternary"
           }
          ],
          "surface": [
           {
            "colorbar": {
             "outlinewidth": 0,
             "ticks": ""
            },
            "colorscale": [
             [
              0,
              "#0d0887"
             ],
             [
              0.1111111111111111,
              "#46039f"
             ],
             [
              0.2222222222222222,
              "#7201a8"
             ],
             [
              0.3333333333333333,
              "#9c179e"
             ],
             [
              0.4444444444444444,
              "#bd3786"
             ],
             [
              0.5555555555555556,
              "#d8576b"
             ],
             [
              0.6666666666666666,
              "#ed7953"
             ],
             [
              0.7777777777777778,
              "#fb9f3a"
             ],
             [
              0.8888888888888888,
              "#fdca26"
             ],
             [
              1,
              "#f0f921"
             ]
            ],
            "type": "surface"
           }
          ],
          "table": [
           {
            "cells": {
             "fill": {
              "color": "#EBF0F8"
             },
             "line": {
              "color": "white"
             }
            },
            "header": {
             "fill": {
              "color": "#C8D4E3"
             },
             "line": {
              "color": "white"
             }
            },
            "type": "table"
           }
          ]
         },
         "layout": {
          "annotationdefaults": {
           "arrowcolor": "#2a3f5f",
           "arrowhead": 0,
           "arrowwidth": 1
          },
          "autotypenumbers": "strict",
          "coloraxis": {
           "colorbar": {
            "outlinewidth": 0,
            "ticks": ""
           }
          },
          "colorscale": {
           "diverging": [
            [
             0,
             "#8e0152"
            ],
            [
             0.1,
             "#c51b7d"
            ],
            [
             0.2,
             "#de77ae"
            ],
            [
             0.3,
             "#f1b6da"
            ],
            [
             0.4,
             "#fde0ef"
            ],
            [
             0.5,
             "#f7f7f7"
            ],
            [
             0.6,
             "#e6f5d0"
            ],
            [
             0.7,
             "#b8e186"
            ],
            [
             0.8,
             "#7fbc41"
            ],
            [
             0.9,
             "#4d9221"
            ],
            [
             1,
             "#276419"
            ]
           ],
           "sequential": [
            [
             0,
             "#0d0887"
            ],
            [
             0.1111111111111111,
             "#46039f"
            ],
            [
             0.2222222222222222,
             "#7201a8"
            ],
            [
             0.3333333333333333,
             "#9c179e"
            ],
            [
             0.4444444444444444,
             "#bd3786"
            ],
            [
             0.5555555555555556,
             "#d8576b"
            ],
            [
             0.6666666666666666,
             "#ed7953"
            ],
            [
             0.7777777777777778,
             "#fb9f3a"
            ],
            [
             0.8888888888888888,
             "#fdca26"
            ],
            [
             1,
             "#f0f921"
            ]
           ],
           "sequentialminus": [
            [
             0,
             "#0d0887"
            ],
            [
             0.1111111111111111,
             "#46039f"
            ],
            [
             0.2222222222222222,
             "#7201a8"
            ],
            [
             0.3333333333333333,
             "#9c179e"
            ],
            [
             0.4444444444444444,
             "#bd3786"
            ],
            [
             0.5555555555555556,
             "#d8576b"
            ],
            [
             0.6666666666666666,
             "#ed7953"
            ],
            [
             0.7777777777777778,
             "#fb9f3a"
            ],
            [
             0.8888888888888888,
             "#fdca26"
            ],
            [
             1,
             "#f0f921"
            ]
           ]
          },
          "colorway": [
           "#636efa",
           "#EF553B",
           "#00cc96",
           "#ab63fa",
           "#FFA15A",
           "#19d3f3",
           "#FF6692",
           "#B6E880",
           "#FF97FF",
           "#FECB52"
          ],
          "font": {
           "color": "#2a3f5f"
          },
          "geo": {
           "bgcolor": "white",
           "lakecolor": "white",
           "landcolor": "#E5ECF6",
           "showlakes": true,
           "showland": true,
           "subunitcolor": "white"
          },
          "hoverlabel": {
           "align": "left"
          },
          "hovermode": "closest",
          "mapbox": {
           "style": "light"
          },
          "paper_bgcolor": "white",
          "plot_bgcolor": "#E5ECF6",
          "polar": {
           "angularaxis": {
            "gridcolor": "white",
            "linecolor": "white",
            "ticks": ""
           },
           "bgcolor": "#E5ECF6",
           "radialaxis": {
            "gridcolor": "white",
            "linecolor": "white",
            "ticks": ""
           }
          },
          "scene": {
           "xaxis": {
            "backgroundcolor": "#E5ECF6",
            "gridcolor": "white",
            "gridwidth": 2,
            "linecolor": "white",
            "showbackground": true,
            "ticks": "",
            "zerolinecolor": "white"
           },
           "yaxis": {
            "backgroundcolor": "#E5ECF6",
            "gridcolor": "white",
            "gridwidth": 2,
            "linecolor": "white",
            "showbackground": true,
            "ticks": "",
            "zerolinecolor": "white"
           },
           "zaxis": {
            "backgroundcolor": "#E5ECF6",
            "gridcolor": "white",
            "gridwidth": 2,
            "linecolor": "white",
            "showbackground": true,
            "ticks": "",
            "zerolinecolor": "white"
           }
          },
          "shapedefaults": {
           "line": {
            "color": "#2a3f5f"
           }
          },
          "ternary": {
           "aaxis": {
            "gridcolor": "white",
            "linecolor": "white",
            "ticks": ""
           },
           "baxis": {
            "gridcolor": "white",
            "linecolor": "white",
            "ticks": ""
           },
           "bgcolor": "#E5ECF6",
           "caxis": {
            "gridcolor": "white",
            "linecolor": "white",
            "ticks": ""
           }
          },
          "title": {
           "x": 0.05
          },
          "xaxis": {
           "automargin": true,
           "gridcolor": "white",
           "linecolor": "white",
           "ticks": "",
           "title": {
            "standoff": 15
           },
           "zerolinecolor": "white",
           "zerolinewidth": 2
          },
          "yaxis": {
           "automargin": true,
           "gridcolor": "white",
           "linecolor": "white",
           "ticks": "",
           "title": {
            "standoff": 15
           },
           "zerolinecolor": "white",
           "zerolinewidth": 2
          }
         }
        },
        "title": {
         "text": "Pairwise Cosine Similarity Heatmap"
        },
        "xaxis": {
         "anchor": "y",
         "constrain": "domain",
         "domain": [
          0,
          1
         ],
         "scaleanchor": "y"
        },
        "yaxis": {
         "anchor": "x",
         "autorange": "reversed",
         "constrain": "domain",
         "domain": [
          0,
          1
         ]
        }
       }
      }
     },
     "metadata": {},
     "output_type": "display_data"
    },
    {
     "data": {
      "application/vnd.plotly.v1+json": {
       "config": {
        "plotlyServerURL": "https://plotly.com"
       },
       "data": [
        {
         "coloraxis": "coloraxis",
         "hovertemplate": "x: %{x}<br>y: %{y}<br>color: %{z}<extra></extra>",
         "name": "0",
         "type": "heatmap",
         "x": [
          0,
          1,
          2
         ],
         "xaxis": "x",
         "y": [
          0,
          1,
          2
         ],
         "yaxis": "y",
         "z": [
          [
           0.9999999403953552,
           -0.1464151293039322,
           0.11793935298919678
          ],
          [
           -0.1464151293039322,
           0.9999999403953552,
           -0.33901503682136536
          ],
          [
           0.11793935298919678,
           -0.33901503682136536,
           1.0000001192092896
          ]
         ]
        }
       ],
       "layout": {
        "coloraxis": {
         "colorscale": [
          [
           0,
           "#440154"
          ],
          [
           0.1111111111111111,
           "#482878"
          ],
          [
           0.2222222222222222,
           "#3e4989"
          ],
          [
           0.3333333333333333,
           "#31688e"
          ],
          [
           0.4444444444444444,
           "#26828e"
          ],
          [
           0.5555555555555556,
           "#1f9e89"
          ],
          [
           0.6666666666666666,
           "#35b779"
          ],
          [
           0.7777777777777778,
           "#6ece58"
          ],
          [
           0.8888888888888888,
           "#b5de2b"
          ],
          [
           1,
           "#fde725"
          ]
         ]
        },
        "template": {
         "data": {
          "bar": [
           {
            "error_x": {
             "color": "#2a3f5f"
            },
            "error_y": {
             "color": "#2a3f5f"
            },
            "marker": {
             "line": {
              "color": "#E5ECF6",
              "width": 0.5
             },
             "pattern": {
              "fillmode": "overlay",
              "size": 10,
              "solidity": 0.2
             }
            },
            "type": "bar"
           }
          ],
          "barpolar": [
           {
            "marker": {
             "line": {
              "color": "#E5ECF6",
              "width": 0.5
             },
             "pattern": {
              "fillmode": "overlay",
              "size": 10,
              "solidity": 0.2
             }
            },
            "type": "barpolar"
           }
          ],
          "carpet": [
           {
            "aaxis": {
             "endlinecolor": "#2a3f5f",
             "gridcolor": "white",
             "linecolor": "white",
             "minorgridcolor": "white",
             "startlinecolor": "#2a3f5f"
            },
            "baxis": {
             "endlinecolor": "#2a3f5f",
             "gridcolor": "white",
             "linecolor": "white",
             "minorgridcolor": "white",
             "startlinecolor": "#2a3f5f"
            },
            "type": "carpet"
           }
          ],
          "choropleth": [
           {
            "colorbar": {
             "outlinewidth": 0,
             "ticks": ""
            },
            "type": "choropleth"
           }
          ],
          "contour": [
           {
            "colorbar": {
             "outlinewidth": 0,
             "ticks": ""
            },
            "colorscale": [
             [
              0,
              "#0d0887"
             ],
             [
              0.1111111111111111,
              "#46039f"
             ],
             [
              0.2222222222222222,
              "#7201a8"
             ],
             [
              0.3333333333333333,
              "#9c179e"
             ],
             [
              0.4444444444444444,
              "#bd3786"
             ],
             [
              0.5555555555555556,
              "#d8576b"
             ],
             [
              0.6666666666666666,
              "#ed7953"
             ],
             [
              0.7777777777777778,
              "#fb9f3a"
             ],
             [
              0.8888888888888888,
              "#fdca26"
             ],
             [
              1,
              "#f0f921"
             ]
            ],
            "type": "contour"
           }
          ],
          "contourcarpet": [
           {
            "colorbar": {
             "outlinewidth": 0,
             "ticks": ""
            },
            "type": "contourcarpet"
           }
          ],
          "heatmap": [
           {
            "colorbar": {
             "outlinewidth": 0,
             "ticks": ""
            },
            "colorscale": [
             [
              0,
              "#0d0887"
             ],
             [
              0.1111111111111111,
              "#46039f"
             ],
             [
              0.2222222222222222,
              "#7201a8"
             ],
             [
              0.3333333333333333,
              "#9c179e"
             ],
             [
              0.4444444444444444,
              "#bd3786"
             ],
             [
              0.5555555555555556,
              "#d8576b"
             ],
             [
              0.6666666666666666,
              "#ed7953"
             ],
             [
              0.7777777777777778,
              "#fb9f3a"
             ],
             [
              0.8888888888888888,
              "#fdca26"
             ],
             [
              1,
              "#f0f921"
             ]
            ],
            "type": "heatmap"
           }
          ],
          "heatmapgl": [
           {
            "colorbar": {
             "outlinewidth": 0,
             "ticks": ""
            },
            "colorscale": [
             [
              0,
              "#0d0887"
             ],
             [
              0.1111111111111111,
              "#46039f"
             ],
             [
              0.2222222222222222,
              "#7201a8"
             ],
             [
              0.3333333333333333,
              "#9c179e"
             ],
             [
              0.4444444444444444,
              "#bd3786"
             ],
             [
              0.5555555555555556,
              "#d8576b"
             ],
             [
              0.6666666666666666,
              "#ed7953"
             ],
             [
              0.7777777777777778,
              "#fb9f3a"
             ],
             [
              0.8888888888888888,
              "#fdca26"
             ],
             [
              1,
              "#f0f921"
             ]
            ],
            "type": "heatmapgl"
           }
          ],
          "histogram": [
           {
            "marker": {
             "pattern": {
              "fillmode": "overlay",
              "size": 10,
              "solidity": 0.2
             }
            },
            "type": "histogram"
           }
          ],
          "histogram2d": [
           {
            "colorbar": {
             "outlinewidth": 0,
             "ticks": ""
            },
            "colorscale": [
             [
              0,
              "#0d0887"
             ],
             [
              0.1111111111111111,
              "#46039f"
             ],
             [
              0.2222222222222222,
              "#7201a8"
             ],
             [
              0.3333333333333333,
              "#9c179e"
             ],
             [
              0.4444444444444444,
              "#bd3786"
             ],
             [
              0.5555555555555556,
              "#d8576b"
             ],
             [
              0.6666666666666666,
              "#ed7953"
             ],
             [
              0.7777777777777778,
              "#fb9f3a"
             ],
             [
              0.8888888888888888,
              "#fdca26"
             ],
             [
              1,
              "#f0f921"
             ]
            ],
            "type": "histogram2d"
           }
          ],
          "histogram2dcontour": [
           {
            "colorbar": {
             "outlinewidth": 0,
             "ticks": ""
            },
            "colorscale": [
             [
              0,
              "#0d0887"
             ],
             [
              0.1111111111111111,
              "#46039f"
             ],
             [
              0.2222222222222222,
              "#7201a8"
             ],
             [
              0.3333333333333333,
              "#9c179e"
             ],
             [
              0.4444444444444444,
              "#bd3786"
             ],
             [
              0.5555555555555556,
              "#d8576b"
             ],
             [
              0.6666666666666666,
              "#ed7953"
             ],
             [
              0.7777777777777778,
              "#fb9f3a"
             ],
             [
              0.8888888888888888,
              "#fdca26"
             ],
             [
              1,
              "#f0f921"
             ]
            ],
            "type": "histogram2dcontour"
           }
          ],
          "mesh3d": [
           {
            "colorbar": {
             "outlinewidth": 0,
             "ticks": ""
            },
            "type": "mesh3d"
           }
          ],
          "parcoords": [
           {
            "line": {
             "colorbar": {
              "outlinewidth": 0,
              "ticks": ""
             }
            },
            "type": "parcoords"
           }
          ],
          "pie": [
           {
            "automargin": true,
            "type": "pie"
           }
          ],
          "scatter": [
           {
            "fillpattern": {
             "fillmode": "overlay",
             "size": 10,
             "solidity": 0.2
            },
            "type": "scatter"
           }
          ],
          "scatter3d": [
           {
            "line": {
             "colorbar": {
              "outlinewidth": 0,
              "ticks": ""
             }
            },
            "marker": {
             "colorbar": {
              "outlinewidth": 0,
              "ticks": ""
             }
            },
            "type": "scatter3d"
           }
          ],
          "scattercarpet": [
           {
            "marker": {
             "colorbar": {
              "outlinewidth": 0,
              "ticks": ""
             }
            },
            "type": "scattercarpet"
           }
          ],
          "scattergeo": [
           {
            "marker": {
             "colorbar": {
              "outlinewidth": 0,
              "ticks": ""
             }
            },
            "type": "scattergeo"
           }
          ],
          "scattergl": [
           {
            "marker": {
             "colorbar": {
              "outlinewidth": 0,
              "ticks": ""
             }
            },
            "type": "scattergl"
           }
          ],
          "scattermapbox": [
           {
            "marker": {
             "colorbar": {
              "outlinewidth": 0,
              "ticks": ""
             }
            },
            "type": "scattermapbox"
           }
          ],
          "scatterpolar": [
           {
            "marker": {
             "colorbar": {
              "outlinewidth": 0,
              "ticks": ""
             }
            },
            "type": "scatterpolar"
           }
          ],
          "scatterpolargl": [
           {
            "marker": {
             "colorbar": {
              "outlinewidth": 0,
              "ticks": ""
             }
            },
            "type": "scatterpolargl"
           }
          ],
          "scatterternary": [
           {
            "marker": {
             "colorbar": {
              "outlinewidth": 0,
              "ticks": ""
             }
            },
            "type": "scatterternary"
           }
          ],
          "surface": [
           {
            "colorbar": {
             "outlinewidth": 0,
             "ticks": ""
            },
            "colorscale": [
             [
              0,
              "#0d0887"
             ],
             [
              0.1111111111111111,
              "#46039f"
             ],
             [
              0.2222222222222222,
              "#7201a8"
             ],
             [
              0.3333333333333333,
              "#9c179e"
             ],
             [
              0.4444444444444444,
              "#bd3786"
             ],
             [
              0.5555555555555556,
              "#d8576b"
             ],
             [
              0.6666666666666666,
              "#ed7953"
             ],
             [
              0.7777777777777778,
              "#fb9f3a"
             ],
             [
              0.8888888888888888,
              "#fdca26"
             ],
             [
              1,
              "#f0f921"
             ]
            ],
            "type": "surface"
           }
          ],
          "table": [
           {
            "cells": {
             "fill": {
              "color": "#EBF0F8"
             },
             "line": {
              "color": "white"
             }
            },
            "header": {
             "fill": {
              "color": "#C8D4E3"
             },
             "line": {
              "color": "white"
             }
            },
            "type": "table"
           }
          ]
         },
         "layout": {
          "annotationdefaults": {
           "arrowcolor": "#2a3f5f",
           "arrowhead": 0,
           "arrowwidth": 1
          },
          "autotypenumbers": "strict",
          "coloraxis": {
           "colorbar": {
            "outlinewidth": 0,
            "ticks": ""
           }
          },
          "colorscale": {
           "diverging": [
            [
             0,
             "#8e0152"
            ],
            [
             0.1,
             "#c51b7d"
            ],
            [
             0.2,
             "#de77ae"
            ],
            [
             0.3,
             "#f1b6da"
            ],
            [
             0.4,
             "#fde0ef"
            ],
            [
             0.5,
             "#f7f7f7"
            ],
            [
             0.6,
             "#e6f5d0"
            ],
            [
             0.7,
             "#b8e186"
            ],
            [
             0.8,
             "#7fbc41"
            ],
            [
             0.9,
             "#4d9221"
            ],
            [
             1,
             "#276419"
            ]
           ],
           "sequential": [
            [
             0,
             "#0d0887"
            ],
            [
             0.1111111111111111,
             "#46039f"
            ],
            [
             0.2222222222222222,
             "#7201a8"
            ],
            [
             0.3333333333333333,
             "#9c179e"
            ],
            [
             0.4444444444444444,
             "#bd3786"
            ],
            [
             0.5555555555555556,
             "#d8576b"
            ],
            [
             0.6666666666666666,
             "#ed7953"
            ],
            [
             0.7777777777777778,
             "#fb9f3a"
            ],
            [
             0.8888888888888888,
             "#fdca26"
            ],
            [
             1,
             "#f0f921"
            ]
           ],
           "sequentialminus": [
            [
             0,
             "#0d0887"
            ],
            [
             0.1111111111111111,
             "#46039f"
            ],
            [
             0.2222222222222222,
             "#7201a8"
            ],
            [
             0.3333333333333333,
             "#9c179e"
            ],
            [
             0.4444444444444444,
             "#bd3786"
            ],
            [
             0.5555555555555556,
             "#d8576b"
            ],
            [
             0.6666666666666666,
             "#ed7953"
            ],
            [
             0.7777777777777778,
             "#fb9f3a"
            ],
            [
             0.8888888888888888,
             "#fdca26"
            ],
            [
             1,
             "#f0f921"
            ]
           ]
          },
          "colorway": [
           "#636efa",
           "#EF553B",
           "#00cc96",
           "#ab63fa",
           "#FFA15A",
           "#19d3f3",
           "#FF6692",
           "#B6E880",
           "#FF97FF",
           "#FECB52"
          ],
          "font": {
           "color": "#2a3f5f"
          },
          "geo": {
           "bgcolor": "white",
           "lakecolor": "white",
           "landcolor": "#E5ECF6",
           "showlakes": true,
           "showland": true,
           "subunitcolor": "white"
          },
          "hoverlabel": {
           "align": "left"
          },
          "hovermode": "closest",
          "mapbox": {
           "style": "light"
          },
          "paper_bgcolor": "white",
          "plot_bgcolor": "#E5ECF6",
          "polar": {
           "angularaxis": {
            "gridcolor": "white",
            "linecolor": "white",
            "ticks": ""
           },
           "bgcolor": "#E5ECF6",
           "radialaxis": {
            "gridcolor": "white",
            "linecolor": "white",
            "ticks": ""
           }
          },
          "scene": {
           "xaxis": {
            "backgroundcolor": "#E5ECF6",
            "gridcolor": "white",
            "gridwidth": 2,
            "linecolor": "white",
            "showbackground": true,
            "ticks": "",
            "zerolinecolor": "white"
           },
           "yaxis": {
            "backgroundcolor": "#E5ECF6",
            "gridcolor": "white",
            "gridwidth": 2,
            "linecolor": "white",
            "showbackground": true,
            "ticks": "",
            "zerolinecolor": "white"
           },
           "zaxis": {
            "backgroundcolor": "#E5ECF6",
            "gridcolor": "white",
            "gridwidth": 2,
            "linecolor": "white",
            "showbackground": true,
            "ticks": "",
            "zerolinecolor": "white"
           }
          },
          "shapedefaults": {
           "line": {
            "color": "#2a3f5f"
           }
          },
          "ternary": {
           "aaxis": {
            "gridcolor": "white",
            "linecolor": "white",
            "ticks": ""
           },
           "baxis": {
            "gridcolor": "white",
            "linecolor": "white",
            "ticks": ""
           },
           "bgcolor": "#E5ECF6",
           "caxis": {
            "gridcolor": "white",
            "linecolor": "white",
            "ticks": ""
           }
          },
          "title": {
           "x": 0.05
          },
          "xaxis": {
           "automargin": true,
           "gridcolor": "white",
           "linecolor": "white",
           "ticks": "",
           "title": {
            "standoff": 15
           },
           "zerolinecolor": "white",
           "zerolinewidth": 2
          },
          "yaxis": {
           "automargin": true,
           "gridcolor": "white",
           "linecolor": "white",
           "ticks": "",
           "title": {
            "standoff": 15
           },
           "zerolinecolor": "white",
           "zerolinewidth": 2
          }
         }
        },
        "title": {
         "text": "Pairwise Cosine Similarity Heatmap"
        },
        "xaxis": {
         "anchor": "y",
         "constrain": "domain",
         "domain": [
          0,
          1
         ],
         "scaleanchor": "y"
        },
        "yaxis": {
         "anchor": "x",
         "autorange": "reversed",
         "constrain": "domain",
         "domain": [
          0,
          1
         ]
        }
       }
      }
     },
     "metadata": {},
     "output_type": "display_data"
    },
    {
     "data": {
      "application/vnd.plotly.v1+json": {
       "config": {
        "plotlyServerURL": "https://plotly.com"
       },
       "data": [
        {
         "coloraxis": "coloraxis",
         "hovertemplate": "x: %{x}<br>y: %{y}<br>color: %{z}<extra></extra>",
         "name": "0",
         "type": "heatmap",
         "x": [
          0,
          1,
          2,
          3,
          4,
          5,
          6,
          7,
          8,
          9,
          10,
          11,
          12,
          13,
          14,
          15,
          16,
          17,
          18,
          19
         ],
         "xaxis": "x",
         "y": [
          0,
          1,
          2,
          3,
          4,
          5,
          6,
          7,
          8,
          9,
          10,
          11,
          12,
          13,
          14,
          15,
          16,
          17,
          18,
          19
         ],
         "yaxis": "y",
         "z": [
          [
           1,
           -0.007204563822597265,
           0.17462649941444397,
           -0.08336345851421356,
           -0.24558934569358826,
           -0.1166020929813385,
           -0.06982079148292542,
           0.1618756204843521,
           0.028960498049855232,
           -0.19145137071609497,
           0.2773558795452118,
           0.24679212272167206,
           -0.11637625098228455,
           0.16458116471767426,
           0.22835086286067963,
           0.14217914640903473,
           0.1325618326663971,
           -0.03573545068502426,
           0.11408523470163345,
           -0.15516817569732666
          ],
          [
           -0.007204563822597265,
           0.9999999403953552,
           0.13815315067768097,
           -0.05223542079329491,
           0.17104509472846985,
           -0.18896649777889252,
           -0.36624008417129517,
           0.06723585724830627,
           -0.11024419963359833,
           0.2021247148513794,
           0.011982831172645092,
           0.12081754207611084,
           0.14592128992080688,
           0.03580627217888832,
           0.08479645103216171,
           0.055010076612234116,
           0.3520205616950989,
           0.1172005906701088,
           0.13244056701660156,
           -0.1645488440990448
          ],
          [
           0.17462649941444397,
           0.13815315067768097,
           0.9999999403953552,
           -0.28857797384262085,
           0.02757737785577774,
           -0.2537373900413513,
           -0.0709139034152031,
           -0.020811496302485466,
           0.005707358010113239,
           0.10723592340946198,
           -0.09270159155130386,
           -0.2230023741722107,
           -0.049918897449970245,
           -0.1536037027835846,
           -0.08852299302816391,
           -0.24112474918365479,
           0.09553121030330658,
           0.03012992814183235,
           -0.13577277958393097,
           0.22457121312618256
          ],
          [
           -0.08336345851421356,
           -0.05223542079329491,
           -0.28857797384262085,
           1,
           0.1418704241514206,
           0.12864214181900024,
           -0.07333923876285553,
           -0.020417198538780212,
           -0.284778356552124,
           -0.021104566752910614,
           0.08424822241067886,
           0.19212555885314941,
           0.1952105313539505,
           0.021972456946969032,
           0.1635892391204834,
           0.06725669652223587,
           0.26731884479522705,
           -0.06077408418059349,
           0.1702701300382614,
           -0.11254502087831497
          ],
          [
           -0.24558934569358826,
           0.17104509472846985,
           0.02757737785577774,
           0.1418704241514206,
           1,
           0.07889088243246078,
           -0.17482247948646545,
           -0.1103600487112999,
           0.04064367711544037,
           0.4286996126174927,
           0.28586751222610474,
           -0.014968684874475002,
           0.2946130037307739,
           -0.05313721299171448,
           0.25854113698005676,
           0.06645467132329941,
           0.09357760846614838,
           0.062138255685567856,
           -0.06622821092605591,
           -0.027815883979201317
          ],
          [
           -0.1166020929813385,
           -0.18896649777889252,
           -0.2537373900413513,
           0.12864214181900024,
           0.07889088243246078,
           1.0000001192092896,
           0.2970787584781647,
           -0.009943555109202862,
           -0.14170034229755402,
           -0.1878950595855713,
           0.04809892922639847,
           -0.21667124330997467,
           0.16403988003730774,
           0.37248265743255615,
           0.009814955294132233,
           0.11688357591629028,
           0.030394118279218674,
           -0.29478684067726135,
           0.06007687747478485,
           0.0075004734098911285
          ],
          [
           -0.06982079148292542,
           -0.36624008417129517,
           -0.0709139034152031,
           -0.07333923876285553,
           -0.17482247948646545,
           0.2970787584781647,
           1.0000001192092896,
           -0.24048131704330444,
           0.10546871274709702,
           -0.239862859249115,
           -0.3688682019710541,
           0.03633764758706093,
           -0.0941954031586647,
           0.34955939650535583,
           -0.3397919833660126,
           -0.07250726222991943,
           -0.17492897808551788,
           0.2062867432832718,
           -0.27103447914123535,
           0.2521331310272217
          ],
          [
           0.1618756204843521,
           0.06723585724830627,
           -0.020811496302485466,
           -0.020417198538780212,
           -0.1103600487112999,
           -0.009943555109202862,
           -0.24048131704330444,
           1.0000001192092896,
           0.19624386727809906,
           -0.059042081236839294,
           0.20076316595077515,
           0.07786287367343903,
           0.03618968278169632,
           0.13187845051288605,
           0.4151686429977417,
           -0.1479443609714508,
           -0.08115363866090775,
           -0.3760906755924225,
           -0.09633831679821014,
           -0.07880356907844543
          ],
          [
           0.028960498049855232,
           -0.11024419963359833,
           0.005707358010113239,
           -0.284778356552124,
           0.04064367711544037,
           -0.14170034229755402,
           0.10546871274709702,
           0.19624386727809906,
           1,
           -0.1579163521528244,
           0.010774058289825916,
           0.1665995717048645,
           -0.2366245687007904,
           0.16009385883808136,
           -0.23660771548748016,
           -0.18645474314689636,
           -0.30615347623825073,
           0.09889665991067886,
           -0.19436459243297577,
           0.141269251704216
          ],
          [
           -0.19145137071609497,
           0.2021247148513794,
           0.10723592340946198,
           -0.021104566752910614,
           0.4286996126174927,
           -0.1878950595855713,
           -0.239862859249115,
           -0.059042081236839294,
           -0.1579163521528244,
           1,
           -0.009074210189282894,
           0.007851868867874146,
           0.3629557192325592,
           -0.16976863145828247,
           0.2103009819984436,
           -0.004589038901031017,
           0.13619109988212585,
           -0.010439794510602951,
           0.07888218760490417,
           0.06391430646181107
          ],
          [
           0.2773558795452118,
           0.011982831172645092,
           -0.09270159155130386,
           0.08424822241067886,
           0.28586751222610474,
           0.04809892922639847,
           -0.3688682019710541,
           0.20076316595077515,
           0.010774058289825916,
           -0.009074210189282894,
           0.9999999403953552,
           0.032245535403490067,
           -0.02442157454788685,
           0.06433477252721786,
           0.10274855047464371,
           0.31772080063819885,
           0.11298868060112,
           0.13452905416488647,
           0.10850983113050461,
           -0.3375362455844879
          ],
          [
           0.24679212272167206,
           0.12081754207611084,
           -0.2230023741722107,
           0.19212555885314941,
           -0.014968684874475002,
           -0.21667124330997467,
           0.03633764758706093,
           0.07786287367343903,
           0.1665995717048645,
           0.007851868867874146,
           0.032245535403490067,
           0.9999998807907104,
           -0.12669841945171356,
           -0.038460105657577515,
           -0.00476355804130435,
           -0.0054050409235060215,
           -0.02611972764134407,
           0.2292586863040924,
           -0.004195763263851404,
           -0.030954012647271156
          ],
          [
           -0.11637625098228455,
           0.14592128992080688,
           -0.049918897449970245,
           0.1952105313539505,
           0.2946130037307739,
           0.16403988003730774,
           -0.0941954031586647,
           0.03618968278169632,
           -0.2366245687007904,
           0.3629557192325592,
           -0.02442157454788685,
           -0.12669841945171356,
           0.9999999403953552,
           -0.1578814685344696,
           0.5752526521682739,
           -0.1460462510585785,
           0.19447514414787292,
           0.036033544689416885,
           0.05431576073169708,
           0.25178053975105286
          ],
          [
           0.16458116471767426,
           0.03580627217888832,
           -0.1536037027835846,
           0.021972456946969032,
           -0.05313721299171448,
           0.37248265743255615,
           0.34955939650535583,
           0.13187845051288605,
           0.16009385883808136,
           -0.16976863145828247,
           0.06433477252721786,
           -0.038460105657577515,
           -0.1578814685344696,
           1.0000001192092896,
           -0.33963170647621155,
           -0.06173713505268097,
           0.15846119821071625,
           -0.18974362313747406,
           -0.018520142883062363,
           -0.08295154571533203
          ],
          [
           0.22835086286067963,
           0.08479645103216171,
           -0.08852299302816391,
           0.1635892391204834,
           0.25854113698005676,
           0.009814955294132233,
           -0.3397919833660126,
           0.4151686429977417,
           -0.23660771548748016,
           0.2103009819984436,
           0.10274855047464371,
           -0.00476355804130435,
           0.5752526521682739,
           -0.33963170647621155,
           1.000000238418579,
           0.07290001213550568,
           0.05219963937997818,
           -0.16073362529277802,
           -0.0673181563615799,
           -0.09759635478258133
          ],
          [
           0.14217914640903473,
           0.055010076612234116,
           -0.24112474918365479,
           0.06725669652223587,
           0.06645467132329941,
           0.11688357591629028,
           -0.07250726222991943,
           -0.1479443609714508,
           -0.18645474314689636,
           -0.004589038901031017,
           0.31772080063819885,
           -0.0054050409235060215,
           -0.1460462510585785,
           -0.06173713505268097,
           0.07290001213550568,
           1.000000238418579,
           -0.020864760503172874,
           0.014583354815840721,
           0.02000519260764122,
           -0.18757691979408264
          ],
          [
           0.1325618326663971,
           0.3520205616950989,
           0.09553121030330658,
           0.26731884479522705,
           0.09357760846614838,
           0.030394118279218674,
           -0.17492897808551788,
           -0.08115363866090775,
           -0.30615347623825073,
           0.13619109988212585,
           0.11298868060112,
           -0.02611972764134407,
           0.19447514414787292,
           0.15846119821071625,
           0.05219963937997818,
           -0.020864760503172874,
           0.9999998211860657,
           0.0011901531834155321,
           0.2607019543647766,
           -0.06758060306310654
          ],
          [
           -0.03573545068502426,
           0.1172005906701088,
           0.03012992814183235,
           -0.06077408418059349,
           0.062138255685567856,
           -0.29478684067726135,
           0.2062867432832718,
           -0.3760906755924225,
           0.09889665991067886,
           -0.010439794510602951,
           0.13452905416488647,
           0.2292586863040924,
           0.036033544689416885,
           -0.18974362313747406,
           -0.16073362529277802,
           0.014583354815840721,
           0.0011901531834155321,
           0.9999999403953552,
           -0.1464151293039322,
           0.11793935298919678
          ],
          [
           0.11408523470163345,
           0.13244056701660156,
           -0.13577277958393097,
           0.1702701300382614,
           -0.06622821092605591,
           0.06007687747478485,
           -0.27103447914123535,
           -0.09633831679821014,
           -0.19436459243297577,
           0.07888218760490417,
           0.10850983113050461,
           -0.004195763263851404,
           0.05431576073169708,
           -0.018520142883062363,
           -0.0673181563615799,
           0.02000519260764122,
           0.2607019543647766,
           -0.1464151293039322,
           0.9999999403953552,
           -0.33901503682136536
          ],
          [
           -0.15516817569732666,
           -0.1645488440990448,
           0.22457121312618256,
           -0.11254502087831497,
           -0.027815883979201317,
           0.0075004734098911285,
           0.2521331310272217,
           -0.07880356907844543,
           0.141269251704216,
           0.06391430646181107,
           -0.3375362455844879,
           -0.030954012647271156,
           0.25178053975105286,
           -0.08295154571533203,
           -0.09759635478258133,
           -0.18757691979408264,
           -0.06758060306310654,
           0.11793935298919678,
           -0.33901503682136536,
           0.9999999403953552
          ]
         ]
        }
       ],
       "layout": {
        "coloraxis": {
         "colorscale": [
          [
           0,
           "#440154"
          ],
          [
           0.1111111111111111,
           "#482878"
          ],
          [
           0.2222222222222222,
           "#3e4989"
          ],
          [
           0.3333333333333333,
           "#31688e"
          ],
          [
           0.4444444444444444,
           "#26828e"
          ],
          [
           0.5555555555555556,
           "#1f9e89"
          ],
          [
           0.6666666666666666,
           "#35b779"
          ],
          [
           0.7777777777777778,
           "#6ece58"
          ],
          [
           0.8888888888888888,
           "#b5de2b"
          ],
          [
           1,
           "#fde725"
          ]
         ]
        },
        "template": {
         "data": {
          "bar": [
           {
            "error_x": {
             "color": "#2a3f5f"
            },
            "error_y": {
             "color": "#2a3f5f"
            },
            "marker": {
             "line": {
              "color": "#E5ECF6",
              "width": 0.5
             },
             "pattern": {
              "fillmode": "overlay",
              "size": 10,
              "solidity": 0.2
             }
            },
            "type": "bar"
           }
          ],
          "barpolar": [
           {
            "marker": {
             "line": {
              "color": "#E5ECF6",
              "width": 0.5
             },
             "pattern": {
              "fillmode": "overlay",
              "size": 10,
              "solidity": 0.2
             }
            },
            "type": "barpolar"
           }
          ],
          "carpet": [
           {
            "aaxis": {
             "endlinecolor": "#2a3f5f",
             "gridcolor": "white",
             "linecolor": "white",
             "minorgridcolor": "white",
             "startlinecolor": "#2a3f5f"
            },
            "baxis": {
             "endlinecolor": "#2a3f5f",
             "gridcolor": "white",
             "linecolor": "white",
             "minorgridcolor": "white",
             "startlinecolor": "#2a3f5f"
            },
            "type": "carpet"
           }
          ],
          "choropleth": [
           {
            "colorbar": {
             "outlinewidth": 0,
             "ticks": ""
            },
            "type": "choropleth"
           }
          ],
          "contour": [
           {
            "colorbar": {
             "outlinewidth": 0,
             "ticks": ""
            },
            "colorscale": [
             [
              0,
              "#0d0887"
             ],
             [
              0.1111111111111111,
              "#46039f"
             ],
             [
              0.2222222222222222,
              "#7201a8"
             ],
             [
              0.3333333333333333,
              "#9c179e"
             ],
             [
              0.4444444444444444,
              "#bd3786"
             ],
             [
              0.5555555555555556,
              "#d8576b"
             ],
             [
              0.6666666666666666,
              "#ed7953"
             ],
             [
              0.7777777777777778,
              "#fb9f3a"
             ],
             [
              0.8888888888888888,
              "#fdca26"
             ],
             [
              1,
              "#f0f921"
             ]
            ],
            "type": "contour"
           }
          ],
          "contourcarpet": [
           {
            "colorbar": {
             "outlinewidth": 0,
             "ticks": ""
            },
            "type": "contourcarpet"
           }
          ],
          "heatmap": [
           {
            "colorbar": {
             "outlinewidth": 0,
             "ticks": ""
            },
            "colorscale": [
             [
              0,
              "#0d0887"
             ],
             [
              0.1111111111111111,
              "#46039f"
             ],
             [
              0.2222222222222222,
              "#7201a8"
             ],
             [
              0.3333333333333333,
              "#9c179e"
             ],
             [
              0.4444444444444444,
              "#bd3786"
             ],
             [
              0.5555555555555556,
              "#d8576b"
             ],
             [
              0.6666666666666666,
              "#ed7953"
             ],
             [
              0.7777777777777778,
              "#fb9f3a"
             ],
             [
              0.8888888888888888,
              "#fdca26"
             ],
             [
              1,
              "#f0f921"
             ]
            ],
            "type": "heatmap"
           }
          ],
          "heatmapgl": [
           {
            "colorbar": {
             "outlinewidth": 0,
             "ticks": ""
            },
            "colorscale": [
             [
              0,
              "#0d0887"
             ],
             [
              0.1111111111111111,
              "#46039f"
             ],
             [
              0.2222222222222222,
              "#7201a8"
             ],
             [
              0.3333333333333333,
              "#9c179e"
             ],
             [
              0.4444444444444444,
              "#bd3786"
             ],
             [
              0.5555555555555556,
              "#d8576b"
             ],
             [
              0.6666666666666666,
              "#ed7953"
             ],
             [
              0.7777777777777778,
              "#fb9f3a"
             ],
             [
              0.8888888888888888,
              "#fdca26"
             ],
             [
              1,
              "#f0f921"
             ]
            ],
            "type": "heatmapgl"
           }
          ],
          "histogram": [
           {
            "marker": {
             "pattern": {
              "fillmode": "overlay",
              "size": 10,
              "solidity": 0.2
             }
            },
            "type": "histogram"
           }
          ],
          "histogram2d": [
           {
            "colorbar": {
             "outlinewidth": 0,
             "ticks": ""
            },
            "colorscale": [
             [
              0,
              "#0d0887"
             ],
             [
              0.1111111111111111,
              "#46039f"
             ],
             [
              0.2222222222222222,
              "#7201a8"
             ],
             [
              0.3333333333333333,
              "#9c179e"
             ],
             [
              0.4444444444444444,
              "#bd3786"
             ],
             [
              0.5555555555555556,
              "#d8576b"
             ],
             [
              0.6666666666666666,
              "#ed7953"
             ],
             [
              0.7777777777777778,
              "#fb9f3a"
             ],
             [
              0.8888888888888888,
              "#fdca26"
             ],
             [
              1,
              "#f0f921"
             ]
            ],
            "type": "histogram2d"
           }
          ],
          "histogram2dcontour": [
           {
            "colorbar": {
             "outlinewidth": 0,
             "ticks": ""
            },
            "colorscale": [
             [
              0,
              "#0d0887"
             ],
             [
              0.1111111111111111,
              "#46039f"
             ],
             [
              0.2222222222222222,
              "#7201a8"
             ],
             [
              0.3333333333333333,
              "#9c179e"
             ],
             [
              0.4444444444444444,
              "#bd3786"
             ],
             [
              0.5555555555555556,
              "#d8576b"
             ],
             [
              0.6666666666666666,
              "#ed7953"
             ],
             [
              0.7777777777777778,
              "#fb9f3a"
             ],
             [
              0.8888888888888888,
              "#fdca26"
             ],
             [
              1,
              "#f0f921"
             ]
            ],
            "type": "histogram2dcontour"
           }
          ],
          "mesh3d": [
           {
            "colorbar": {
             "outlinewidth": 0,
             "ticks": ""
            },
            "type": "mesh3d"
           }
          ],
          "parcoords": [
           {
            "line": {
             "colorbar": {
              "outlinewidth": 0,
              "ticks": ""
             }
            },
            "type": "parcoords"
           }
          ],
          "pie": [
           {
            "automargin": true,
            "type": "pie"
           }
          ],
          "scatter": [
           {
            "fillpattern": {
             "fillmode": "overlay",
             "size": 10,
             "solidity": 0.2
            },
            "type": "scatter"
           }
          ],
          "scatter3d": [
           {
            "line": {
             "colorbar": {
              "outlinewidth": 0,
              "ticks": ""
             }
            },
            "marker": {
             "colorbar": {
              "outlinewidth": 0,
              "ticks": ""
             }
            },
            "type": "scatter3d"
           }
          ],
          "scattercarpet": [
           {
            "marker": {
             "colorbar": {
              "outlinewidth": 0,
              "ticks": ""
             }
            },
            "type": "scattercarpet"
           }
          ],
          "scattergeo": [
           {
            "marker": {
             "colorbar": {
              "outlinewidth": 0,
              "ticks": ""
             }
            },
            "type": "scattergeo"
           }
          ],
          "scattergl": [
           {
            "marker": {
             "colorbar": {
              "outlinewidth": 0,
              "ticks": ""
             }
            },
            "type": "scattergl"
           }
          ],
          "scattermapbox": [
           {
            "marker": {
             "colorbar": {
              "outlinewidth": 0,
              "ticks": ""
             }
            },
            "type": "scattermapbox"
           }
          ],
          "scatterpolar": [
           {
            "marker": {
             "colorbar": {
              "outlinewidth": 0,
              "ticks": ""
             }
            },
            "type": "scatterpolar"
           }
          ],
          "scatterpolargl": [
           {
            "marker": {
             "colorbar": {
              "outlinewidth": 0,
              "ticks": ""
             }
            },
            "type": "scatterpolargl"
           }
          ],
          "scatterternary": [
           {
            "marker": {
             "colorbar": {
              "outlinewidth": 0,
              "ticks": ""
             }
            },
            "type": "scatterternary"
           }
          ],
          "surface": [
           {
            "colorbar": {
             "outlinewidth": 0,
             "ticks": ""
            },
            "colorscale": [
             [
              0,
              "#0d0887"
             ],
             [
              0.1111111111111111,
              "#46039f"
             ],
             [
              0.2222222222222222,
              "#7201a8"
             ],
             [
              0.3333333333333333,
              "#9c179e"
             ],
             [
              0.4444444444444444,
              "#bd3786"
             ],
             [
              0.5555555555555556,
              "#d8576b"
             ],
             [
              0.6666666666666666,
              "#ed7953"
             ],
             [
              0.7777777777777778,
              "#fb9f3a"
             ],
             [
              0.8888888888888888,
              "#fdca26"
             ],
             [
              1,
              "#f0f921"
             ]
            ],
            "type": "surface"
           }
          ],
          "table": [
           {
            "cells": {
             "fill": {
              "color": "#EBF0F8"
             },
             "line": {
              "color": "white"
             }
            },
            "header": {
             "fill": {
              "color": "#C8D4E3"
             },
             "line": {
              "color": "white"
             }
            },
            "type": "table"
           }
          ]
         },
         "layout": {
          "annotationdefaults": {
           "arrowcolor": "#2a3f5f",
           "arrowhead": 0,
           "arrowwidth": 1
          },
          "autotypenumbers": "strict",
          "coloraxis": {
           "colorbar": {
            "outlinewidth": 0,
            "ticks": ""
           }
          },
          "colorscale": {
           "diverging": [
            [
             0,
             "#8e0152"
            ],
            [
             0.1,
             "#c51b7d"
            ],
            [
             0.2,
             "#de77ae"
            ],
            [
             0.3,
             "#f1b6da"
            ],
            [
             0.4,
             "#fde0ef"
            ],
            [
             0.5,
             "#f7f7f7"
            ],
            [
             0.6,
             "#e6f5d0"
            ],
            [
             0.7,
             "#b8e186"
            ],
            [
             0.8,
             "#7fbc41"
            ],
            [
             0.9,
             "#4d9221"
            ],
            [
             1,
             "#276419"
            ]
           ],
           "sequential": [
            [
             0,
             "#0d0887"
            ],
            [
             0.1111111111111111,
             "#46039f"
            ],
            [
             0.2222222222222222,
             "#7201a8"
            ],
            [
             0.3333333333333333,
             "#9c179e"
            ],
            [
             0.4444444444444444,
             "#bd3786"
            ],
            [
             0.5555555555555556,
             "#d8576b"
            ],
            [
             0.6666666666666666,
             "#ed7953"
            ],
            [
             0.7777777777777778,
             "#fb9f3a"
            ],
            [
             0.8888888888888888,
             "#fdca26"
            ],
            [
             1,
             "#f0f921"
            ]
           ],
           "sequentialminus": [
            [
             0,
             "#0d0887"
            ],
            [
             0.1111111111111111,
             "#46039f"
            ],
            [
             0.2222222222222222,
             "#7201a8"
            ],
            [
             0.3333333333333333,
             "#9c179e"
            ],
            [
             0.4444444444444444,
             "#bd3786"
            ],
            [
             0.5555555555555556,
             "#d8576b"
            ],
            [
             0.6666666666666666,
             "#ed7953"
            ],
            [
             0.7777777777777778,
             "#fb9f3a"
            ],
            [
             0.8888888888888888,
             "#fdca26"
            ],
            [
             1,
             "#f0f921"
            ]
           ]
          },
          "colorway": [
           "#636efa",
           "#EF553B",
           "#00cc96",
           "#ab63fa",
           "#FFA15A",
           "#19d3f3",
           "#FF6692",
           "#B6E880",
           "#FF97FF",
           "#FECB52"
          ],
          "font": {
           "color": "#2a3f5f"
          },
          "geo": {
           "bgcolor": "white",
           "lakecolor": "white",
           "landcolor": "#E5ECF6",
           "showlakes": true,
           "showland": true,
           "subunitcolor": "white"
          },
          "hoverlabel": {
           "align": "left"
          },
          "hovermode": "closest",
          "mapbox": {
           "style": "light"
          },
          "paper_bgcolor": "white",
          "plot_bgcolor": "#E5ECF6",
          "polar": {
           "angularaxis": {
            "gridcolor": "white",
            "linecolor": "white",
            "ticks": ""
           },
           "bgcolor": "#E5ECF6",
           "radialaxis": {
            "gridcolor": "white",
            "linecolor": "white",
            "ticks": ""
           }
          },
          "scene": {
           "xaxis": {
            "backgroundcolor": "#E5ECF6",
            "gridcolor": "white",
            "gridwidth": 2,
            "linecolor": "white",
            "showbackground": true,
            "ticks": "",
            "zerolinecolor": "white"
           },
           "yaxis": {
            "backgroundcolor": "#E5ECF6",
            "gridcolor": "white",
            "gridwidth": 2,
            "linecolor": "white",
            "showbackground": true,
            "ticks": "",
            "zerolinecolor": "white"
           },
           "zaxis": {
            "backgroundcolor": "#E5ECF6",
            "gridcolor": "white",
            "gridwidth": 2,
            "linecolor": "white",
            "showbackground": true,
            "ticks": "",
            "zerolinecolor": "white"
           }
          },
          "shapedefaults": {
           "line": {
            "color": "#2a3f5f"
           }
          },
          "ternary": {
           "aaxis": {
            "gridcolor": "white",
            "linecolor": "white",
            "ticks": ""
           },
           "baxis": {
            "gridcolor": "white",
            "linecolor": "white",
            "ticks": ""
           },
           "bgcolor": "#E5ECF6",
           "caxis": {
            "gridcolor": "white",
            "linecolor": "white",
            "ticks": ""
           }
          },
          "title": {
           "x": 0.05
          },
          "xaxis": {
           "automargin": true,
           "gridcolor": "white",
           "linecolor": "white",
           "ticks": "",
           "title": {
            "standoff": 15
           },
           "zerolinecolor": "white",
           "zerolinewidth": 2
          },
          "yaxis": {
           "automargin": true,
           "gridcolor": "white",
           "linecolor": "white",
           "ticks": "",
           "title": {
            "standoff": 15
           },
           "zerolinecolor": "white",
           "zerolinewidth": 2
          }
         }
        },
        "title": {
         "text": "Pairwise Cosine Similarity Heatmap"
        },
        "xaxis": {
         "anchor": "y",
         "constrain": "domain",
         "domain": [
          0,
          1
         ],
         "scaleanchor": "y"
        },
        "yaxis": {
         "anchor": "x",
         "autorange": "reversed",
         "constrain": "domain",
         "domain": [
          0,
          1
         ]
        }
       }
      }
     },
     "metadata": {},
     "output_type": "display_data"
    },
    {
     "data": {
      "application/vnd.plotly.v1+json": {
       "config": {
        "plotlyServerURL": "https://plotly.com"
       },
       "data": [
        {
         "coloraxis": "coloraxis",
         "hovertemplate": "x: %{x}<br>y: %{y}<br>color: %{z}<extra></extra>",
         "name": "0",
         "type": "heatmap",
         "xaxis": "x",
         "yaxis": "y",
         "z": [
          [
           0,
           0,
           0,
           0,
           0,
           0,
           0
          ],
          [
           2,
           2,
           2,
           2,
           2,
           2,
           2
          ],
          [
           2,
           5,
           1,
           1,
           1,
           6,
           2
          ],
          [
           0,
           2,
           2,
           1,
           2,
           2,
           0
          ],
          [
           0,
           2,
           1,
           1,
           1,
           2,
           0
          ],
          [
           0,
           2,
           1,
           1,
           1,
           2,
           0
          ],
          [
           0,
           2,
           5,
           1,
           1,
           2,
           0
          ]
         ]
        }
       ],
       "layout": {
        "coloraxis": {
         "colorscale": [
          [
           0,
           "#0d0887"
          ],
          [
           0.1111111111111111,
           "#46039f"
          ],
          [
           0.2222222222222222,
           "#7201a8"
          ],
          [
           0.3333333333333333,
           "#9c179e"
          ],
          [
           0.4444444444444444,
           "#bd3786"
          ],
          [
           0.5555555555555556,
           "#d8576b"
          ],
          [
           0.6666666666666666,
           "#ed7953"
          ],
          [
           0.7777777777777778,
           "#fb9f3a"
          ],
          [
           0.8888888888888888,
           "#fdca26"
          ],
          [
           1,
           "#f0f921"
          ]
         ]
        },
        "margin": {
         "t": 60
        },
        "template": {
         "data": {
          "bar": [
           {
            "error_x": {
             "color": "#2a3f5f"
            },
            "error_y": {
             "color": "#2a3f5f"
            },
            "marker": {
             "line": {
              "color": "#E5ECF6",
              "width": 0.5
             },
             "pattern": {
              "fillmode": "overlay",
              "size": 10,
              "solidity": 0.2
             }
            },
            "type": "bar"
           }
          ],
          "barpolar": [
           {
            "marker": {
             "line": {
              "color": "#E5ECF6",
              "width": 0.5
             },
             "pattern": {
              "fillmode": "overlay",
              "size": 10,
              "solidity": 0.2
             }
            },
            "type": "barpolar"
           }
          ],
          "carpet": [
           {
            "aaxis": {
             "endlinecolor": "#2a3f5f",
             "gridcolor": "white",
             "linecolor": "white",
             "minorgridcolor": "white",
             "startlinecolor": "#2a3f5f"
            },
            "baxis": {
             "endlinecolor": "#2a3f5f",
             "gridcolor": "white",
             "linecolor": "white",
             "minorgridcolor": "white",
             "startlinecolor": "#2a3f5f"
            },
            "type": "carpet"
           }
          ],
          "choropleth": [
           {
            "colorbar": {
             "outlinewidth": 0,
             "ticks": ""
            },
            "type": "choropleth"
           }
          ],
          "contour": [
           {
            "colorbar": {
             "outlinewidth": 0,
             "ticks": ""
            },
            "colorscale": [
             [
              0,
              "#0d0887"
             ],
             [
              0.1111111111111111,
              "#46039f"
             ],
             [
              0.2222222222222222,
              "#7201a8"
             ],
             [
              0.3333333333333333,
              "#9c179e"
             ],
             [
              0.4444444444444444,
              "#bd3786"
             ],
             [
              0.5555555555555556,
              "#d8576b"
             ],
             [
              0.6666666666666666,
              "#ed7953"
             ],
             [
              0.7777777777777778,
              "#fb9f3a"
             ],
             [
              0.8888888888888888,
              "#fdca26"
             ],
             [
              1,
              "#f0f921"
             ]
            ],
            "type": "contour"
           }
          ],
          "contourcarpet": [
           {
            "colorbar": {
             "outlinewidth": 0,
             "ticks": ""
            },
            "type": "contourcarpet"
           }
          ],
          "heatmap": [
           {
            "colorbar": {
             "outlinewidth": 0,
             "ticks": ""
            },
            "colorscale": [
             [
              0,
              "#0d0887"
             ],
             [
              0.1111111111111111,
              "#46039f"
             ],
             [
              0.2222222222222222,
              "#7201a8"
             ],
             [
              0.3333333333333333,
              "#9c179e"
             ],
             [
              0.4444444444444444,
              "#bd3786"
             ],
             [
              0.5555555555555556,
              "#d8576b"
             ],
             [
              0.6666666666666666,
              "#ed7953"
             ],
             [
              0.7777777777777778,
              "#fb9f3a"
             ],
             [
              0.8888888888888888,
              "#fdca26"
             ],
             [
              1,
              "#f0f921"
             ]
            ],
            "type": "heatmap"
           }
          ],
          "heatmapgl": [
           {
            "colorbar": {
             "outlinewidth": 0,
             "ticks": ""
            },
            "colorscale": [
             [
              0,
              "#0d0887"
             ],
             [
              0.1111111111111111,
              "#46039f"
             ],
             [
              0.2222222222222222,
              "#7201a8"
             ],
             [
              0.3333333333333333,
              "#9c179e"
             ],
             [
              0.4444444444444444,
              "#bd3786"
             ],
             [
              0.5555555555555556,
              "#d8576b"
             ],
             [
              0.6666666666666666,
              "#ed7953"
             ],
             [
              0.7777777777777778,
              "#fb9f3a"
             ],
             [
              0.8888888888888888,
              "#fdca26"
             ],
             [
              1,
              "#f0f921"
             ]
            ],
            "type": "heatmapgl"
           }
          ],
          "histogram": [
           {
            "marker": {
             "pattern": {
              "fillmode": "overlay",
              "size": 10,
              "solidity": 0.2
             }
            },
            "type": "histogram"
           }
          ],
          "histogram2d": [
           {
            "colorbar": {
             "outlinewidth": 0,
             "ticks": ""
            },
            "colorscale": [
             [
              0,
              "#0d0887"
             ],
             [
              0.1111111111111111,
              "#46039f"
             ],
             [
              0.2222222222222222,
              "#7201a8"
             ],
             [
              0.3333333333333333,
              "#9c179e"
             ],
             [
              0.4444444444444444,
              "#bd3786"
             ],
             [
              0.5555555555555556,
              "#d8576b"
             ],
             [
              0.6666666666666666,
              "#ed7953"
             ],
             [
              0.7777777777777778,
              "#fb9f3a"
             ],
             [
              0.8888888888888888,
              "#fdca26"
             ],
             [
              1,
              "#f0f921"
             ]
            ],
            "type": "histogram2d"
           }
          ],
          "histogram2dcontour": [
           {
            "colorbar": {
             "outlinewidth": 0,
             "ticks": ""
            },
            "colorscale": [
             [
              0,
              "#0d0887"
             ],
             [
              0.1111111111111111,
              "#46039f"
             ],
             [
              0.2222222222222222,
              "#7201a8"
             ],
             [
              0.3333333333333333,
              "#9c179e"
             ],
             [
              0.4444444444444444,
              "#bd3786"
             ],
             [
              0.5555555555555556,
              "#d8576b"
             ],
             [
              0.6666666666666666,
              "#ed7953"
             ],
             [
              0.7777777777777778,
              "#fb9f3a"
             ],
             [
              0.8888888888888888,
              "#fdca26"
             ],
             [
              1,
              "#f0f921"
             ]
            ],
            "type": "histogram2dcontour"
           }
          ],
          "mesh3d": [
           {
            "colorbar": {
             "outlinewidth": 0,
             "ticks": ""
            },
            "type": "mesh3d"
           }
          ],
          "parcoords": [
           {
            "line": {
             "colorbar": {
              "outlinewidth": 0,
              "ticks": ""
             }
            },
            "type": "parcoords"
           }
          ],
          "pie": [
           {
            "automargin": true,
            "type": "pie"
           }
          ],
          "scatter": [
           {
            "fillpattern": {
             "fillmode": "overlay",
             "size": 10,
             "solidity": 0.2
            },
            "type": "scatter"
           }
          ],
          "scatter3d": [
           {
            "line": {
             "colorbar": {
              "outlinewidth": 0,
              "ticks": ""
             }
            },
            "marker": {
             "colorbar": {
              "outlinewidth": 0,
              "ticks": ""
             }
            },
            "type": "scatter3d"
           }
          ],
          "scattercarpet": [
           {
            "marker": {
             "colorbar": {
              "outlinewidth": 0,
              "ticks": ""
             }
            },
            "type": "scattercarpet"
           }
          ],
          "scattergeo": [
           {
            "marker": {
             "colorbar": {
              "outlinewidth": 0,
              "ticks": ""
             }
            },
            "type": "scattergeo"
           }
          ],
          "scattergl": [
           {
            "marker": {
             "colorbar": {
              "outlinewidth": 0,
              "ticks": ""
             }
            },
            "type": "scattergl"
           }
          ],
          "scattermapbox": [
           {
            "marker": {
             "colorbar": {
              "outlinewidth": 0,
              "ticks": ""
             }
            },
            "type": "scattermapbox"
           }
          ],
          "scatterpolar": [
           {
            "marker": {
             "colorbar": {
              "outlinewidth": 0,
              "ticks": ""
             }
            },
            "type": "scatterpolar"
           }
          ],
          "scatterpolargl": [
           {
            "marker": {
             "colorbar": {
              "outlinewidth": 0,
              "ticks": ""
             }
            },
            "type": "scatterpolargl"
           }
          ],
          "scatterternary": [
           {
            "marker": {
             "colorbar": {
              "outlinewidth": 0,
              "ticks": ""
             }
            },
            "type": "scatterternary"
           }
          ],
          "surface": [
           {
            "colorbar": {
             "outlinewidth": 0,
             "ticks": ""
            },
            "colorscale": [
             [
              0,
              "#0d0887"
             ],
             [
              0.1111111111111111,
              "#46039f"
             ],
             [
              0.2222222222222222,
              "#7201a8"
             ],
             [
              0.3333333333333333,
              "#9c179e"
             ],
             [
              0.4444444444444444,
              "#bd3786"
             ],
             [
              0.5555555555555556,
              "#d8576b"
             ],
             [
              0.6666666666666666,
              "#ed7953"
             ],
             [
              0.7777777777777778,
              "#fb9f3a"
             ],
             [
              0.8888888888888888,
              "#fdca26"
             ],
             [
              1,
              "#f0f921"
             ]
            ],
            "type": "surface"
           }
          ],
          "table": [
           {
            "cells": {
             "fill": {
              "color": "#EBF0F8"
             },
             "line": {
              "color": "white"
             }
            },
            "header": {
             "fill": {
              "color": "#C8D4E3"
             },
             "line": {
              "color": "white"
             }
            },
            "type": "table"
           }
          ]
         },
         "layout": {
          "annotationdefaults": {
           "arrowcolor": "#2a3f5f",
           "arrowhead": 0,
           "arrowwidth": 1
          },
          "autotypenumbers": "strict",
          "coloraxis": {
           "colorbar": {
            "outlinewidth": 0,
            "ticks": ""
           }
          },
          "colorscale": {
           "diverging": [
            [
             0,
             "#8e0152"
            ],
            [
             0.1,
             "#c51b7d"
            ],
            [
             0.2,
             "#de77ae"
            ],
            [
             0.3,
             "#f1b6da"
            ],
            [
             0.4,
             "#fde0ef"
            ],
            [
             0.5,
             "#f7f7f7"
            ],
            [
             0.6,
             "#e6f5d0"
            ],
            [
             0.7,
             "#b8e186"
            ],
            [
             0.8,
             "#7fbc41"
            ],
            [
             0.9,
             "#4d9221"
            ],
            [
             1,
             "#276419"
            ]
           ],
           "sequential": [
            [
             0,
             "#0d0887"
            ],
            [
             0.1111111111111111,
             "#46039f"
            ],
            [
             0.2222222222222222,
             "#7201a8"
            ],
            [
             0.3333333333333333,
             "#9c179e"
            ],
            [
             0.4444444444444444,
             "#bd3786"
            ],
            [
             0.5555555555555556,
             "#d8576b"
            ],
            [
             0.6666666666666666,
             "#ed7953"
            ],
            [
             0.7777777777777778,
             "#fb9f3a"
            ],
            [
             0.8888888888888888,
             "#fdca26"
            ],
            [
             1,
             "#f0f921"
            ]
           ],
           "sequentialminus": [
            [
             0,
             "#0d0887"
            ],
            [
             0.1111111111111111,
             "#46039f"
            ],
            [
             0.2222222222222222,
             "#7201a8"
            ],
            [
             0.3333333333333333,
             "#9c179e"
            ],
            [
             0.4444444444444444,
             "#bd3786"
            ],
            [
             0.5555555555555556,
             "#d8576b"
            ],
            [
             0.6666666666666666,
             "#ed7953"
            ],
            [
             0.7777777777777778,
             "#fb9f3a"
            ],
            [
             0.8888888888888888,
             "#fdca26"
            ],
            [
             1,
             "#f0f921"
            ]
           ]
          },
          "colorway": [
           "#636efa",
           "#EF553B",
           "#00cc96",
           "#ab63fa",
           "#FFA15A",
           "#19d3f3",
           "#FF6692",
           "#B6E880",
           "#FF97FF",
           "#FECB52"
          ],
          "font": {
           "color": "#2a3f5f"
          },
          "geo": {
           "bgcolor": "white",
           "lakecolor": "white",
           "landcolor": "#E5ECF6",
           "showlakes": true,
           "showland": true,
           "subunitcolor": "white"
          },
          "hoverlabel": {
           "align": "left"
          },
          "hovermode": "closest",
          "mapbox": {
           "style": "light"
          },
          "paper_bgcolor": "white",
          "plot_bgcolor": "#E5ECF6",
          "polar": {
           "angularaxis": {
            "gridcolor": "white",
            "linecolor": "white",
            "ticks": ""
           },
           "bgcolor": "#E5ECF6",
           "radialaxis": {
            "gridcolor": "white",
            "linecolor": "white",
            "ticks": ""
           }
          },
          "scene": {
           "xaxis": {
            "backgroundcolor": "#E5ECF6",
            "gridcolor": "white",
            "gridwidth": 2,
            "linecolor": "white",
            "showbackground": true,
            "ticks": "",
            "zerolinecolor": "white"
           },
           "yaxis": {
            "backgroundcolor": "#E5ECF6",
            "gridcolor": "white",
            "gridwidth": 2,
            "linecolor": "white",
            "showbackground": true,
            "ticks": "",
            "zerolinecolor": "white"
           },
           "zaxis": {
            "backgroundcolor": "#E5ECF6",
            "gridcolor": "white",
            "gridwidth": 2,
            "linecolor": "white",
            "showbackground": true,
            "ticks": "",
            "zerolinecolor": "white"
           }
          },
          "shapedefaults": {
           "line": {
            "color": "#2a3f5f"
           }
          },
          "ternary": {
           "aaxis": {
            "gridcolor": "white",
            "linecolor": "white",
            "ticks": ""
           },
           "baxis": {
            "gridcolor": "white",
            "linecolor": "white",
            "ticks": ""
           },
           "bgcolor": "#E5ECF6",
           "caxis": {
            "gridcolor": "white",
            "linecolor": "white",
            "ticks": ""
           }
          },
          "title": {
           "x": 0.05
          },
          "xaxis": {
           "automargin": true,
           "gridcolor": "white",
           "linecolor": "white",
           "ticks": "",
           "title": {
            "standoff": 15
           },
           "zerolinecolor": "white",
           "zerolinewidth": 2
          },
          "yaxis": {
           "automargin": true,
           "gridcolor": "white",
           "linecolor": "white",
           "ticks": "",
           "title": {
            "standoff": 15
           },
           "zerolinecolor": "white",
           "zerolinewidth": 2
          }
         }
        },
        "xaxis": {
         "anchor": "y",
         "constrain": "domain",
         "domain": [
          0,
          1
         ],
         "scaleanchor": "y"
        },
        "yaxis": {
         "anchor": "x",
         "autorange": "reversed",
         "constrain": "domain",
         "domain": [
          0,
          1
         ]
        }
       }
      }
     },
     "metadata": {},
     "output_type": "display_data"
    },
    {
     "data": {
      "application/vnd.plotly.v1+json": {
       "config": {
        "plotlyServerURL": "https://plotly.com"
       },
       "data": [
        {
         "coloraxis": "coloraxis",
         "hovertemplate": "x: %{x}<br>y: %{y}<br>color: %{z}<extra></extra>",
         "name": "0",
         "type": "heatmap",
         "x": [
          0,
          1,
          2,
          3,
          4,
          5,
          6
         ],
         "xaxis": "x",
         "y": [
          0,
          1,
          2,
          3,
          4,
          5,
          6
         ],
         "yaxis": "y",
         "z": [
          [
           0.7018851637840271,
           0.7943507432937622,
           0.832658052444458,
           0.7928328514099121,
           0.7199041843414307,
           0.669539749622345,
           0.6777454614639282
          ],
          [
           0.7342998385429382,
           0.8119341135025024,
           1,
           0.8270022869110107,
           0.7740361094474792,
           0.7382413148880005,
           0.7469751834869385
          ],
          [
           0.7162016034126282,
           0.7849187254905701,
           0.85936439037323,
           0.7992411255836487,
           0.772067666053772,
           0.734245777130127,
           0.8379497528076172
          ],
          [
           0.667106568813324,
           0.740052342414856,
           0.8307632207870483,
           0.8021408915519714,
           0.7409560680389404,
           0.7019236087799072,
           0.7153918743133545
          ],
          [
           0.6291294097900391,
           0.7140289545059204,
           0.8187110424041748,
           0.7288378477096558,
           0.7249088883399963,
           0.6841945648193359,
           0.6984269022941589
          ],
          [
           0.6324527263641357,
           0.7255066633224487,
           0.8268243074417114,
           0.7409310340881348,
           0.6836546659469604,
           0.6445100903511047,
           0.6539292335510254
          ],
          [
           0.6667583584785461,
           0.7517750263214111,
           0.7897876501083374,
           0.7561314105987549,
           0.6844794750213623,
           0.6350305080413818,
           0.6432076096534729
          ]
         ]
        }
       ],
       "layout": {
        "coloraxis": {
         "colorscale": [
          [
           0,
           "#440154"
          ],
          [
           0.1111111111111111,
           "#482878"
          ],
          [
           0.2222222222222222,
           "#3e4989"
          ],
          [
           0.3333333333333333,
           "#31688e"
          ],
          [
           0.4444444444444444,
           "#26828e"
          ],
          [
           0.5555555555555556,
           "#1f9e89"
          ],
          [
           0.6666666666666666,
           "#35b779"
          ],
          [
           0.7777777777777778,
           "#6ece58"
          ],
          [
           0.8888888888888888,
           "#b5de2b"
          ],
          [
           1,
           "#fde725"
          ]
         ]
        },
        "template": {
         "data": {
          "bar": [
           {
            "error_x": {
             "color": "#2a3f5f"
            },
            "error_y": {
             "color": "#2a3f5f"
            },
            "marker": {
             "line": {
              "color": "#E5ECF6",
              "width": 0.5
             },
             "pattern": {
              "fillmode": "overlay",
              "size": 10,
              "solidity": 0.2
             }
            },
            "type": "bar"
           }
          ],
          "barpolar": [
           {
            "marker": {
             "line": {
              "color": "#E5ECF6",
              "width": 0.5
             },
             "pattern": {
              "fillmode": "overlay",
              "size": 10,
              "solidity": 0.2
             }
            },
            "type": "barpolar"
           }
          ],
          "carpet": [
           {
            "aaxis": {
             "endlinecolor": "#2a3f5f",
             "gridcolor": "white",
             "linecolor": "white",
             "minorgridcolor": "white",
             "startlinecolor": "#2a3f5f"
            },
            "baxis": {
             "endlinecolor": "#2a3f5f",
             "gridcolor": "white",
             "linecolor": "white",
             "minorgridcolor": "white",
             "startlinecolor": "#2a3f5f"
            },
            "type": "carpet"
           }
          ],
          "choropleth": [
           {
            "colorbar": {
             "outlinewidth": 0,
             "ticks": ""
            },
            "type": "choropleth"
           }
          ],
          "contour": [
           {
            "colorbar": {
             "outlinewidth": 0,
             "ticks": ""
            },
            "colorscale": [
             [
              0,
              "#0d0887"
             ],
             [
              0.1111111111111111,
              "#46039f"
             ],
             [
              0.2222222222222222,
              "#7201a8"
             ],
             [
              0.3333333333333333,
              "#9c179e"
             ],
             [
              0.4444444444444444,
              "#bd3786"
             ],
             [
              0.5555555555555556,
              "#d8576b"
             ],
             [
              0.6666666666666666,
              "#ed7953"
             ],
             [
              0.7777777777777778,
              "#fb9f3a"
             ],
             [
              0.8888888888888888,
              "#fdca26"
             ],
             [
              1,
              "#f0f921"
             ]
            ],
            "type": "contour"
           }
          ],
          "contourcarpet": [
           {
            "colorbar": {
             "outlinewidth": 0,
             "ticks": ""
            },
            "type": "contourcarpet"
           }
          ],
          "heatmap": [
           {
            "colorbar": {
             "outlinewidth": 0,
             "ticks": ""
            },
            "colorscale": [
             [
              0,
              "#0d0887"
             ],
             [
              0.1111111111111111,
              "#46039f"
             ],
             [
              0.2222222222222222,
              "#7201a8"
             ],
             [
              0.3333333333333333,
              "#9c179e"
             ],
             [
              0.4444444444444444,
              "#bd3786"
             ],
             [
              0.5555555555555556,
              "#d8576b"
             ],
             [
              0.6666666666666666,
              "#ed7953"
             ],
             [
              0.7777777777777778,
              "#fb9f3a"
             ],
             [
              0.8888888888888888,
              "#fdca26"
             ],
             [
              1,
              "#f0f921"
             ]
            ],
            "type": "heatmap"
           }
          ],
          "heatmapgl": [
           {
            "colorbar": {
             "outlinewidth": 0,
             "ticks": ""
            },
            "colorscale": [
             [
              0,
              "#0d0887"
             ],
             [
              0.1111111111111111,
              "#46039f"
             ],
             [
              0.2222222222222222,
              "#7201a8"
             ],
             [
              0.3333333333333333,
              "#9c179e"
             ],
             [
              0.4444444444444444,
              "#bd3786"
             ],
             [
              0.5555555555555556,
              "#d8576b"
             ],
             [
              0.6666666666666666,
              "#ed7953"
             ],
             [
              0.7777777777777778,
              "#fb9f3a"
             ],
             [
              0.8888888888888888,
              "#fdca26"
             ],
             [
              1,
              "#f0f921"
             ]
            ],
            "type": "heatmapgl"
           }
          ],
          "histogram": [
           {
            "marker": {
             "pattern": {
              "fillmode": "overlay",
              "size": 10,
              "solidity": 0.2
             }
            },
            "type": "histogram"
           }
          ],
          "histogram2d": [
           {
            "colorbar": {
             "outlinewidth": 0,
             "ticks": ""
            },
            "colorscale": [
             [
              0,
              "#0d0887"
             ],
             [
              0.1111111111111111,
              "#46039f"
             ],
             [
              0.2222222222222222,
              "#7201a8"
             ],
             [
              0.3333333333333333,
              "#9c179e"
             ],
             [
              0.4444444444444444,
              "#bd3786"
             ],
             [
              0.5555555555555556,
              "#d8576b"
             ],
             [
              0.6666666666666666,
              "#ed7953"
             ],
             [
              0.7777777777777778,
              "#fb9f3a"
             ],
             [
              0.8888888888888888,
              "#fdca26"
             ],
             [
              1,
              "#f0f921"
             ]
            ],
            "type": "histogram2d"
           }
          ],
          "histogram2dcontour": [
           {
            "colorbar": {
             "outlinewidth": 0,
             "ticks": ""
            },
            "colorscale": [
             [
              0,
              "#0d0887"
             ],
             [
              0.1111111111111111,
              "#46039f"
             ],
             [
              0.2222222222222222,
              "#7201a8"
             ],
             [
              0.3333333333333333,
              "#9c179e"
             ],
             [
              0.4444444444444444,
              "#bd3786"
             ],
             [
              0.5555555555555556,
              "#d8576b"
             ],
             [
              0.6666666666666666,
              "#ed7953"
             ],
             [
              0.7777777777777778,
              "#fb9f3a"
             ],
             [
              0.8888888888888888,
              "#fdca26"
             ],
             [
              1,
              "#f0f921"
             ]
            ],
            "type": "histogram2dcontour"
           }
          ],
          "mesh3d": [
           {
            "colorbar": {
             "outlinewidth": 0,
             "ticks": ""
            },
            "type": "mesh3d"
           }
          ],
          "parcoords": [
           {
            "line": {
             "colorbar": {
              "outlinewidth": 0,
              "ticks": ""
             }
            },
            "type": "parcoords"
           }
          ],
          "pie": [
           {
            "automargin": true,
            "type": "pie"
           }
          ],
          "scatter": [
           {
            "fillpattern": {
             "fillmode": "overlay",
             "size": 10,
             "solidity": 0.2
            },
            "type": "scatter"
           }
          ],
          "scatter3d": [
           {
            "line": {
             "colorbar": {
              "outlinewidth": 0,
              "ticks": ""
             }
            },
            "marker": {
             "colorbar": {
              "outlinewidth": 0,
              "ticks": ""
             }
            },
            "type": "scatter3d"
           }
          ],
          "scattercarpet": [
           {
            "marker": {
             "colorbar": {
              "outlinewidth": 0,
              "ticks": ""
             }
            },
            "type": "scattercarpet"
           }
          ],
          "scattergeo": [
           {
            "marker": {
             "colorbar": {
              "outlinewidth": 0,
              "ticks": ""
             }
            },
            "type": "scattergeo"
           }
          ],
          "scattergl": [
           {
            "marker": {
             "colorbar": {
              "outlinewidth": 0,
              "ticks": ""
             }
            },
            "type": "scattergl"
           }
          ],
          "scattermapbox": [
           {
            "marker": {
             "colorbar": {
              "outlinewidth": 0,
              "ticks": ""
             }
            },
            "type": "scattermapbox"
           }
          ],
          "scatterpolar": [
           {
            "marker": {
             "colorbar": {
              "outlinewidth": 0,
              "ticks": ""
             }
            },
            "type": "scatterpolar"
           }
          ],
          "scatterpolargl": [
           {
            "marker": {
             "colorbar": {
              "outlinewidth": 0,
              "ticks": ""
             }
            },
            "type": "scatterpolargl"
           }
          ],
          "scatterternary": [
           {
            "marker": {
             "colorbar": {
              "outlinewidth": 0,
              "ticks": ""
             }
            },
            "type": "scatterternary"
           }
          ],
          "surface": [
           {
            "colorbar": {
             "outlinewidth": 0,
             "ticks": ""
            },
            "colorscale": [
             [
              0,
              "#0d0887"
             ],
             [
              0.1111111111111111,
              "#46039f"
             ],
             [
              0.2222222222222222,
              "#7201a8"
             ],
             [
              0.3333333333333333,
              "#9c179e"
             ],
             [
              0.4444444444444444,
              "#bd3786"
             ],
             [
              0.5555555555555556,
              "#d8576b"
             ],
             [
              0.6666666666666666,
              "#ed7953"
             ],
             [
              0.7777777777777778,
              "#fb9f3a"
             ],
             [
              0.8888888888888888,
              "#fdca26"
             ],
             [
              1,
              "#f0f921"
             ]
            ],
            "type": "surface"
           }
          ],
          "table": [
           {
            "cells": {
             "fill": {
              "color": "#EBF0F8"
             },
             "line": {
              "color": "white"
             }
            },
            "header": {
             "fill": {
              "color": "#C8D4E3"
             },
             "line": {
              "color": "white"
             }
            },
            "type": "table"
           }
          ]
         },
         "layout": {
          "annotationdefaults": {
           "arrowcolor": "#2a3f5f",
           "arrowhead": 0,
           "arrowwidth": 1
          },
          "autotypenumbers": "strict",
          "coloraxis": {
           "colorbar": {
            "outlinewidth": 0,
            "ticks": ""
           }
          },
          "colorscale": {
           "diverging": [
            [
             0,
             "#8e0152"
            ],
            [
             0.1,
             "#c51b7d"
            ],
            [
             0.2,
             "#de77ae"
            ],
            [
             0.3,
             "#f1b6da"
            ],
            [
             0.4,
             "#fde0ef"
            ],
            [
             0.5,
             "#f7f7f7"
            ],
            [
             0.6,
             "#e6f5d0"
            ],
            [
             0.7,
             "#b8e186"
            ],
            [
             0.8,
             "#7fbc41"
            ],
            [
             0.9,
             "#4d9221"
            ],
            [
             1,
             "#276419"
            ]
           ],
           "sequential": [
            [
             0,
             "#0d0887"
            ],
            [
             0.1111111111111111,
             "#46039f"
            ],
            [
             0.2222222222222222,
             "#7201a8"
            ],
            [
             0.3333333333333333,
             "#9c179e"
            ],
            [
             0.4444444444444444,
             "#bd3786"
            ],
            [
             0.5555555555555556,
             "#d8576b"
            ],
            [
             0.6666666666666666,
             "#ed7953"
            ],
            [
             0.7777777777777778,
             "#fb9f3a"
            ],
            [
             0.8888888888888888,
             "#fdca26"
            ],
            [
             1,
             "#f0f921"
            ]
           ],
           "sequentialminus": [
            [
             0,
             "#0d0887"
            ],
            [
             0.1111111111111111,
             "#46039f"
            ],
            [
             0.2222222222222222,
             "#7201a8"
            ],
            [
             0.3333333333333333,
             "#9c179e"
            ],
            [
             0.4444444444444444,
             "#bd3786"
            ],
            [
             0.5555555555555556,
             "#d8576b"
            ],
            [
             0.6666666666666666,
             "#ed7953"
            ],
            [
             0.7777777777777778,
             "#fb9f3a"
            ],
            [
             0.8888888888888888,
             "#fdca26"
            ],
            [
             1,
             "#f0f921"
            ]
           ]
          },
          "colorway": [
           "#636efa",
           "#EF553B",
           "#00cc96",
           "#ab63fa",
           "#FFA15A",
           "#19d3f3",
           "#FF6692",
           "#B6E880",
           "#FF97FF",
           "#FECB52"
          ],
          "font": {
           "color": "#2a3f5f"
          },
          "geo": {
           "bgcolor": "white",
           "lakecolor": "white",
           "landcolor": "#E5ECF6",
           "showlakes": true,
           "showland": true,
           "subunitcolor": "white"
          },
          "hoverlabel": {
           "align": "left"
          },
          "hovermode": "closest",
          "mapbox": {
           "style": "light"
          },
          "paper_bgcolor": "white",
          "plot_bgcolor": "#E5ECF6",
          "polar": {
           "angularaxis": {
            "gridcolor": "white",
            "linecolor": "white",
            "ticks": ""
           },
           "bgcolor": "#E5ECF6",
           "radialaxis": {
            "gridcolor": "white",
            "linecolor": "white",
            "ticks": ""
           }
          },
          "scene": {
           "xaxis": {
            "backgroundcolor": "#E5ECF6",
            "gridcolor": "white",
            "gridwidth": 2,
            "linecolor": "white",
            "showbackground": true,
            "ticks": "",
            "zerolinecolor": "white"
           },
           "yaxis": {
            "backgroundcolor": "#E5ECF6",
            "gridcolor": "white",
            "gridwidth": 2,
            "linecolor": "white",
            "showbackground": true,
            "ticks": "",
            "zerolinecolor": "white"
           },
           "zaxis": {
            "backgroundcolor": "#E5ECF6",
            "gridcolor": "white",
            "gridwidth": 2,
            "linecolor": "white",
            "showbackground": true,
            "ticks": "",
            "zerolinecolor": "white"
           }
          },
          "shapedefaults": {
           "line": {
            "color": "#2a3f5f"
           }
          },
          "ternary": {
           "aaxis": {
            "gridcolor": "white",
            "linecolor": "white",
            "ticks": ""
           },
           "baxis": {
            "gridcolor": "white",
            "linecolor": "white",
            "ticks": ""
           },
           "bgcolor": "#E5ECF6",
           "caxis": {
            "gridcolor": "white",
            "linecolor": "white",
            "ticks": ""
           }
          },
          "title": {
           "x": 0.05
          },
          "xaxis": {
           "automargin": true,
           "gridcolor": "white",
           "linecolor": "white",
           "ticks": "",
           "title": {
            "standoff": 15
           },
           "zerolinecolor": "white",
           "zerolinewidth": 2
          },
          "yaxis": {
           "automargin": true,
           "gridcolor": "white",
           "linecolor": "white",
           "ticks": "",
           "title": {
            "standoff": 15
           },
           "zerolinecolor": "white",
           "zerolinewidth": 2
          }
         }
        },
        "title": {
         "text": "Cosine Similarity Heatmap for Embedding at (2, 1)"
        },
        "xaxis": {
         "anchor": "y",
         "constrain": "domain",
         "domain": [
          0,
          1
         ],
         "scaleanchor": "y"
        },
        "yaxis": {
         "anchor": "x",
         "autorange": "reversed",
         "constrain": "domain",
         "domain": [
          0,
          1
         ]
        }
       }
      }
     },
     "metadata": {},
     "output_type": "display_data"
    },
    {
     "data": {
      "application/vnd.plotly.v1+json": {
       "config": {
        "plotlyServerURL": "https://plotly.com"
       },
       "data": [
        {
         "coloraxis": "coloraxis",
         "hovertemplate": "x: %{x}<br>y: %{y}<br>color: %{z}<extra></extra>",
         "name": "0",
         "type": "heatmap",
         "x": [
          0,
          1,
          2,
          3,
          4,
          5,
          6,
          7,
          8,
          9,
          10,
          11,
          12,
          13,
          14,
          15,
          16,
          17,
          18,
          19,
          20,
          21,
          22,
          23,
          24,
          25,
          26,
          27,
          28,
          29,
          30,
          31,
          32,
          33,
          34,
          35,
          36,
          37,
          38,
          39,
          40,
          41,
          42,
          43,
          44,
          45,
          46,
          47,
          48,
          49,
          50,
          51,
          52,
          53,
          54,
          55,
          56,
          57,
          58,
          59,
          60,
          61,
          62,
          63,
          64,
          65,
          66,
          67,
          68
         ],
         "xaxis": "x",
         "y": [
          0,
          1,
          2,
          3,
          4,
          5,
          6,
          7,
          8,
          9,
          10,
          11,
          12,
          13,
          14,
          15,
          16,
          17,
          18,
          19,
          20,
          21,
          22,
          23,
          24,
          25,
          26,
          27,
          28,
          29,
          30,
          31,
          32,
          33,
          34,
          35,
          36,
          37,
          38,
          39,
          40,
          41,
          42,
          43,
          44,
          45,
          46,
          47,
          48,
          49,
          50,
          51,
          52,
          53,
          54,
          55,
          56,
          57,
          58,
          59,
          60,
          61,
          62,
          63,
          64,
          65,
          66,
          67,
          68
         ],
         "yaxis": "y",
         "z": [
          [
           1,
           -0.007204563822597265,
           0.17462649941444397,
           -0.08336345851421356,
           -0.24558934569358826,
           -0.1166020929813385,
           -0.06982079148292542,
           0.1618756204843521,
           0.028960498049855232,
           -0.19145137071609497,
           0.2773558795452118,
           0.24679212272167206,
           -0.11637625098228455,
           0.16458116471767426,
           0.22835086286067963,
           0.14217914640903473,
           0.1325618326663971,
           -0.03573545068502426,
           0.11408523470163345,
           -0.15516817569732666,
           0.24448522925376892,
           0.1685286909341812,
           0.12727831304073334,
           0.15857014060020447,
           0.23665665090084076,
           0.2954767942428589,
           0.28867509961128235,
           0.3018592596054077,
           0.2259027063846588,
           0.18465232849121094,
           0.21594417095184326,
           0.29403072595596313,
           0.3528508245944977,
           0.34604912996292114,
           0.3703770637512207,
           0.2944205105304718,
           0.2531701326370239,
           0.28446194529533386,
           0.3625485301017761,
           0.42136862874031067,
           0.41456693410873413,
           0.4138709604740143,
           0.33791443705558777,
           0.2966640889644623,
           0.32795584201812744,
           0.4060424268245697,
           0.46486252546310425,
           0.4580608308315277,
           0.4150356352329254,
           0.3390791118144989,
           0.2978287637233734,
           0.3291205167770386,
           0.40720710158348083,
           0.4660272002220154,
           0.45922550559043884,
           0.3894154131412506,
           0.3134588897228241,
           0.2722085416316986,
           0.30350029468536377,
           0.38158687949180603,
           0.4404069781303406,
           0.43360528349876404,
           0.36971205472946167,
           0.29375550150871277,
           0.2525051236152649,
           0.28379693627357483,
           0.3618835210800171,
           0.42070361971855164,
           0.4139019250869751
          ],
          [
           -0.007204563822597265,
           0.9999999403953552,
           0.13815315067768097,
           -0.05223542079329491,
           0.17104509472846985,
           -0.18896649777889252,
           -0.36624008417129517,
           0.06723585724830627,
           -0.11024419963359833,
           0.2021247148513794,
           0.011982831172645092,
           0.12081754207611084,
           0.14592128992080688,
           0.03580627217888832,
           0.08479645103216171,
           0.055010076612234116,
           0.3520205616950989,
           0.1172005906701088,
           0.13244056701660156,
           -0.1645488440990448,
           0.006742894649505615,
           -0.023568982258439064,
           -0.02492905966937542,
           -0.0164490994066,
           -0.026004618033766747,
           -0.06298459321260452,
           -0.10822254419326782,
           0.15924635529518127,
           0.12893450260162354,
           0.12757441401481628,
           0.13605435192584991,
           0.12649887800216675,
           0.08951888978481293,
           0.04428091272711754,
           0.20339053869247437,
           0.17307865619659424,
           0.17171858251094818,
           0.1801985800266266,
           0.17064303159713745,
           0.13366304337978363,
           0.08842504024505615,
           0.09482541680335999,
           0.06451353430747986,
           0.06315344572067261,
           0.07163340598344803,
           0.06207789480686188,
           0.025097930803894997,
           -0.02014005556702614,
           -0.07237282395362854,
           -0.10268468409776688,
           -0.10404478013515472,
           -0.0955648124217987,
           -0.10512033849954605,
           -0.1421002894639969,
           -0.18733827769756317,
           -0.15181505680084229,
           -0.1821269541978836,
           -0.18348702788352966,
           -0.17500704526901245,
           -0.1845625638961792,
           -0.22154252231121063,
           -0.2667805552482605,
           -0.07882528007030487,
           -0.1091371476650238,
           -0.11049723625183105,
           -0.10201726853847504,
           -0.11157279461622238,
           -0.14855274558067322,
           -0.1937907338142395
          ],
          [
           0.17462649941444397,
           0.13815315067768097,
           0.9999999403953552,
           -0.28857797384262085,
           0.02757737785577774,
           -0.2537373900413513,
           -0.0709139034152031,
           -0.020811496302485466,
           0.005707358010113239,
           0.10723592340946198,
           -0.09270159155130386,
           -0.2230023741722107,
           -0.049918897449970245,
           -0.1536037027835846,
           -0.08852299302816391,
           -0.24112474918365479,
           0.09553121030330658,
           0.03012992814183235,
           -0.13577277958393097,
           0.22457121312618256,
           -0.11247885227203369,
           -0.08458584547042847,
           -0.049283113330602646,
           -0.0595158115029335,
           -0.12455607950687408,
           -0.19951942563056946,
           -0.22500456869602203,
           -0.044518180191516876,
           -0.016625162214040756,
           0.01867755502462387,
           0.00844486989080906,
           -0.056595396250486374,
           -0.13155874609947205,
           -0.15704390406608582,
           -0.0018349438905715942,
           0.026058075949549675,
           0.06136082857847214,
           0.05112811177968979,
           -0.013912154361605644,
           -0.08887550979852676,
           -0.11436064541339874,
           -0.013622917234897614,
           0.014270102605223656,
           0.049572817981243134,
           0.039340127259492874,
           -0.02570013329386711,
           -0.10066348314285278,
           -0.12614864110946655,
           -0.054812584072351456,
           -0.026919567957520485,
           0.008383153937757015,
           -0.0018495373660698533,
           -0.06688980758190155,
           -0.14185315370559692,
           -0.1673383116722107,
           -0.07071161270141602,
           -0.042818594723939896,
           -0.007515876553952694,
           -0.01774856634438038,
           -0.08278883993625641,
           -0.15775218605995178,
           -0.18323732912540436,
           -0.02918287366628647,
           -0.0012898535933345556,
           0.03401286154985428,
           0.02378017269074917,
           -0.041260093450546265,
           -0.11622343957424164,
           -0.1417085826396942
          ],
          [
           -0.08336345851421356,
           -0.05223542079329491,
           -0.28857797384262085,
           1,
           0.1418704241514206,
           0.12864214181900024,
           -0.07333923876285553,
           -0.020417198538780212,
           -0.284778356552124,
           -0.021104566752910614,
           0.08424822241067886,
           0.19212555885314941,
           0.1952105313539505,
           0.021972456946969032,
           0.1635892391204834,
           0.06725669652223587,
           0.26731884479522705,
           -0.06077408418059349,
           0.1702701300382614,
           -0.11254502087831497,
           -0.19102898240089417,
           -0.20235633850097656,
           -0.15256217122077942,
           -0.06234387680888176,
           0.008389708586037159,
           0.013290030881762505,
           -0.03966948762536049,
           -0.23485544323921204,
           -0.24618281424045563,
           -0.19638864696025848,
           -0.10617034882307053,
           -0.0354367271065712,
           -0.030536429956555367,
           -0.08349595963954926,
           -0.23061269521713257,
           -0.24194008111953735,
           -0.19214589893817902,
           -0.10192761570215225,
           -0.031193988397717476,
           -0.026293689385056496,
           -0.07925321906805038,
           -0.1854158341884613,
           -0.1967431902885437,
           -0.14694900810718536,
           -0.0567307285964489,
           0.014002871699631214,
           0.01890319399535656,
           -0.034056324511766434,
           -0.14258956909179688,
           -0.15391692519187927,
           -0.10412275791168213,
           -0.013904456980526447,
           0.05682913959026337,
           0.061729464679956436,
           0.008769925683736801,
           -0.14202773571014404,
           -0.15335509181022644,
           -0.1035609245300293,
           -0.013342623598873615,
           0.0573909729719162,
           0.06229129806160927,
           0.009331759065389633,
           -0.1838618963956833,
           -0.19518925249576569,
           -0.14539508521556854,
           -0.05517679080367088,
           0.01555680949240923,
           0.02045711688697338,
           -0.03250237926840782
          ],
          [
           -0.24558934569358826,
           0.17104509472846985,
           0.02757737785577774,
           0.1418704241514206,
           1,
           0.07889088243246078,
           -0.17482247948646545,
           -0.1103600487112999,
           0.04064367711544037,
           0.4286996126174927,
           0.28586751222610474,
           -0.014968684874475002,
           0.2946130037307739,
           -0.05313721299171448,
           0.25854113698005676,
           0.06645467132329941,
           0.09357760846614838,
           0.062138255685567856,
           -0.06622821092605591,
           -0.027815883979201317,
           -0.3203236758708954,
           -0.2827514111995697,
           -0.21976976096630096,
           -0.1829221248626709,
           -0.19826944172382355,
           -0.24228611588478088,
           -0.2634541690349579,
           -0.2877295911312103,
           -0.25015735626220703,
           -0.1871757209300995,
           -0.15032805502414703,
           -0.16567537188529968,
           -0.20969203114509583,
           -0.23086006939411163,
           -0.27194249629974365,
           -0.23437021672725677,
           -0.17138859629631042,
           -0.13454094529151917,
           -0.14988826215267181,
           -0.19390492141246796,
           -0.21507295966148376,
           -0.3097817003726959,
           -0.27220943570137024,
           -0.2092278003692627,
           -0.17238014936447144,
           -0.18772746622562408,
           -0.23174414038658142,
           -0.2529121935367584,
           -0.39139506220817566,
           -0.3538227677345276,
           -0.29084116220474243,
           -0.2539934813976288,
           -0.2693408131599426,
           -0.31335750222206116,
           -0.33452558517456055,
           -0.4671024978160858,
           -0.42953017354011536,
           -0.366548627614975,
           -0.32970094680786133,
           -0.34504827857017517,
           -0.3890649378299713,
           -0.4102330505847931,
           -0.4908235967159271,
           -0.45325130224227905,
           -0.3902697265148163,
           -0.353422075510025,
           -0.3687693774700165,
           -0.412786066532135,
           -0.4339541494846344
          ],
          [
           -0.1166020929813385,
           -0.18896649777889252,
           -0.2537373900413513,
           0.12864214181900024,
           0.07889088243246078,
           1.0000001192092896,
           0.2970787584781647,
           -0.009943555109202862,
           -0.14170034229755402,
           -0.1878950595855713,
           0.04809892922639847,
           -0.21667124330997467,
           0.16403988003730774,
           0.37248265743255615,
           0.009814955294132233,
           0.11688357591629028,
           0.030394118279218674,
           -0.29478684067726135,
           0.06007687747478485,
           0.0075004734098911285,
           -0.1341167539358139,
           -0.09730526804924011,
           -0.0871497094631195,
           -0.0890670120716095,
           -0.07791920006275177,
           -0.043575361371040344,
           -0.0024523010943084955,
           -0.1541488766670227,
           -0.11733739823102951,
           -0.10718187689781189,
           -0.1090991348028183,
           -0.09795131534337997,
           -0.06360749900341034,
           -0.022484419867396355,
           -0.1411803513765335,
           -0.10436887294054031,
           -0.09421330690383911,
           -0.0961306095123291,
           -0.08498279750347137,
           -0.05063895881175995,
           -0.00951589085161686,
           -0.10782928764820099,
           -0.07101781666278839,
           -0.06086223945021629,
           -0.06277954578399658,
           -0.051631730049848557,
           -0.01728789508342743,
           0.023835165426135063,
           -0.08459894359111786,
           -0.04778746888041496,
           -0.037631891667842865,
           -0.03954918310046196,
           -0.028401372954249382,
           0.005942466668784618,
           0.047065529972314835,
           -0.0915093868970871,
           -0.0546979121863842,
           -0.0445423349738121,
           -0.046459633857011795,
           -0.03531181812286377,
           -0.0009679764043539762,
           0.040155086666345596,
           -0.11950452625751495,
           -0.08269304037094116,
           -0.07253747433423996,
           -0.07445477694272995,
           -0.06330697238445282,
           -0.028963133692741394,
           0.012159926816821098
          ],
          [
           -0.06982079148292542,
           -0.36624008417129517,
           -0.0709139034152031,
           -0.07333923876285553,
           -0.17482247948646545,
           0.2970787584781647,
           1.0000001192092896,
           -0.24048131704330444,
           0.10546871274709702,
           -0.239862859249115,
           -0.3688682019710541,
           0.03633764758706093,
           -0.0941954031586647,
           0.34955939650535583,
           -0.3397919833660126,
           -0.07250726222991943,
           -0.17492897808551788,
           0.2062867432832718,
           -0.27103447914123535,
           0.2521331310272217,
           0.20033320784568787,
           0.24463170766830444,
           0.2020338922739029,
           0.11030059307813644,
           0.05352774262428284,
           0.08459828794002533,
           0.1762065887451172,
           0.16748884320259094,
           0.2117873579263687,
           0.16918958723545074,
           0.07745624333620071,
           0.020683392882347107,
           0.051753923296928406,
           0.14336223900318146,
           0.2077294886112213,
           0.2520279884338379,
           0.20943017303943634,
           0.11769688874483109,
           0.06092401593923569,
           0.09199457615613937,
           0.18360286951065063,
           0.29064586758613586,
           0.33494436740875244,
           0.29234662652015686,
           0.20061326026916504,
           0.14384041726589203,
           0.17491096258163452,
           0.26651933789253235,
           0.34783852100372314,
           0.3921370506286621,
           0.34953930974006653,
           0.2578059136867523,
           0.2010331004858017,
           0.232103630900383,
           0.32371196150779724,
           0.33524981141090393,
           0.3795483410358429,
           0.3369506001472473,
           0.2452172040939331,
           0.1884443759918213,
           0.2195148915052414,
           0.311123251914978,
           0.27304014563560486,
           0.31733864545822144,
           0.27474087476730347,
           0.18300753831863403,
           0.12623471021652222,
           0.15730524063110352,
           0.24891360104084015
          ],
          [
           0.1618756204843521,
           0.06723585724830627,
           -0.020811496302485466,
           -0.020417198538780212,
           -0.1103600487112999,
           -0.009943555109202862,
           -0.24048131704330444,
           1.0000001192092896,
           0.19624386727809906,
           -0.059042081236839294,
           0.20076316595077515,
           0.07786287367343903,
           0.03618968278169632,
           0.13187845051288605,
           0.4151686429977417,
           -0.1479443609714508,
           -0.08115363866090775,
           -0.3760906755924225,
           -0.09633831679821014,
           -0.07880356907844543,
           0.07303770631551743,
           0.04683263227343559,
           0.024756964296102524,
           0.0378618985414505,
           0.08670976012945175,
           0.13978064060211182,
           0.16131244599819183,
           0.07367673516273499,
           0.04747166112065315,
           0.025395993143320084,
           0.03850092738866806,
           0.08734878897666931,
           0.14041967689990997,
           0.16195148229599,
           0.05208928883075714,
           0.025884216651320457,
           0.0038085521664470434,
           0.016913481056690216,
           0.06576135009527206,
           0.11883223056793213,
           0.14036403596401215,
           0.02841111458837986,
           0.002206046599894762,
           -0.019869590178132057,
           -0.00676469411700964,
           0.04208317771553993,
           0.0951540544629097,
           0.11668585985898972,
           0.025825688615441322,
           -0.00037937553133815527,
           -0.022455016151070595,
           -0.009350120089948177,
           0.039497751742601395,
           0.09256862103939056,
           0.11410044133663177,
           0.049581579864025116,
           0.023376500234007835,
           0.00130084331613034,
           0.014405784197151661,
           0.06325364112854004,
           0.1163245216012001,
           0.13785633444786072,
           0.08235618472099304,
           0.056151121854782104,
           0.03407545015215874,
           0.047180384397506714,
           0.09602824598550797,
           0.14909912645816803,
           0.17063093185424805
          ],
          [
           0.028960498049855232,
           -0.11024419963359833,
           0.005707358010113239,
           -0.284778356552124,
           0.04064367711544037,
           -0.14170034229755402,
           0.10546871274709702,
           0.19624386727809906,
           1,
           -0.1579163521528244,
           0.010774058289825916,
           0.1665995717048645,
           -0.2366245687007904,
           0.16009385883808136,
           -0.23660771548748016,
           -0.18645474314689636,
           -0.30615347623825073,
           0.09889665991067886,
           -0.19436459243297577,
           0.141269251704216,
           0.41744768619537354,
           0.43447625637054443,
           0.4450310468673706,
           0.4472532868385315,
           0.44669702649116516,
           0.4511238932609558,
           0.4633239507675171,
           0.43369460105895996,
           0.45072317123413086,
           0.4612779915332794,
           0.4635002017021179,
           0.4629439413547516,
           0.46737080812454224,
           0.4795708954334259,
           0.4336450695991516,
           0.4506736695766449,
           0.46122846007347107,
           0.46345070004463196,
           0.4628944396972656,
           0.4673213064670563,
           0.47952139377593994,
           0.41530048847198486,
           0.43232905864715576,
           0.44288384914398193,
           0.4451060891151428,
           0.4445498585700989,
           0.44897669553756714,
           0.4611767530441284,
           0.38468050956726074,
           0.40170907974243164,
           0.4122639000415802,
           0.4144861400127411,
           0.41392990946769714,
           0.4183567464351654,
           0.4305568039417267,
           0.3513182997703552,
           0.3683468699455261,
           0.3789016604423523,
           0.3811239004135132,
           0.3805676996707916,
           0.3849944770336151,
           0.39719459414482117,
           0.32124462723731995,
           0.33827319741249084,
           0.3488280177116394,
           0.3510502576828003,
           0.35049402713775635,
           0.3549208343029022,
           0.3671209216117859
          ],
          [
           -0.19145137071609497,
           0.2021247148513794,
           0.10723592340946198,
           -0.021104566752910614,
           0.4286996126174927,
           -0.1878950595855713,
           -0.239862859249115,
           -0.059042081236839294,
           -0.1579163521528244,
           1,
           -0.009074210189282894,
           0.007851868867874146,
           0.3629557192325592,
           -0.16976863145828247,
           0.2103009819984436,
           -0.004589038901031017,
           0.13619109988212585,
           -0.010439794510602951,
           0.07888218760490417,
           0.06391430646181107,
           -0.06373243033885956,
           -0.020741553977131844,
           0.032922640442848206,
           0.05234720930457115,
           0.02573956549167633,
           -0.01457105204463005,
           -0.021860981360077858,
           -0.0496988520026207,
           -0.006707968655973673,
           0.046956222504377365,
           0.06638078391551971,
           0.039773128926754,
           -0.0005374811007641256,
           -0.00782741792500019,
           -0.058750733733177185,
           -0.015759864822030067,
           0.03790433704853058,
           0.05732891708612442,
           0.03072124719619751,
           -0.009589370340108871,
           -0.016879307106137276,
           -0.09501150250434875,
           -0.05202064290642738,
           0.001643561408855021,
           0.021068137139081955,
           -0.005539529025554657,
           -0.04585014283657074,
           -0.0531400628387928,
           -0.13645809888839722,
           -0.09346722811460495,
           -0.039803024381399155,
           -0.02037845179438591,
           -0.04698612168431282,
           -0.08729670941829681,
           -0.09458665549755096,
           -0.1542135626077652,
           -0.11122270673513412,
           -0.057558510452508926,
           -0.03813391923904419,
           -0.0647415816783905,
           -0.1050521731376648,
           -0.11234213411808014,
           -0.13831079006195068,
           -0.09531991928815842,
           -0.04165571555495262,
           -0.022231142967939377,
           -0.04883881285786629,
           -0.08914940059185028,
           -0.09643934667110443
          ],
          [
           0.2773558795452118,
           0.011982831172645092,
           -0.09270159155130386,
           0.08424822241067886,
           0.28586751222610474,
           0.04809892922639847,
           -0.3688682019710541,
           0.20076316595077515,
           0.010774058289825916,
           -0.009074210189282894,
           0.9999999403953552,
           0.032245535403490067,
           -0.02442157454788685,
           0.06433477252721786,
           0.10274855047464371,
           0.31772080063819885,
           0.11298868060112,
           0.13452905416488647,
           0.10850983113050461,
           -0.3375362455844879,
           -0.19239673018455505,
           -0.19990068674087524,
           -0.14939148724079132,
           -0.085548534989357,
           -0.06817188113927841,
           -0.11715501546859741,
           -0.19386962056159973,
           -0.16844254732131958,
           -0.17594650387763977,
           -0.12543730437755585,
           -0.06159435957670212,
           -0.04421768710017204,
           -0.09320084005594254,
           -0.16991543769836426,
           -0.1387293040752411,
           -0.14623327553272247,
           -0.09572406113147736,
           -0.03188111633062363,
           -0.014504462480545044,
           -0.06348759680986404,
           -0.14020220935344696,
           -0.13410860300064087,
           -0.14161257445812225,
           -0.09110336005687714,
           -0.027260417118668556,
           -0.009883761405944824,
           -0.058866892009973526,
           -0.13558150827884674,
           -0.16828325390815735,
           -0.17578721046447754,
           -0.12527799606323242,
           -0.061435066163539886,
           -0.04405839368700981,
           -0.0930415466427803,
           -0.16975614428520203,
           -0.22362038493156433,
           -0.23112431168556213,
           -0.1806151121854782,
           -0.11677217483520508,
           -0.0993955135345459,
           -0.1483786553144455,
           -0.22509324550628662,
           -0.26537707448005676,
           -0.27288100123405457,
           -0.22237183153629303,
           -0.1585288941860199,
           -0.14115221798419952,
           -0.19013535976409912,
           -0.26684996485710144
          ],
          [
           0.24679212272167206,
           0.12081754207611084,
           -0.2230023741722107,
           0.19212555885314941,
           -0.014968684874475002,
           -0.21667124330997467,
           0.03633764758706093,
           0.07786287367343903,
           0.1665995717048645,
           0.007851868867874146,
           0.032245535403490067,
           0.9999998807907104,
           -0.12669841945171356,
           -0.038460105657577515,
           -0.00476355804130435,
           -0.0054050409235060215,
           -0.02611972764134407,
           0.2292586863040924,
           -0.004195763263851404,
           -0.030954012647271156,
           0.20477789640426636,
           0.19887250661849976,
           0.2098364681005478,
           0.23389527201652527,
           0.25687840580940247,
           0.2664099931716919,
           0.2623353600502014,
           0.19503435492515564,
           0.18912896513938904,
           0.20009295642375946,
           0.22415173053741455,
           0.24713486433029175,
           0.2566664516925812,
           0.2525918185710907,
           0.186871737241745,
           0.1809663474559784,
           0.19193030893802643,
           0.2159890979528427,
           0.2389722466468811,
           0.24850383400917053,
           0.24442921578884125,
           0.175716370344162,
           0.16981098055839539,
           0.18077494204044342,
           0.2048337459564209,
           0.2278168648481369,
           0.23734846711158752,
           0.23327387869358063,
           0.15646293759346008,
           0.1505575329065323,
           0.16152150928974152,
           0.185580313205719,
           0.208563432097435,
           0.21809501945972443,
           0.21402044594287872,
           0.12974941730499268,
           0.12384404242038727,
           0.1348080039024353,
           0.1588667929172516,
           0.1818499118089676,
           0.19138149917125702,
           0.18730692565441132,
           0.10304290056228638,
           0.09713751822710037,
           0.10810154676437378,
           0.1321602314710617,
           0.1551433950662613,
           0.16467498242855072,
           0.16060040891170502
          ],
          [
           -0.11637625098228455,
           0.14592128992080688,
           -0.049918897449970245,
           0.1952105313539505,
           0.2946130037307739,
           0.16403988003730774,
           -0.0941954031586647,
           0.03618968278169632,
           -0.2366245687007904,
           0.3629557192325592,
           -0.02442157454788685,
           -0.12669841945171356,
           0.9999999403953552,
           -0.1578814685344696,
           0.5752526521682739,
           -0.1460462510585785,
           0.19447514414787292,
           0.036033544689416885,
           0.05431576073169708,
           0.25178053975105286,
           -0.1722683608531952,
           -0.1504650115966797,
           -0.12024521827697754,
           -0.1017509400844574,
           -0.10616637766361237,
           -0.12600329518318176,
           -0.1423136442899704,
           -0.11897313594818115,
           -0.09716978669166565,
           -0.06694996356964111,
           -0.04845569655299187,
           -0.052871137857437134,
           -0.07270806282758713,
           -0.08901841193437576,
           -0.07315680384635925,
           -0.05135345831513405,
           -0.02113363891839981,
           -0.0026393558364361525,
           -0.007054815534502268,
           -0.026891734451055527,
           -0.04320208355784416,
           -0.051409751176834106,
           -0.029606403782963753,
           0.0006134063005447388,
           0.019107701256871223,
           0.014692236669361591,
           -0.005144685506820679,
           -0.021455030888319016,
           -0.048952601850032806,
           -0.027149247005581856,
           0.0030705630779266357,
           0.021564843133091927,
           0.017149394378066063,
           -0.002687521278858185,
           -0.018997877836227417,
           -0.0462670624256134,
           -0.024463707581162453,
           0.005756109952926636,
           0.024250390008091927,
           0.019834941253066063,
           -0.0000019892822820111178,
           -0.016312338411808014,
           -0.02895475924015045,
           -0.007151404861360788,
           0.023068413138389587,
           0.041562680155038834,
           0.037147242575883865,
           0.017310313880443573,
           0.0009999647736549377
          ],
          [
           0.16458116471767426,
           0.03580627217888832,
           -0.1536037027835846,
           0.021972456946969032,
           -0.05313721299171448,
           0.37248265743255615,
           0.34955939650535583,
           0.13187845051288605,
           0.16009385883808136,
           -0.16976863145828247,
           0.06433477252721786,
           -0.038460105657577515,
           -0.1578814685344696,
           1.0000001192092896,
           -0.33963170647621155,
           -0.06173713505268097,
           0.15846119821071625,
           -0.18974362313747406,
           -0.018520142883062363,
           -0.08295154571533203,
           0.1997203826904297,
           0.1519823670387268,
           0.08742013573646545,
           0.06350349634885788,
           0.10454074293375015,
           0.1790606528520584,
           0.22806113958358765,
           0.18894605338573456,
           0.14120805263519287,
           0.07664579898118973,
           0.05272916331887245,
           0.09376641362905502,
           0.16828632354736328,
           0.21728681027889252,
           0.23580776154994965,
           0.18806973099708557,
           0.12350748479366302,
           0.09959086775779724,
           0.14062811434268951,
           0.21514800190925598,
           0.2641485333442688,
           0.2882535457611084,
           0.2405155450105667,
           0.17595331370830536,
           0.15203668177127838,
           0.19307394325733185,
           0.2675938308238983,
           0.31659436225891113,
           0.2916809618473053,
           0.2439429610967636,
           0.17938072979450226,
           0.15546409785747528,
           0.19650135934352875,
           0.2710212469100952,
           0.32002177834510803,
           0.24036793410778046,
           0.19262994825839996,
           0.12806770205497742,
           0.10415107756853104,
           0.1451883167028427,
           0.21970820426940918,
           0.268708735704422,
           0.18355679512023926,
           0.13581879436969757,
           0.07125654071569443,
           0.04733990505337715,
           0.08837715536355972,
           0.16289706528186798,
           0.21189755201339722
          ],
          [
           0.22835086286067963,
           0.08479645103216171,
           -0.08852299302816391,
           0.1635892391204834,
           0.25854113698005676,
           0.009814955294132233,
           -0.3397919833660126,
           0.4151686429977417,
           -0.23660771548748016,
           0.2103009819984436,
           0.10274855047464371,
           -0.00476355804130435,
           0.5752526521682739,
           -0.33963170647621155,
           1.000000238418579,
           0.07290001213550568,
           0.05219963937997818,
           -0.16073362529277802,
           -0.0673181563615799,
           -0.09759635478258133,
           -0.1279946267604828,
           -0.1266295164823532,
           -0.1395287811756134,
           -0.13114672899246216,
           -0.08555904030799866,
           -0.023052973672747612,
           0.016790851950645447,
           -0.09206213057041168,
           -0.09069701284170151,
           -0.10359624773263931,
           -0.09521421790122986,
           -0.04962652921676636,
           0.012879535555839539,
           0.05272336304187775,
           -0.08910848200321198,
           -0.0877433642745018,
           -0.1006426066160202,
           -0.09226057678461075,
           -0.04667288064956665,
           0.01583317294716835,
           0.055677011609077454,
           -0.10062535107135773,
           -0.09926023334264755,
           -0.11215947568416595,
           -0.1037774384021759,
           -0.0581897534430027,
           0.004316315054893494,
           0.0441601425409317,
           -0.09792149066925049,
           -0.09655637294054031,
           -0.10945561528205872,
           -0.10107357800006866,
           -0.05548589304089546,
           0.0070201680064201355,
           0.04686400294303894,
           -0.07022961229085922,
           -0.06886450201272964,
           -0.08176374435424805,
           -0.07338171452283859,
           -0.027794022113084793,
           0.034712035208940506,
           0.07455587387084961,
           -0.03581956773996353,
           -0.03445446118712425,
           -0.04735371097922325,
           -0.0389716736972332,
           0.006616025697439909,
           0.06912209838628769,
           0.1089659184217453
          ],
          [
           0.14217914640903473,
           0.055010076612234116,
           -0.24112474918365479,
           0.06725669652223587,
           0.06645467132329941,
           0.11688357591629028,
           -0.07250726222991943,
           -0.1479443609714508,
           -0.18645474314689636,
           -0.004589038901031017,
           0.31772080063819885,
           -0.0054050409235060215,
           -0.1460462510585785,
           -0.06173713505268097,
           0.07290001213550568,
           1.000000238418579,
           -0.020864760503172874,
           0.014583354815840721,
           0.02000519260764122,
           -0.18757691979408264,
           -0.027950294315814972,
           -0.04334982857108116,
           -0.05164099484682083,
           -0.041861988604068756,
           -0.024079861119389534,
           -0.020010903477668762,
           -0.04254955053329468,
           0.000006668269634246826,
           -0.015392862260341644,
           -0.02368403598666191,
           -0.013905012980103493,
           0.0038771021645516157,
           0.00794605165719986,
           -0.014592589810490608,
           0.049555644392967224,
           0.03415610268712044,
           0.025864940136671066,
           0.03564395383000374,
           0.05342606455087662,
           0.05749502032995224,
           0.03495638072490692,
           0.06657836586236954,
           0.05117880925536156,
           0.042887669056653976,
           0.052666641771793365,
           0.07044877111911774,
           0.07451775670051575,
           0.051979102194309235,
           0.02392636239528656,
           0.008526813238859177,
           0.00023565127048641443,
           0.010014662519097328,
           0.0277967881411314,
           0.03186573088169098,
           0.009327096864581108,
           -0.052324503660202026,
           -0.06772405654191971,
           -0.07601521164178848,
           -0.06623618304729462,
           -0.04845406860113144,
           -0.044385120272636414,
           -0.06692375987768173,
           -0.10534423589706421,
           -0.12074379622936249,
           -0.12903490662574768,
           -0.1192559078335762,
           -0.10147379338741302,
           -0.0974048525094986,
           -0.11994350701570511
          ],
          [
           0.1325618326663971,
           0.3520205616950989,
           0.09553121030330658,
           0.26731884479522705,
           0.09357760846614838,
           0.030394118279218674,
           -0.17492897808551788,
           -0.08115363866090775,
           -0.30615347623825073,
           0.13619109988212585,
           0.11298868060112,
           -0.02611972764134407,
           0.19447514414787292,
           0.15846119821071625,
           0.05219963937997818,
           -0.020864760503172874,
           0.9999998211860657,
           0.0011901531834155321,
           0.2607019543647766,
           -0.06758060306310654,
           -0.16727450489997864,
           -0.2158147692680359,
           -0.2581278383731842,
           -0.26766690611839294,
           -0.23998604714870453,
           -0.19726304709911346,
           -0.16903115808963776,
           -0.11548124253749847,
           -0.16402150690555573,
           -0.20633457601070404,
           -0.21587364375591278,
           -0.18819278478622437,
           -0.1454697698354721,
           -0.117237888276577,
           -0.07532656192779541,
           -0.12386681139469147,
           -0.16617988049983978,
           -0.1757189780473709,
           -0.1480381041765213,
           -0.10531508922576904,
           -0.07708321511745453,
           -0.09048564732074738,
           -0.13902591168880463,
           -0.18133896589279175,
           -0.1908780336380005,
           -0.16319717466831207,
           -0.12047417461872101,
           -0.0922422856092453,
           -0.15633180737495422,
           -0.20487207174301147,
           -0.2471851408481598,
           -0.25672420859336853,
           -0.22904333472251892,
           -0.18632034957408905,
           -0.15808844566345215,
           -0.2234605848789215,
           -0.27200087904930115,
           -0.3143139183521271,
           -0.3238529860973358,
           -0.2961721122264862,
           -0.25344914197921753,
           -0.22521723806858063,
           -0.2422163188457489,
           -0.29075661301612854,
           -0.33306968212127686,
           -0.3426086902618408,
           -0.3149278461933136,
           -0.2722048759460449,
           -0.24397295713424683
          ],
          [
           -0.03573545068502426,
           0.1172005906701088,
           0.03012992814183235,
           -0.06077408418059349,
           0.062138255685567856,
           -0.29478684067726135,
           0.2062867432832718,
           -0.3760906755924225,
           0.09889665991067886,
           -0.010439794510602951,
           0.13452905416488647,
           0.2292586863040924,
           0.036033544689416885,
           -0.18974362313747406,
           -0.16073362529277802,
           0.014583354815840721,
           0.0011901531834155321,
           0.9999999403953552,
           -0.1464151293039322,
           0.11793935298919678,
           -0.09324909001588821,
           -0.04556695744395256,
           -0.029434606432914734,
           -0.07018177956342697,
           -0.13916464149951935,
           -0.1793626844882965,
           -0.15730886161327362,
           -0.005837492644786835,
           0.041844673454761505,
           0.05797698348760605,
           0.017229827120900154,
           -0.05175303667783737,
           -0.09195107966661453,
           -0.06989726424217224,
           0.027508441358804703,
           0.07519061863422394,
           0.09132295101881027,
           0.050575725734233856,
           -0.01840708777308464,
           -0.0586051382124424,
           -0.036551326513290405,
           -0.009335674345493317,
           0.03834649175405502,
           0.054478827863931656,
           0.013731645420193672,
           -0.055251218378543854,
           -0.09544926136732101,
           -0.07339544594287872,
           -0.07243829220533371,
           -0.024756141006946564,
           -0.008623816072940826,
           -0.04937097430229187,
           -0.11835383623838425,
           -0.158551886677742,
           -0.13649806380271912,
           -0.09908942878246307,
           -0.05140729248523712,
           -0.0352749340236187,
           -0.07602212578058243,
           -0.1450049728155136,
           -0.18520301580429077,
           -0.16314920783042908,
           -0.0658482238650322,
           -0.01816607266664505,
           -0.0020337323658168316,
           -0.042780905961990356,
           -0.11176376044750214,
           -0.1519618183374405,
           -0.1299079954624176
          ],
          [
           0.11408523470163345,
           0.13244056701660156,
           -0.13577277958393097,
           0.1702701300382614,
           -0.06622821092605591,
           0.06007687747478485,
           -0.27103447914123535,
           -0.09633831679821014,
           -0.19436459243297577,
           0.07888218760490417,
           0.10850983113050461,
           -0.004195763263851404,
           0.05431576073169708,
           -0.018520142883062363,
           -0.0673181563615799,
           0.02000519260764122,
           0.2607019543647766,
           -0.1464151293039322,
           0.9999999403953552,
           -0.33901503682136536,
           -0.000937778502702713,
           -0.051374223083257675,
           -0.06616924703121185,
           -0.0395624153316021,
           -0.0033070354256778955,
           0.003163187764585018,
           -0.030480116605758667,
           -0.031183291226625443,
           -0.08161972463130951,
           -0.09641476720571518,
           -0.06980791687965393,
           -0.03355254977941513,
           -0.027082307264208794,
           -0.060725633054971695,
           -0.05821937695145607,
           -0.10865581035614014,
           -0.12345083057880402,
           -0.09684400260448456,
           -0.06058862432837486,
           -0.05411839857697487,
           -0.08776170015335083,
           -0.04952261224389076,
           -0.09995906054973602,
           -0.1147540807723999,
           -0.08814724534749985,
           -0.05189186707139015,
           -0.04542164131999016,
           -0.07906495034694672,
           -0.007960494607686996,
           -0.05839693918824196,
           -0.07319195568561554,
           -0.04658513143658638,
           -0.010329751297831535,
           -0.0038595283403992653,
           -0.03750283643603325,
           0.030536796897649765,
           -0.019899656996130943,
           -0.03469466418027878,
           -0.008087837137281895,
           0.028167540207505226,
           0.034637778997421265,
           0.0009944636840373278,
           0.029931169003248215,
           -0.020505284890532494,
           -0.03530029207468033,
           -0.008693465031683445,
           0.027561912313103676,
           0.03403214365243912,
           0.0003888358478434384
          ],
          [
           -0.15516817569732666,
           -0.1645488440990448,
           0.22457121312618256,
           -0.11254502087831497,
           -0.027815883979201317,
           0.0075004734098911285,
           0.2521331310272217,
           -0.07880356907844543,
           0.141269251704216,
           0.06391430646181107,
           -0.3375362455844879,
           -0.030954012647271156,
           0.25178053975105286,
           -0.08295154571533203,
           -0.09759635478258133,
           -0.18757691979408264,
           -0.06758060306310654,
           0.11793935298919678,
           -0.33901503682136536,
           0.9999999403953552,
           -0.16034020483493805,
           -0.15417414903640747,
           -0.1552235335111618,
           -0.16226579248905182,
           -0.16799606382846832,
           -0.16554133594036102,
           -0.15466700494289398,
           -0.09727878868579865,
           -0.09111268818378448,
           -0.09216214716434479,
           -0.09920433908700943,
           -0.10493466258049011,
           -0.10247993469238281,
           -0.09160558879375458,
           -0.016507836058735847,
           -0.010341759771108627,
           -0.011391189880669117,
           -0.018433399498462677,
           -0.02416371926665306,
           -0.021708983927965164,
           -0.010834649205207825,
           0.021211901679635048,
           0.02737797051668167,
           0.02632853575050831,
           0.019286323338747025,
           0.013556002639234066,
           0.016010742634534836,
           0.026885081082582474,
           -0.0011546146124601364,
           0.005011461209505796,
           0.003962020389735699,
           -0.00308019551448524,
           -0.008810502476990223,
           -0.006355769466608763,
           0.004518564324826002,
           -0.04311665892601013,
           -0.036950577050447464,
           -0.038000013679265976,
           -0.045042235404253006,
           -0.050772543996572495,
           -0.048317801207304,
           -0.03744347766041756,
           -0.04595620930194855,
           -0.03979012742638588,
           -0.04083956405520439,
           -0.04788178205490112,
           -0.05361209064722061,
           -0.051157355308532715,
           -0.040283020585775375
          ],
          [
           0.24448522925376892,
           0.006742894649505615,
           -0.11247885227203369,
           -0.19102898240089417,
           -0.3203236758708954,
           -0.1341167539358139,
           0.20033320784568787,
           0.07303770631551743,
           0.41744768619537354,
           -0.06373243033885956,
           -0.19239673018455505,
           0.20477789640426636,
           -0.1722683608531952,
           0.1997203826904297,
           -0.1279946267604828,
           -0.027950294315814972,
           -0.16727450489997864,
           -0.09324909001588821,
           -0.000937778502702713,
           -0.16034020483493805,
           1,
           0.9678229093551636,
           0.8980172872543335,
           0.846443772315979,
           0.8474798202514648,
           0.8835650086402893,
           0.9027977585792542,
           0.9678229093551636,
           0.9356458187103271,
           0.8658402562141418,
           0.8142666816711426,
           0.8153026700019836,
           0.8513879179954529,
           0.870620608329773,
           0.8980172872543335,
           0.8658401966094971,
           0.796034574508667,
           0.744461178779602,
           0.7454971075057983,
           0.7815823554992676,
           0.8008149862289429,
           0.8464438319206238,
           0.8142668008804321,
           0.7444611191749573,
           0.6928876638412476,
           0.6939236521720886,
           0.7300089001655579,
           0.7492415308952332,
           0.8474798202514648,
           0.8153027296066284,
           0.7454971075057983,
           0.6939235925674438,
           0.6949595808982849,
           0.7310448288917542,
           0.7502775192260742,
           0.8835649490356445,
           0.8513878583908081,
           0.7815822958946228,
           0.7300088405609131,
           0.7310447692871094,
           0.7671300768852234,
           0.7863627076148987,
           0.9027977585792542,
           0.8706207275390625,
           0.8008150458335876,
           0.7492415904998779,
           0.750277578830719,
           0.7863628268241882,
           0.8055954575538635
          ],
          [
           0.1685286909341812,
           -0.023568982258439064,
           -0.08458584547042847,
           -0.20235633850097656,
           -0.2827514111995697,
           -0.09730526804924011,
           0.24463170766830444,
           0.04683263227343559,
           0.43447625637054443,
           -0.020741553977131844,
           -0.19990068674087524,
           0.19887250661849976,
           -0.1504650115966797,
           0.1519823670387268,
           -0.1266295164823532,
           -0.04334982857108116,
           -0.2158147692680359,
           -0.04556695744395256,
           -0.051374223083257675,
           -0.15417414903640747,
           0.9678229093551636,
           1,
           0.9678228497505188,
           0.8980172276496887,
           0.846443772315979,
           0.8474797606468201,
           0.8835650682449341,
           0.9356458187103271,
           0.9678228497505188,
           0.9356457591056824,
           0.8658400774002075,
           0.8142666220664978,
           0.8153026103973389,
           0.8513879179954529,
           0.8658401966094971,
           0.8980172872543335,
           0.8658401370048523,
           0.7960346341133118,
           0.7444610595703125,
           0.7454971075057983,
           0.7815823554992676,
           0.8142668008804321,
           0.8464438319206238,
           0.8142666816711426,
           0.7444610595703125,
           0.6928876042366028,
           0.6939236521720886,
           0.7300089001655579,
           0.8153027296066284,
           0.8474798202514648,
           0.8153026700019836,
           0.7454969882965088,
           0.6939235925674438,
           0.6949595808982849,
           0.7310448288917542,
           0.8513878583908081,
           0.8835649490356445,
           0.8513878583908081,
           0.781582236289978,
           0.7300087809562683,
           0.7310447692871094,
           0.7671300172805786,
           0.8706207275390625,
           0.9027977585792542,
           0.870620608329773,
           0.8008150458335876,
           0.7492415308952332,
           0.7502775192260742,
           0.7863628268241882
          ],
          [
           0.12727831304073334,
           -0.02492905966937542,
           -0.049283113330602646,
           -0.15256217122077942,
           -0.21976976096630096,
           -0.0871497094631195,
           0.2020338922739029,
           0.024756964296102524,
           0.4450310468673706,
           0.032922640442848206,
           -0.14939148724079132,
           0.2098364681005478,
           -0.12024521827697754,
           0.08742013573646545,
           -0.1395287811756134,
           -0.05164099484682083,
           -0.2581278383731842,
           -0.029434606432914734,
           -0.06616924703121185,
           -0.1552235335111618,
           0.8980172872543335,
           0.9678228497505188,
           1,
           0.9678229689598083,
           0.8980174660682678,
           0.8464438319206238,
           0.8474797606468201,
           0.8658401966094971,
           0.9356457591056824,
           0.9678229689598083,
           0.9356458783149719,
           0.8658402562141418,
           0.8142667412757874,
           0.8153026700019836,
           0.796034574508667,
           0.8658401370048523,
           0.8980172872543335,
           0.8658401966094971,
           0.796034574508667,
           0.7444611191749573,
           0.7454971075057983,
           0.7444611191749573,
           0.8142666816711426,
           0.8464438319206238,
           0.8142667412757874,
           0.7444611191749573,
           0.6928876638412476,
           0.6939236521720886,
           0.7454971075057983,
           0.8153026700019836,
           0.8474797606468201,
           0.8153026700019836,
           0.7454970479011536,
           0.6939236521720886,
           0.6949595808982849,
           0.7815822958946228,
           0.8513878583908081,
           0.8835649490356445,
           0.8513878583908081,
           0.7815822958946228,
           0.7300088405609131,
           0.7310447692871094,
           0.8008150458335876,
           0.870620608329773,
           0.9027977585792542,
           0.8706206679344177,
           0.8008150458335876,
           0.7492415904998779,
           0.7502775192260742
          ],
          [
           0.15857014060020447,
           -0.0164490994066,
           -0.0595158115029335,
           -0.06234387680888176,
           -0.1829221248626709,
           -0.0890670120716095,
           0.11030059307813644,
           0.0378618985414505,
           0.4472532868385315,
           0.05234720930457115,
           -0.085548534989357,
           0.23389527201652527,
           -0.1017509400844574,
           0.06350349634885788,
           -0.13114672899246216,
           -0.041861988604068756,
           -0.26766690611839294,
           -0.07018177956342697,
           -0.0395624153316021,
           -0.16226579248905182,
           0.846443772315979,
           0.8980172276496887,
           0.9678229689598083,
           1,
           0.9678229689598083,
           0.8980172872543335,
           0.8464438319206238,
           0.8142666816711426,
           0.8658400774002075,
           0.9356458783149719,
           0.9678228497505188,
           0.9356458187103271,
           0.8658401966094971,
           0.8142667412757874,
           0.7444610595703125,
           0.796034574508667,
           0.8658401966094971,
           0.8980172872543335,
           0.8658402562141418,
           0.7960345149040222,
           0.7444611191749573,
           0.6928876638412476,
           0.7444610595703125,
           0.8142667412757874,
           0.8464438319206238,
           0.8142668008804321,
           0.7444611191749573,
           0.6928876638412476,
           0.6939235925674438,
           0.7454969882965088,
           0.8153026700019836,
           0.8474798202514648,
           0.8153027296066284,
           0.7454970479011536,
           0.6939235925674438,
           0.7300088405609131,
           0.781582236289978,
           0.8513878583908081,
           0.8835649490356445,
           0.8513879179954529,
           0.781582236289978,
           0.7300087809562683,
           0.7492415904998779,
           0.8008150458335876,
           0.8706206679344177,
           0.9027977585792542,
           0.8706207275390625,
           0.8008149862289429,
           0.7492415904998779
          ],
          [
           0.23665665090084076,
           -0.026004618033766747,
           -0.12455607950687408,
           0.008389708586037159,
           -0.19826944172382355,
           -0.07791920006275177,
           0.05352774262428284,
           0.08670976012945175,
           0.44669702649116516,
           0.02573956549167633,
           -0.06817188113927841,
           0.25687840580940247,
           -0.10616637766361237,
           0.10454074293375015,
           -0.08555904030799866,
           -0.024079861119389534,
           -0.23998604714870453,
           -0.13916464149951935,
           -0.0033070354256778955,
           -0.16799606382846832,
           0.8474798202514648,
           0.846443772315979,
           0.8980174660682678,
           0.9678229689598083,
           1,
           0.9678229093551636,
           0.8980172276496887,
           0.8153026700019836,
           0.8142666220664978,
           0.8658402562141418,
           0.9356458187103271,
           0.9678228497505188,
           0.9356457591056824,
           0.8658401370048523,
           0.7454971075057983,
           0.7444610595703125,
           0.796034574508667,
           0.8658402562141418,
           0.8980172872543335,
           0.8658402562141418,
           0.796034574508667,
           0.6939236521720886,
           0.6928876042366028,
           0.7444611191749573,
           0.8142668008804321,
           0.8464438319206238,
           0.8142668008804321,
           0.7444611191749573,
           0.6949595808982849,
           0.6939235925674438,
           0.7454970479011536,
           0.8153027296066284,
           0.8474797606468201,
           0.8153027296066284,
           0.7454971075057983,
           0.7310447692871094,
           0.7300087809562683,
           0.7815822958946228,
           0.8513879179954529,
           0.8835650086402893,
           0.8513879179954529,
           0.7815822958946228,
           0.750277578830719,
           0.7492415308952332,
           0.8008150458335876,
           0.8706207275390625,
           0.9027977585792542,
           0.8706207275390625,
           0.8008150458335876
          ],
          [
           0.2954767942428589,
           -0.06298459321260452,
           -0.19951942563056946,
           0.013290030881762505,
           -0.24228611588478088,
           -0.043575361371040344,
           0.08459828794002533,
           0.13978064060211182,
           0.4511238932609558,
           -0.01457105204463005,
           -0.11715501546859741,
           0.2664099931716919,
           -0.12600329518318176,
           0.1790606528520584,
           -0.023052973672747612,
           -0.020010903477668762,
           -0.19726304709911346,
           -0.1793626844882965,
           0.003163187764585018,
           -0.16554133594036102,
           0.8835650086402893,
           0.8474797606468201,
           0.8464438319206238,
           0.8980172872543335,
           0.9678229093551636,
           1,
           0.9678229689598083,
           0.8513879179954529,
           0.8153026103973389,
           0.8142667412757874,
           0.8658401966094971,
           0.9356457591056824,
           0.9678229093551636,
           0.9356458187103271,
           0.7815823554992676,
           0.7454971075057983,
           0.7444611191749573,
           0.796034574508667,
           0.8658402562141418,
           0.8980172872543335,
           0.8658402562141418,
           0.7300089001655579,
           0.6939236521720886,
           0.6928876638412476,
           0.7444611191749573,
           0.8142668008804321,
           0.8464438319206238,
           0.8142668008804321,
           0.7310448288917542,
           0.6949595808982849,
           0.6939236521720886,
           0.7454970479011536,
           0.8153027296066284,
           0.8474797606468201,
           0.8153027296066284,
           0.7671300768852234,
           0.7310447692871094,
           0.7300088405609131,
           0.781582236289978,
           0.8513879179954529,
           0.8835649490356445,
           0.8513879179954529,
           0.7863628268241882,
           0.7502775192260742,
           0.7492415904998779,
           0.8008149862289429,
           0.8706207275390625,
           0.9027977585792542,
           0.8706207275390625
          ],
          [
           0.28867509961128235,
           -0.10822254419326782,
           -0.22500456869602203,
           -0.03966948762536049,
           -0.2634541690349579,
           -0.0024523010943084955,
           0.1762065887451172,
           0.16131244599819183,
           0.4633239507675171,
           -0.021860981360077858,
           -0.19386962056159973,
           0.2623353600502014,
           -0.1423136442899704,
           0.22806113958358765,
           0.016790851950645447,
           -0.04254955053329468,
           -0.16903115808963776,
           -0.15730886161327362,
           -0.030480116605758667,
           -0.15466700494289398,
           0.9027977585792542,
           0.8835650682449341,
           0.8474797606468201,
           0.8464438319206238,
           0.8980172276496887,
           0.9678229689598083,
           0.9999999403953552,
           0.870620608329773,
           0.8513879179954529,
           0.8153026700019836,
           0.8142667412757874,
           0.8658401370048523,
           0.9356458187103271,
           0.9678228497505188,
           0.8008149862289429,
           0.7815823554992676,
           0.7454971075057983,
           0.7444612383842468,
           0.796034574508667,
           0.8658402562141418,
           0.8980172872543335,
           0.7492415308952332,
           0.7300089001655579,
           0.6939236521720886,
           0.6928876638412476,
           0.7444611191749573,
           0.8142668008804321,
           0.8464438319206238,
           0.7502775192260742,
           0.7310448288917542,
           0.6949595808982849,
           0.6939235925674438,
           0.7454971075057983,
           0.8153027296066284,
           0.8474798202514648,
           0.7863627076148987,
           0.7671300172805786,
           0.7310447692871094,
           0.7300087809562683,
           0.7815822958946228,
           0.8513879179954529,
           0.8835649490356445,
           0.8055954575538635,
           0.7863628268241882,
           0.7502775192260742,
           0.7492415904998779,
           0.8008150458335876,
           0.8706207275390625,
           0.9027977585792542
          ],
          [
           0.3018592596054077,
           0.15924635529518127,
           -0.044518180191516876,
           -0.23485544323921204,
           -0.2877295911312103,
           -0.1541488766670227,
           0.16748884320259094,
           0.07367673516273499,
           0.43369460105895996,
           -0.0496988520026207,
           -0.16844254732131958,
           0.19503435492515564,
           -0.11897313594818115,
           0.18894605338573456,
           -0.09206213057041168,
           0.000006668269634246826,
           -0.11548124253749847,
           -0.005837492644786835,
           -0.031183291226625443,
           -0.09727878868579865,
           0.9678229093551636,
           0.9356458187103271,
           0.8658401966094971,
           0.8142666816711426,
           0.8153026700019836,
           0.8513879179954529,
           0.870620608329773,
           1,
           0.9678229093551636,
           0.8980172872543335,
           0.846443772315979,
           0.8474798202514648,
           0.8835650086402893,
           0.9027977585792542,
           0.9678229093551636,
           0.9356458187103271,
           0.8658401966094971,
           0.8142667412757874,
           0.8153027296066284,
           0.8513879776000977,
           0.8706206679344177,
           0.8980172872543335,
           0.8658401966094971,
           0.7960346341133118,
           0.744461178779602,
           0.7454971075057983,
           0.7815824151039124,
           0.8008150458335876,
           0.8464438319206238,
           0.8142668008804321,
           0.7444611191749573,
           0.6928876638412476,
           0.6939236521720886,
           0.7300089001655579,
           0.7492415308952332,
           0.8474798202514648,
           0.8153027296066284,
           0.7454971075057983,
           0.6939235925674438,
           0.6949595808982849,
           0.7310448288917542,
           0.7502775192260742,
           0.8835650086402893,
           0.8513879776000977,
           0.7815822958946228,
           0.7300088405609131,
           0.7310448288917542,
           0.7671300768852234,
           0.7863627076148987
          ],
          [
           0.2259027063846588,
           0.12893450260162354,
           -0.016625162214040756,
           -0.24618281424045563,
           -0.25015735626220703,
           -0.11733739823102951,
           0.2117873579263687,
           0.04747166112065315,
           0.45072317123413086,
           -0.006707968655973673,
           -0.17594650387763977,
           0.18912896513938904,
           -0.09716978669166565,
           0.14120805263519287,
           -0.09069701284170151,
           -0.015392862260341644,
           -0.16402150690555573,
           0.041844673454761505,
           -0.08161972463130951,
           -0.09111268818378448,
           0.9356458187103271,
           0.9678228497505188,
           0.9356457591056824,
           0.8658400774002075,
           0.8142666220664978,
           0.8153026103973389,
           0.8513879179954529,
           0.9678229093551636,
           1,
           0.9678228497505188,
           0.8980172276496887,
           0.846443772315979,
           0.8474797606468201,
           0.8835650682449341,
           0.9356458187103271,
           0.9678229093551636,
           0.9356457591056824,
           0.8658401966094971,
           0.8142666816711426,
           0.8153026700019836,
           0.8513879776000977,
           0.8658401966094971,
           0.8980172872543335,
           0.8658401966094971,
           0.796034574508667,
           0.7444611191749573,
           0.7454971075057983,
           0.7815823554992676,
           0.8142668008804321,
           0.8464438319206238,
           0.8142666816711426,
           0.7444610595703125,
           0.6928876042366028,
           0.6939236521720886,
           0.7300089001655579,
           0.8153027296066284,
           0.8474798202514648,
           0.8153026700019836,
           0.7454969882965088,
           0.6939235925674438,
           0.6949595808982849,
           0.7310448288917542,
           0.8513879776000977,
           0.8835650086402893,
           0.8513878583908081,
           0.7815822958946228,
           0.7300087809562683,
           0.7310448288917542,
           0.7671300768852234
          ],
          [
           0.18465232849121094,
           0.12757441401481628,
           0.01867755502462387,
           -0.19638864696025848,
           -0.1871757209300995,
           -0.10718187689781189,
           0.16918958723545074,
           0.025395993143320084,
           0.4612779915332794,
           0.046956222504377365,
           -0.12543730437755585,
           0.20009295642375946,
           -0.06694996356964111,
           0.07664579898118973,
           -0.10359624773263931,
           -0.02368403598666191,
           -0.20633457601070404,
           0.05797698348760605,
           -0.09641476720571518,
           -0.09216214716434479,
           0.8658402562141418,
           0.9356457591056824,
           0.9678229689598083,
           0.9356458783149719,
           0.8658402562141418,
           0.8142667412757874,
           0.8153026700019836,
           0.8980172872543335,
           0.9678228497505188,
           1.0000001192092896,
           0.9678229689598083,
           0.8980174660682678,
           0.8464438319206238,
           0.8474797606468201,
           0.8658402562141418,
           0.9356458187103271,
           0.9678229689598083,
           0.9356459379196167,
           0.8658403158187866,
           0.8142668008804321,
           0.8153027296066284,
           0.7960346341133118,
           0.8658401966094971,
           0.8980173468589783,
           0.8658401966094971,
           0.7960346341133118,
           0.744461178779602,
           0.7454971671104431,
           0.744461178779602,
           0.8142667412757874,
           0.8464438915252686,
           0.8142667412757874,
           0.7444611191749573,
           0.6928876638412476,
           0.6939236521720886,
           0.7454971671104431,
           0.8153027296066284,
           0.8474798798561096,
           0.8153027296066284,
           0.7454971075057983,
           0.6939236521720886,
           0.6949596405029297,
           0.7815823554992676,
           0.8513879179954529,
           0.8835650086402893,
           0.8513879179954529,
           0.7815823554992676,
           0.7300088405609131,
           0.7310448288917542
          ],
          [
           0.21594417095184326,
           0.13605435192584991,
           0.00844486989080906,
           -0.10617034882307053,
           -0.15032805502414703,
           -0.1090991348028183,
           0.07745624333620071,
           0.03850092738866806,
           0.4635002017021179,
           0.06638078391551971,
           -0.06159435957670212,
           0.22415173053741455,
           -0.04845569655299187,
           0.05272916331887245,
           -0.09521421790122986,
           -0.013905012980103493,
           -0.21587364375591278,
           0.017229827120900154,
           -0.06980791687965393,
           -0.09920433908700943,
           0.8142666816711426,
           0.8658400774002075,
           0.9356458783149719,
           0.9678228497505188,
           0.9356458187103271,
           0.8658401966094971,
           0.8142667412757874,
           0.846443772315979,
           0.8980172276496887,
           0.9678229689598083,
           1,
           0.9678229689598083,
           0.8980172872543335,
           0.8464438319206238,
           0.8142666816711426,
           0.8658401370048523,
           0.9356458783149719,
           0.9678229093551636,
           0.9356458783149719,
           0.8658401966094971,
           0.8142667412757874,
           0.744461178779602,
           0.796034574508667,
           0.8658401966094971,
           0.8980172872543335,
           0.8658402562141418,
           0.796034574508667,
           0.7444611191749573,
           0.6928876638412476,
           0.7444610595703125,
           0.8142667412757874,
           0.8464438319206238,
           0.8142668008804321,
           0.7444611191749573,
           0.6928876638412476,
           0.6939235925674438,
           0.7454969882965088,
           0.8153026700019836,
           0.8474798202514648,
           0.8153027296066284,
           0.7454970479011536,
           0.6939235925674438,
           0.7300088405609131,
           0.7815822958946228,
           0.8513879179954529,
           0.8835650086402893,
           0.8513879776000977,
           0.781582236289978,
           0.7300088405609131
          ],
          [
           0.29403072595596313,
           0.12649887800216675,
           -0.056595396250486374,
           -0.0354367271065712,
           -0.16567537188529968,
           -0.09795131534337997,
           0.020683392882347107,
           0.08734878897666931,
           0.4629439413547516,
           0.039773128926754,
           -0.04421768710017204,
           0.24713486433029175,
           -0.052871137857437134,
           0.09376641362905502,
           -0.04962652921676636,
           0.0038771021645516157,
           -0.18819278478622437,
           -0.05175303667783737,
           -0.03355254977941513,
           -0.10493466258049011,
           0.8153026700019836,
           0.8142666220664978,
           0.8658402562141418,
           0.9356458187103271,
           0.9678228497505188,
           0.9356457591056824,
           0.8658401370048523,
           0.8474798202514648,
           0.846443772315979,
           0.8980174660682678,
           0.9678229689598083,
           1,
           0.9678229093551636,
           0.8980172276496887,
           0.8153027296066284,
           0.8142666816711426,
           0.8658402562141418,
           0.9356458783149719,
           0.9678229093551636,
           0.9356458187103271,
           0.8658401966094971,
           0.7454971075057983,
           0.7444611191749573,
           0.7960346341133118,
           0.8658402562141418,
           0.8980173468589783,
           0.8658402562141418,
           0.7960346341133118,
           0.6939236521720886,
           0.6928876042366028,
           0.7444611191749573,
           0.8142668008804321,
           0.8464438319206238,
           0.8142668008804321,
           0.7444611191749573,
           0.6949595808982849,
           0.6939235925674438,
           0.7454970479011536,
           0.8153027296066284,
           0.8474797606468201,
           0.8153027296066284,
           0.7454971075057983,
           0.7310448288917542,
           0.7300087809562683,
           0.7815822958946228,
           0.8513879776000977,
           0.8835650086402893,
           0.8513879776000977,
           0.7815822958946228
          ],
          [
           0.3528508245944977,
           0.08951888978481293,
           -0.13155874609947205,
           -0.030536429956555367,
           -0.20969203114509583,
           -0.06360749900341034,
           0.051753923296928406,
           0.14041967689990997,
           0.46737080812454224,
           -0.0005374811007641256,
           -0.09320084005594254,
           0.2566664516925812,
           -0.07270806282758713,
           0.16828632354736328,
           0.012879535555839539,
           0.00794605165719986,
           -0.1454697698354721,
           -0.09195107966661453,
           -0.027082307264208794,
           -0.10247993469238281,
           0.8513879179954529,
           0.8153026103973389,
           0.8142667412757874,
           0.8658401966094971,
           0.9356457591056824,
           0.9678229093551636,
           0.9356458187103271,
           0.8835650086402893,
           0.8474797606468201,
           0.8464438319206238,
           0.8980172872543335,
           0.9678229093551636,
           1,
           0.9678229689598083,
           0.8513879776000977,
           0.8153026700019836,
           0.8142667412757874,
           0.8658402562141418,
           0.9356458187103271,
           0.9678229093551636,
           0.9356458783149719,
           0.7815824151039124,
           0.7454971075057983,
           0.744461178779602,
           0.796034574508667,
           0.8658402562141418,
           0.8980172872543335,
           0.8658402562141418,
           0.7300089001655579,
           0.6939236521720886,
           0.6928876638412476,
           0.7444611191749573,
           0.8142668008804321,
           0.8464438319206238,
           0.8142668008804321,
           0.7310448288917542,
           0.6949595808982849,
           0.6939236521720886,
           0.7454970479011536,
           0.8153027296066284,
           0.8474797606468201,
           0.8153027296066284,
           0.7671300768852234,
           0.7310448288917542,
           0.7300088405609131,
           0.781582236289978,
           0.8513879776000977,
           0.8835650086402893,
           0.8513879776000977
          ],
          [
           0.34604912996292114,
           0.04428091272711754,
           -0.15704390406608582,
           -0.08349595963954926,
           -0.23086006939411163,
           -0.022484419867396355,
           0.14336223900318146,
           0.16195148229599,
           0.4795708954334259,
           -0.00782741792500019,
           -0.16991543769836426,
           0.2525918185710907,
           -0.08901841193437576,
           0.21728681027889252,
           0.05272336304187775,
           -0.014592589810490608,
           -0.117237888276577,
           -0.06989726424217224,
           -0.060725633054971695,
           -0.09160558879375458,
           0.870620608329773,
           0.8513879179954529,
           0.8153026700019836,
           0.8142667412757874,
           0.8658401370048523,
           0.9356458187103271,
           0.9678228497505188,
           0.9027977585792542,
           0.8835650682449341,
           0.8474797606468201,
           0.8464438319206238,
           0.8980172276496887,
           0.9678229689598083,
           0.9999999403953552,
           0.8706206679344177,
           0.8513879776000977,
           0.8153026700019836,
           0.8142668604850769,
           0.8658401966094971,
           0.9356458783149719,
           0.9678229093551636,
           0.8008150458335876,
           0.7815823554992676,
           0.7454971075057983,
           0.7444611191749573,
           0.7960346341133118,
           0.8658402562141418,
           0.8980172872543335,
           0.7492415308952332,
           0.7300089001655579,
           0.6939236521720886,
           0.6928876638412476,
           0.7444611191749573,
           0.8142668008804321,
           0.8464438319206238,
           0.7502775192260742,
           0.7310448288917542,
           0.6949595808982849,
           0.6939235925674438,
           0.7454971075057983,
           0.8153027296066284,
           0.8474798202514648,
           0.7863627076148987,
           0.7671300768852234,
           0.7310448288917542,
           0.7300088405609131,
           0.7815822958946228,
           0.8513879776000977,
           0.8835650086402893
          ],
          [
           0.3703770637512207,
           0.20339053869247437,
           -0.0018349438905715942,
           -0.23061269521713257,
           -0.27194249629974365,
           -0.1411803513765335,
           0.2077294886112213,
           0.05208928883075714,
           0.4336450695991516,
           -0.058750733733177185,
           -0.1387293040752411,
           0.186871737241745,
           -0.07315680384635925,
           0.23580776154994965,
           -0.08910848200321198,
           0.049555644392967224,
           -0.07532656192779541,
           0.027508441358804703,
           -0.05821937695145607,
           -0.016507836058735847,
           0.8980172872543335,
           0.8658401966094971,
           0.796034574508667,
           0.7444610595703125,
           0.7454971075057983,
           0.7815823554992676,
           0.8008149862289429,
           0.9678229093551636,
           0.9356458187103271,
           0.8658402562141418,
           0.8142666816711426,
           0.8153027296066284,
           0.8513879776000977,
           0.8706206679344177,
           1,
           0.9678229093551636,
           0.8980172872543335,
           0.8464438319206238,
           0.8474798202514648,
           0.8835650086402893,
           0.9027977585792542,
           0.9678229093551636,
           0.9356458187103271,
           0.8658401966094971,
           0.8142666816711426,
           0.8153027296066284,
           0.8513879776000977,
           0.8706206679344177,
           0.8980172872543335,
           0.8658401966094971,
           0.7960346341133118,
           0.744461178779602,
           0.7454971075057983,
           0.7815824151039124,
           0.8008150458335876,
           0.8464438319206238,
           0.8142668008804321,
           0.7444611191749573,
           0.6928876638412476,
           0.6939236521720886,
           0.7300089001655579,
           0.7492415308952332,
           0.8474798202514648,
           0.8153027296066284,
           0.7454971075057983,
           0.6939235925674438,
           0.6949596405029297,
           0.7310448884963989,
           0.7502775192260742
          ],
          [
           0.2944205105304718,
           0.17307865619659424,
           0.026058075949549675,
           -0.24194008111953735,
           -0.23437021672725677,
           -0.10436887294054031,
           0.2520279884338379,
           0.025884216651320457,
           0.4506736695766449,
           -0.015759864822030067,
           -0.14623327553272247,
           0.1809663474559784,
           -0.05135345831513405,
           0.18806973099708557,
           -0.0877433642745018,
           0.03415610268712044,
           -0.12386681139469147,
           0.07519061863422394,
           -0.10865581035614014,
           -0.010341759771108627,
           0.8658401966094971,
           0.8980172872543335,
           0.8658401370048523,
           0.796034574508667,
           0.7444610595703125,
           0.7454971075057983,
           0.7815823554992676,
           0.9356458187103271,
           0.9678229093551636,
           0.9356458187103271,
           0.8658401370048523,
           0.8142666816711426,
           0.8153026700019836,
           0.8513879776000977,
           0.9678229093551636,
           1,
           0.9678228497505188,
           0.8980172872543335,
           0.846443772315979,
           0.8474797606468201,
           0.8835650682449341,
           0.9356458187103271,
           0.9678229093551636,
           0.9356457591056824,
           0.8658401370048523,
           0.8142666816711426,
           0.8153026700019836,
           0.8513879776000977,
           0.8658401966094971,
           0.8980172872543335,
           0.8658401966094971,
           0.796034574508667,
           0.7444611191749573,
           0.7454971075057983,
           0.7815823554992676,
           0.8142668008804321,
           0.8464438319206238,
           0.8142666816711426,
           0.7444610595703125,
           0.6928876042366028,
           0.6939236521720886,
           0.7300089001655579,
           0.8153027296066284,
           0.8474798202514648,
           0.8153026700019836,
           0.7454970479011536,
           0.6939235925674438,
           0.6949596405029297,
           0.7310448884963989
          ],
          [
           0.2531701326370239,
           0.17171858251094818,
           0.06136082857847214,
           -0.19214589893817902,
           -0.17138859629631042,
           -0.09421330690383911,
           0.20943017303943634,
           0.0038085521664470434,
           0.46122846007347107,
           0.03790433704853058,
           -0.09572406113147736,
           0.19193030893802643,
           -0.02113363891839981,
           0.12350748479366302,
           -0.1006426066160202,
           0.025864940136671066,
           -0.16617988049983978,
           0.09132295101881027,
           -0.12345083057880402,
           -0.011391189880669117,
           0.796034574508667,
           0.8658401370048523,
           0.8980172872543335,
           0.8658401966094971,
           0.796034574508667,
           0.7444611191749573,
           0.7454971075057983,
           0.8658401966094971,
           0.9356457591056824,
           0.9678229689598083,
           0.9356458783149719,
           0.8658402562141418,
           0.8142667412757874,
           0.8153026700019836,
           0.8980172872543335,
           0.9678228497505188,
           1,
           0.9678229689598083,
           0.8980174660682678,
           0.8464438319206238,
           0.8474797606468201,
           0.8658401966094971,
           0.9356457591056824,
           0.9678229093551636,
           0.9356458783149719,
           0.8658402562141418,
           0.8142667412757874,
           0.8153026700019836,
           0.7960346341133118,
           0.8658401966094971,
           0.8980172872543335,
           0.8658401966094971,
           0.7960346341133118,
           0.744461178779602,
           0.7454971075057983,
           0.7444611191749573,
           0.8142666816711426,
           0.8464438319206238,
           0.8142667412757874,
           0.7444611191749573,
           0.6928876638412476,
           0.6939236521720886,
           0.7454971075057983,
           0.8153026700019836,
           0.8474798202514648,
           0.8153027296066284,
           0.7454971075057983,
           0.6939236521720886,
           0.6949596405029297
          ],
          [
           0.28446194529533386,
           0.1801985800266266,
           0.05112811177968979,
           -0.10192761570215225,
           -0.13454094529151917,
           -0.0961306095123291,
           0.11769688874483109,
           0.016913481056690216,
           0.46345070004463196,
           0.05732891708612442,
           -0.03188111633062363,
           0.2159890979528427,
           -0.0026393558364361525,
           0.09959086775779724,
           -0.09226057678461075,
           0.03564395383000374,
           -0.1757189780473709,
           0.050575725734233856,
           -0.09684400260448456,
           -0.018433399498462677,
           0.744461178779602,
           0.7960346341133118,
           0.8658401966094971,
           0.8980172872543335,
           0.8658402562141418,
           0.796034574508667,
           0.7444612383842468,
           0.8142667412757874,
           0.8658401966094971,
           0.9356459379196167,
           0.9678229093551636,
           0.9356458783149719,
           0.8658402562141418,
           0.8142668604850769,
           0.8464438319206238,
           0.8980172872543335,
           0.9678229689598083,
           1.0000001192092896,
           0.9678229689598083,
           0.8980172872543335,
           0.8464438915252686,
           0.8142667412757874,
           0.8658401966094971,
           0.9356459379196167,
           0.9678229093551636,
           0.9356458783149719,
           0.8658402562141418,
           0.8142668604850769,
           0.744461178779602,
           0.7960346341133118,
           0.8658401966094971,
           0.8980172872543335,
           0.8658402562141418,
           0.796034574508667,
           0.7444612383842468,
           0.6928876638412476,
           0.7444611191749573,
           0.8142667412757874,
           0.8464438915252686,
           0.8142668008804321,
           0.7444611191749573,
           0.6928877234458923,
           0.6939237117767334,
           0.7454971075057983,
           0.8153027296066284,
           0.8474798798561096,
           0.8153027892112732,
           0.7454971075057983,
           0.6939237713813782
          ],
          [
           0.3625485301017761,
           0.17064303159713745,
           -0.013912154361605644,
           -0.031193988397717476,
           -0.14988826215267181,
           -0.08498279750347137,
           0.06092401593923569,
           0.06576135009527206,
           0.4628944396972656,
           0.03072124719619751,
           -0.014504462480545044,
           0.2389722466468811,
           -0.007054815534502268,
           0.14062811434268951,
           -0.04667288064956665,
           0.05342606455087662,
           -0.1480381041765213,
           -0.01840708777308464,
           -0.06058862432837486,
           -0.02416371926665306,
           0.7454971075057983,
           0.7444610595703125,
           0.796034574508667,
           0.8658402562141418,
           0.8980172872543335,
           0.8658402562141418,
           0.796034574508667,
           0.8153027296066284,
           0.8142666816711426,
           0.8658403158187866,
           0.9356458783149719,
           0.9678229093551636,
           0.9356458187103271,
           0.8658401966094971,
           0.8474798202514648,
           0.846443772315979,
           0.8980174660682678,
           0.9678229689598083,
           1,
           0.9678229093551636,
           0.8980172276496887,
           0.8153027296066284,
           0.8142666816711426,
           0.8658402562141418,
           0.9356458783149719,
           0.9678229093551636,
           0.9356458187103271,
           0.8658401966094971,
           0.7454971075057983,
           0.7444611191749573,
           0.7960346341133118,
           0.8658402562141418,
           0.8980173468589783,
           0.8658402562141418,
           0.7960346341133118,
           0.6939236521720886,
           0.6928876042366028,
           0.7444611191749573,
           0.8142668008804321,
           0.8464438319206238,
           0.8142668008804321,
           0.7444611191749573,
           0.6949596405029297,
           0.6939235925674438,
           0.7454971075057983,
           0.8153027892112732,
           0.8474798202514648,
           0.8153027892112732,
           0.7454971075057983
          ],
          [
           0.42136862874031067,
           0.13366304337978363,
           -0.08887550979852676,
           -0.026293689385056496,
           -0.19390492141246796,
           -0.05063895881175995,
           0.09199457615613937,
           0.11883223056793213,
           0.4673213064670563,
           -0.009589370340108871,
           -0.06348759680986404,
           0.24850383400917053,
           -0.026891734451055527,
           0.21514800190925598,
           0.01583317294716835,
           0.05749502032995224,
           -0.10531508922576904,
           -0.0586051382124424,
           -0.05411839857697487,
           -0.021708983927965164,
           0.7815823554992676,
           0.7454971075057983,
           0.7444611191749573,
           0.7960345149040222,
           0.8658402562141418,
           0.8980172872543335,
           0.8658402562141418,
           0.8513879776000977,
           0.8153026700019836,
           0.8142668008804321,
           0.8658401966094971,
           0.9356458187103271,
           0.9678229093551636,
           0.9356458783149719,
           0.8835650086402893,
           0.8474797606468201,
           0.8464438319206238,
           0.8980172872543335,
           0.9678229093551636,
           1,
           0.9678229689598083,
           0.8513879776000977,
           0.8153026700019836,
           0.8142667412757874,
           0.8658401966094971,
           0.9356458187103271,
           0.9678229093551636,
           0.9356458783149719,
           0.7815824151039124,
           0.7454971075057983,
           0.744461178779602,
           0.796034574508667,
           0.8658402562141418,
           0.8980172872543335,
           0.8658402562141418,
           0.7300089001655579,
           0.6939236521720886,
           0.6928876638412476,
           0.7444611191749573,
           0.8142668008804321,
           0.8464438319206238,
           0.8142668008804321,
           0.7310448884963989,
           0.6949596405029297,
           0.6939236521720886,
           0.7454971075057983,
           0.8153027892112732,
           0.8474798202514648,
           0.8153027892112732
          ],
          [
           0.41456693410873413,
           0.08842504024505615,
           -0.11436064541339874,
           -0.07925321906805038,
           -0.21507295966148376,
           -0.00951589085161686,
           0.18360286951065063,
           0.14036403596401215,
           0.47952139377593994,
           -0.016879307106137276,
           -0.14020220935344696,
           0.24442921578884125,
           -0.04320208355784416,
           0.2641485333442688,
           0.055677011609077454,
           0.03495638072490692,
           -0.07708321511745453,
           -0.036551326513290405,
           -0.08776170015335083,
           -0.010834649205207825,
           0.8008149862289429,
           0.7815823554992676,
           0.7454971075057983,
           0.7444611191749573,
           0.796034574508667,
           0.8658402562141418,
           0.8980172872543335,
           0.8706206679344177,
           0.8513879776000977,
           0.8153027296066284,
           0.8142667412757874,
           0.8658401966094971,
           0.9356458783149719,
           0.9678229093551636,
           0.9027977585792542,
           0.8835650682449341,
           0.8474797606468201,
           0.8464438915252686,
           0.8980172276496887,
           0.9678229689598083,
           0.9999999403953552,
           0.8706206679344177,
           0.8513879776000977,
           0.8153026700019836,
           0.8142667412757874,
           0.8658401966094971,
           0.9356458783149719,
           0.9678229093551636,
           0.8008150458335876,
           0.7815823554992676,
           0.7454971075057983,
           0.7444611191749573,
           0.7960346341133118,
           0.8658402562141418,
           0.8980172872543335,
           0.7492415308952332,
           0.7300089001655579,
           0.6939236521720886,
           0.6928876638412476,
           0.7444611191749573,
           0.8142668008804321,
           0.8464438319206238,
           0.7502775192260742,
           0.7310448884963989,
           0.6949596405029297,
           0.6939236521720886,
           0.7454971075057983,
           0.8153027892112732,
           0.8474798202514648
          ],
          [
           0.4138709604740143,
           0.09482541680335999,
           -0.013622917234897614,
           -0.1854158341884613,
           -0.3097817003726959,
           -0.10782928764820099,
           0.29064586758613586,
           0.02841111458837986,
           0.41530048847198486,
           -0.09501150250434875,
           -0.13410860300064087,
           0.175716370344162,
           -0.051409751176834106,
           0.2882535457611084,
           -0.10062535107135773,
           0.06657836586236954,
           -0.09048564732074738,
           -0.009335674345493317,
           -0.04952261224389076,
           0.021211901679635048,
           0.8464438319206238,
           0.8142668008804321,
           0.7444611191749573,
           0.6928876638412476,
           0.6939236521720886,
           0.7300089001655579,
           0.7492415308952332,
           0.8980172872543335,
           0.8658401966094971,
           0.7960346341133118,
           0.744461178779602,
           0.7454971075057983,
           0.7815824151039124,
           0.8008150458335876,
           0.9678229093551636,
           0.9356458187103271,
           0.8658401966094971,
           0.8142667412757874,
           0.8153027296066284,
           0.8513879776000977,
           0.8706206679344177,
           1,
           0.9678229093551636,
           0.8980172872543335,
           0.846443772315979,
           0.8474798202514648,
           0.8835650086402893,
           0.9027977585792542,
           0.9678229093551636,
           0.9356458187103271,
           0.8658401966094971,
           0.8142666816711426,
           0.8153027296066284,
           0.8513879776000977,
           0.8706206679344177,
           0.8980172872543335,
           0.8658401966094971,
           0.796034574508667,
           0.7444610595703125,
           0.7454970479011536,
           0.7815823554992676,
           0.8008149862289429,
           0.846443772315979,
           0.8142666816711426,
           0.7444611191749573,
           0.6928876638412476,
           0.6939235925674438,
           0.7300088405609131,
           0.7492415308952332
          ],
          [
           0.33791443705558777,
           0.06451353430747986,
           0.014270102605223656,
           -0.1967431902885437,
           -0.27220943570137024,
           -0.07101781666278839,
           0.33494436740875244,
           0.002206046599894762,
           0.43232905864715576,
           -0.05202064290642738,
           -0.14161257445812225,
           0.16981098055839539,
           -0.029606403782963753,
           0.2405155450105667,
           -0.09926023334264755,
           0.05117880925536156,
           -0.13902591168880463,
           0.03834649175405502,
           -0.09995906054973602,
           0.02737797051668167,
           0.8142668008804321,
           0.8464438319206238,
           0.8142666816711426,
           0.7444610595703125,
           0.6928876042366028,
           0.6939236521720886,
           0.7300089001655579,
           0.8658401966094971,
           0.8980172872543335,
           0.8658401966094971,
           0.796034574508667,
           0.7444611191749573,
           0.7454971075057983,
           0.7815823554992676,
           0.9356458187103271,
           0.9678229093551636,
           0.9356457591056824,
           0.8658401966094971,
           0.8142666816711426,
           0.8153026700019836,
           0.8513879776000977,
           0.9678229093551636,
           1,
           0.9678228497505188,
           0.8980172276496887,
           0.846443772315979,
           0.8474797606468201,
           0.8835650682449341,
           0.9356458187103271,
           0.9678229093551636,
           0.9356457591056824,
           0.8658401370048523,
           0.8142666816711426,
           0.8153026700019836,
           0.8513879776000977,
           0.8658401966094971,
           0.8980172276496887,
           0.8658401370048523,
           0.7960345149040222,
           0.7444610595703125,
           0.7454970479011536,
           0.7815822958946228,
           0.8142666816711426,
           0.8464438319206238,
           0.8142666816711426,
           0.7444609999656677,
           0.6928876042366028,
           0.6939235925674438,
           0.7300088405609131
          ],
          [
           0.2966640889644623,
           0.06315344572067261,
           0.049572817981243134,
           -0.14694900810718536,
           -0.2092278003692627,
           -0.06086223945021629,
           0.29234662652015686,
           -0.019869590178132057,
           0.44288384914398193,
           0.001643561408855021,
           -0.09110336005687714,
           0.18077494204044342,
           0.0006134063005447388,
           0.17595331370830536,
           -0.11215947568416595,
           0.042887669056653976,
           -0.18133896589279175,
           0.054478827863931656,
           -0.1147540807723999,
           0.02632853575050831,
           0.7444611191749573,
           0.8142666816711426,
           0.8464438319206238,
           0.8142667412757874,
           0.7444611191749573,
           0.6928876638412476,
           0.6939236521720886,
           0.7960346341133118,
           0.8658401966094971,
           0.8980173468589783,
           0.8658401966094971,
           0.7960346341133118,
           0.744461178779602,
           0.7454971075057983,
           0.8658401966094971,
           0.9356457591056824,
           0.9678229093551636,
           0.9356459379196167,
           0.8658402562141418,
           0.8142667412757874,
           0.8153026700019836,
           0.8980172872543335,
           0.9678228497505188,
           1,
           0.9678229689598083,
           0.8980174660682678,
           0.8464438319206238,
           0.8474797606468201,
           0.8658401966094971,
           0.9356457591056824,
           0.9678229093551636,
           0.9356458783149719,
           0.8658402562141418,
           0.8142667412757874,
           0.8153026700019836,
           0.796034574508667,
           0.8658401370048523,
           0.8980172276496887,
           0.8658401370048523,
           0.796034574508667,
           0.7444611191749573,
           0.7454970479011536,
           0.7444611191749573,
           0.8142666816711426,
           0.846443772315979,
           0.8142666816711426,
           0.7444610595703125,
           0.6928876638412476,
           0.6939235925674438
          ],
          [
           0.32795584201812744,
           0.07163340598344803,
           0.039340127259492874,
           -0.0567307285964489,
           -0.17238014936447144,
           -0.06277954578399658,
           0.20061326026916504,
           -0.00676469411700964,
           0.4451060891151428,
           0.021068137139081955,
           -0.027260417118668556,
           0.2048337459564209,
           0.019107701256871223,
           0.15203668177127838,
           -0.1037774384021759,
           0.052666641771793365,
           -0.1908780336380005,
           0.013731645420193672,
           -0.08814724534749985,
           0.019286323338747025,
           0.6928876638412476,
           0.7444610595703125,
           0.8142667412757874,
           0.8464438319206238,
           0.8142668008804321,
           0.7444611191749573,
           0.6928876638412476,
           0.744461178779602,
           0.796034574508667,
           0.8658401966094971,
           0.8980172872543335,
           0.8658402562141418,
           0.796034574508667,
           0.7444611191749573,
           0.8142666816711426,
           0.8658401370048523,
           0.9356458783149719,
           0.9678229093551636,
           0.9356458783149719,
           0.8658401966094971,
           0.8142667412757874,
           0.846443772315979,
           0.8980172276496887,
           0.9678229689598083,
           1,
           0.9678229689598083,
           0.8980172872543335,
           0.8464438319206238,
           0.8142666816711426,
           0.8658401370048523,
           0.9356458783149719,
           0.9678229093551636,
           0.9356458783149719,
           0.8658401966094971,
           0.8142667412757874,
           0.7444610595703125,
           0.7960345149040222,
           0.8658401370048523,
           0.8980172276496887,
           0.8658401966094971,
           0.7960345149040222,
           0.7444610595703125,
           0.6928876638412476,
           0.7444609999656677,
           0.8142666816711426,
           0.8464438319206238,
           0.8142667412757874,
           0.7444610595703125,
           0.6928876042366028
          ],
          [
           0.4060424268245697,
           0.06207789480686188,
           -0.02570013329386711,
           0.014002871699631214,
           -0.18772746622562408,
           -0.051631730049848557,
           0.14384041726589203,
           0.04208317771553993,
           0.4445498585700989,
           -0.005539529025554657,
           -0.009883761405944824,
           0.2278168648481369,
           0.014692236669361591,
           0.19307394325733185,
           -0.0581897534430027,
           0.07044877111911774,
           -0.16319717466831207,
           -0.055251218378543854,
           -0.05189186707139015,
           0.013556002639234066,
           0.6939236521720886,
           0.6928876042366028,
           0.7444611191749573,
           0.8142668008804321,
           0.8464438319206238,
           0.8142668008804321,
           0.7444611191749573,
           0.7454971075057983,
           0.7444611191749573,
           0.7960346341133118,
           0.8658402562141418,
           0.8980173468589783,
           0.8658402562141418,
           0.7960346341133118,
           0.8153027296066284,
           0.8142666816711426,
           0.8658402562141418,
           0.9356458783149719,
           0.9678229093551636,
           0.9356458187103271,
           0.8658401966094971,
           0.8474798202514648,
           0.846443772315979,
           0.8980174660682678,
           0.9678229689598083,
           1,
           0.9678229093551636,
           0.8980172276496887,
           0.8153027296066284,
           0.8142666816711426,
           0.8658402562141418,
           0.9356458783149719,
           0.9678229093551636,
           0.9356458187103271,
           0.8658401966094971,
           0.7454970479011536,
           0.7444610595703125,
           0.796034574508667,
           0.8658401966094971,
           0.8980172872543335,
           0.8658401966094971,
           0.796034574508667,
           0.6939235925674438,
           0.6928876042366028,
           0.7444610595703125,
           0.8142667412757874,
           0.846443772315979,
           0.8142667412757874,
           0.7444611191749573
          ],
          [
           0.46486252546310425,
           0.025097930803894997,
           -0.10066348314285278,
           0.01890319399535656,
           -0.23174414038658142,
           -0.01728789508342743,
           0.17491096258163452,
           0.0951540544629097,
           0.44897669553756714,
           -0.04585014283657074,
           -0.058866892009973526,
           0.23734846711158752,
           -0.005144685506820679,
           0.2675938308238983,
           0.004316315054893494,
           0.07451775670051575,
           -0.12047417461872101,
           -0.09544926136732101,
           -0.04542164131999016,
           0.016010742634534836,
           0.7300089001655579,
           0.6939236521720886,
           0.6928876638412476,
           0.7444611191749573,
           0.8142668008804321,
           0.8464438319206238,
           0.8142668008804321,
           0.7815824151039124,
           0.7454971075057983,
           0.744461178779602,
           0.796034574508667,
           0.8658402562141418,
           0.8980172872543335,
           0.8658402562141418,
           0.8513879776000977,
           0.8153026700019836,
           0.8142667412757874,
           0.8658402562141418,
           0.9356458187103271,
           0.9678229093551636,
           0.9356458783149719,
           0.8835650086402893,
           0.8474797606468201,
           0.8464438319206238,
           0.8980172872543335,
           0.9678229093551636,
           1,
           0.9678229689598083,
           0.8513879776000977,
           0.8153026700019836,
           0.8142667412757874,
           0.8658401966094971,
           0.9356458187103271,
           0.9678229093551636,
           0.9356458783149719,
           0.7815823554992676,
           0.7454970479011536,
           0.7444611191749573,
           0.7960345149040222,
           0.8658401966094971,
           0.8980172276496887,
           0.8658401966094971,
           0.7300088405609131,
           0.6939235925674438,
           0.6928876638412476,
           0.7444610595703125,
           0.8142667412757874,
           0.846443772315979,
           0.8142667412757874
          ],
          [
           0.4580608308315277,
           -0.02014005556702614,
           -0.12614864110946655,
           -0.034056324511766434,
           -0.2529121935367584,
           0.023835165426135063,
           0.26651933789253235,
           0.11668585985898972,
           0.4611767530441284,
           -0.0531400628387928,
           -0.13558150827884674,
           0.23327387869358063,
           -0.021455030888319016,
           0.31659436225891113,
           0.0441601425409317,
           0.051979102194309235,
           -0.0922422856092453,
           -0.07339544594287872,
           -0.07906495034694672,
           0.026885081082582474,
           0.7492415308952332,
           0.7300089001655579,
           0.6939236521720886,
           0.6928876638412476,
           0.7444611191749573,
           0.8142668008804321,
           0.8464438319206238,
           0.8008150458335876,
           0.7815823554992676,
           0.7454971671104431,
           0.7444611191749573,
           0.7960346341133118,
           0.8658402562141418,
           0.8980172872543335,
           0.8706206679344177,
           0.8513879776000977,
           0.8153026700019836,
           0.8142668604850769,
           0.8658401966094971,
           0.9356458783149719,
           0.9678229093551636,
           0.9027977585792542,
           0.8835650682449341,
           0.8474797606468201,
           0.8464438319206238,
           0.8980172276496887,
           0.9678229689598083,
           0.9999999403953552,
           0.8706206679344177,
           0.8513879776000977,
           0.8153026700019836,
           0.8142667412757874,
           0.8658401966094971,
           0.9356458783149719,
           0.9678229093551636,
           0.8008149862289429,
           0.7815822958946228,
           0.7454970479011536,
           0.7444610595703125,
           0.796034574508667,
           0.8658401966094971,
           0.8980172276496887,
           0.7492415308952332,
           0.7300088405609131,
           0.6939235925674438,
           0.6928876042366028,
           0.7444611191749573,
           0.8142667412757874,
           0.8464438319206238
          ],
          [
           0.4150356352329254,
           -0.07237282395362854,
           -0.054812584072351456,
           -0.14258956909179688,
           -0.39139506220817566,
           -0.08459894359111786,
           0.34783852100372314,
           0.025825688615441322,
           0.38468050956726074,
           -0.13645809888839722,
           -0.16828325390815735,
           0.15646293759346008,
           -0.048952601850032806,
           0.2916809618473053,
           -0.09792149066925049,
           0.02392636239528656,
           -0.15633180737495422,
           -0.07243829220533371,
           -0.007960494607686996,
           -0.0011546146124601364,
           0.8474798202514648,
           0.8153027296066284,
           0.7454971075057983,
           0.6939235925674438,
           0.6949595808982849,
           0.7310448288917542,
           0.7502775192260742,
           0.8464438319206238,
           0.8142668008804321,
           0.744461178779602,
           0.6928876638412476,
           0.6939236521720886,
           0.7300089001655579,
           0.7492415308952332,
           0.8980172872543335,
           0.8658401966094971,
           0.7960346341133118,
           0.744461178779602,
           0.7454971075057983,
           0.7815824151039124,
           0.8008150458335876,
           0.9678229093551636,
           0.9356458187103271,
           0.8658401966094971,
           0.8142666816711426,
           0.8153027296066284,
           0.8513879776000977,
           0.8706206679344177,
           1,
           0.9678230285644531,
           0.8980173468589783,
           0.8464438915252686,
           0.8474798798561096,
           0.8835650682449341,
           0.9027977585792542,
           0.9678229093551636,
           0.9356458187103271,
           0.8658401966094971,
           0.8142666816711426,
           0.8153026700019836,
           0.8513879179954529,
           0.870620608329773,
           0.8980172872543335,
           0.8658401966094971,
           0.7960346341133118,
           0.744461178779602,
           0.7454971075057983,
           0.7815824151039124,
           0.8008150458335876
          ],
          [
           0.3390791118144989,
           -0.10268468409776688,
           -0.026919567957520485,
           -0.15391692519187927,
           -0.3538227677345276,
           -0.04778746888041496,
           0.3921370506286621,
           -0.00037937553133815527,
           0.40170907974243164,
           -0.09346722811460495,
           -0.17578721046447754,
           0.1505575329065323,
           -0.027149247005581856,
           0.2439429610967636,
           -0.09655637294054031,
           0.008526813238859177,
           -0.20487207174301147,
           -0.024756141006946564,
           -0.05839693918824196,
           0.005011461209505796,
           0.8153027296066284,
           0.8474798202514648,
           0.8153026700019836,
           0.7454969882965088,
           0.6939235925674438,
           0.6949595808982849,
           0.7310448288917542,
           0.8142668008804321,
           0.8464438319206238,
           0.8142667412757874,
           0.7444610595703125,
           0.6928876042366028,
           0.6939236521720886,
           0.7300089001655579,
           0.8658401966094971,
           0.8980172872543335,
           0.8658401966094971,
           0.7960346341133118,
           0.7444611191749573,
           0.7454971075057983,
           0.7815823554992676,
           0.9356458187103271,
           0.9678229093551636,
           0.9356457591056824,
           0.8658401370048523,
           0.8142666816711426,
           0.8153026700019836,
           0.8513879776000977,
           0.9678230285644531,
           1,
           0.9678229093551636,
           0.8980172872543335,
           0.8464438319206238,
           0.8474798202514648,
           0.8835651278495789,
           0.9356458187103271,
           0.9678228497505188,
           0.9356457591056824,
           0.8658400774002075,
           0.8142666220664978,
           0.8153026103973389,
           0.8513879179954529,
           0.8658401966094971,
           0.8980172872543335,
           0.8658401966094971,
           0.796034574508667,
           0.7444611191749573,
           0.7454971075057983,
           0.7815823554992676
          ],
          [
           0.2978287637233734,
           -0.10404478013515472,
           0.008383153937757015,
           -0.10412275791168213,
           -0.29084116220474243,
           -0.037631891667842865,
           0.34953930974006653,
           -0.022455016151070595,
           0.4122639000415802,
           -0.039803024381399155,
           -0.12527799606323242,
           0.16152150928974152,
           0.0030705630779266357,
           0.17938072979450226,
           -0.10945561528205872,
           0.00023565127048641443,
           -0.2471851408481598,
           -0.008623816072940826,
           -0.07319195568561554,
           0.003962020389735699,
           0.7454971075057983,
           0.8153026700019836,
           0.8474797606468201,
           0.8153026700019836,
           0.7454970479011536,
           0.6939236521720886,
           0.6949595808982849,
           0.7444611191749573,
           0.8142666816711426,
           0.8464438915252686,
           0.8142667412757874,
           0.7444611191749573,
           0.6928876638412476,
           0.6939236521720886,
           0.7960346341133118,
           0.8658401966094971,
           0.8980172872543335,
           0.8658401966094971,
           0.7960346341133118,
           0.744461178779602,
           0.7454971075057983,
           0.8658401966094971,
           0.9356457591056824,
           0.9678229093551636,
           0.9356458783149719,
           0.8658402562141418,
           0.8142667412757874,
           0.8153026700019836,
           0.8980173468589783,
           0.9678229093551636,
           1,
           0.9678230285644531,
           0.8980175256729126,
           0.8464438915252686,
           0.8474798202514648,
           0.8658401966094971,
           0.9356457591056824,
           0.9678229093551636,
           0.9356458783149719,
           0.8658402562141418,
           0.8142667412757874,
           0.8153026700019836,
           0.7960346341133118,
           0.8658401966094971,
           0.8980172872543335,
           0.8658401966094971,
           0.7960346341133118,
           0.744461178779602,
           0.7454971075057983
          ],
          [
           0.3291205167770386,
           -0.0955648124217987,
           -0.0018495373660698533,
           -0.013904456980526447,
           -0.2539934813976288,
           -0.03954918310046196,
           0.2578059136867523,
           -0.009350120089948177,
           0.4144861400127411,
           -0.02037845179438591,
           -0.061435066163539886,
           0.185580313205719,
           0.021564843133091927,
           0.15546409785747528,
           -0.10107357800006866,
           0.010014662519097328,
           -0.25672420859336853,
           -0.04937097430229187,
           -0.04658513143658638,
           -0.00308019551448524,
           0.6939235925674438,
           0.7454969882965088,
           0.8153026700019836,
           0.8474798202514648,
           0.8153027296066284,
           0.7454970479011536,
           0.6939235925674438,
           0.6928876638412476,
           0.7444610595703125,
           0.8142667412757874,
           0.8464438319206238,
           0.8142668008804321,
           0.7444611191749573,
           0.6928876638412476,
           0.744461178779602,
           0.796034574508667,
           0.8658401966094971,
           0.8980172872543335,
           0.8658402562141418,
           0.796034574508667,
           0.7444611191749573,
           0.8142666816711426,
           0.8658401370048523,
           0.9356458783149719,
           0.9678229093551636,
           0.9356458783149719,
           0.8658401966094971,
           0.8142667412757874,
           0.8464438915252686,
           0.8980172872543335,
           0.9678230285644531,
           1.0000001192092896,
           0.9678230285644531,
           0.8980173468589783,
           0.8464438915252686,
           0.8142666816711426,
           0.8658400774002075,
           0.9356458783149719,
           0.9678228497505188,
           0.9356458187103271,
           0.8658401966094971,
           0.8142667412757874,
           0.744461178779602,
           0.796034574508667,
           0.8658401966094971,
           0.8980172872543335,
           0.8658402562141418,
           0.796034574508667,
           0.7444611191749573
          ],
          [
           0.40720710158348083,
           -0.10512033849954605,
           -0.06688980758190155,
           0.05682913959026337,
           -0.2693408131599426,
           -0.028401372954249382,
           0.2010331004858017,
           0.039497751742601395,
           0.41392990946769714,
           -0.04698612168431282,
           -0.04405839368700981,
           0.208563432097435,
           0.017149394378066063,
           0.19650135934352875,
           -0.05548589304089546,
           0.0277967881411314,
           -0.22904333472251892,
           -0.11835383623838425,
           -0.010329751297831535,
           -0.008810502476990223,
           0.6949595808982849,
           0.6939235925674438,
           0.7454970479011536,
           0.8153027296066284,
           0.8474797606468201,
           0.8153027296066284,
           0.7454971075057983,
           0.6939236521720886,
           0.6928876042366028,
           0.7444611191749573,
           0.8142668008804321,
           0.8464438319206238,
           0.8142668008804321,
           0.7444611191749573,
           0.7454971075057983,
           0.7444611191749573,
           0.7960346341133118,
           0.8658402562141418,
           0.8980173468589783,
           0.8658402562141418,
           0.7960346341133118,
           0.8153027296066284,
           0.8142666816711426,
           0.8658402562141418,
           0.9356458783149719,
           0.9678229093551636,
           0.9356458187103271,
           0.8658401966094971,
           0.8474798798561096,
           0.8464438319206238,
           0.8980175256729126,
           0.9678230285644531,
           1.0000001192092896,
           0.9678229689598083,
           0.8980172872543335,
           0.8153026700019836,
           0.8142666220664978,
           0.8658402562141418,
           0.9356458187103271,
           0.9678228497505188,
           0.9356457591056824,
           0.8658401370048523,
           0.7454971075057983,
           0.7444611191749573,
           0.7960346341133118,
           0.8658402562141418,
           0.8980173468589783,
           0.8658402562141418,
           0.7960346341133118
          ],
          [
           0.4660272002220154,
           -0.1421002894639969,
           -0.14185315370559692,
           0.061729464679956436,
           -0.31335750222206116,
           0.005942466668784618,
           0.232103630900383,
           0.09256862103939056,
           0.4183567464351654,
           -0.08729670941829681,
           -0.0930415466427803,
           0.21809501945972443,
           -0.002687521278858185,
           0.2710212469100952,
           0.0070201680064201355,
           0.03186573088169098,
           -0.18632034957408905,
           -0.158551886677742,
           -0.0038595283403992653,
           -0.006355769466608763,
           0.7310448288917542,
           0.6949595808982849,
           0.6939236521720886,
           0.7454970479011536,
           0.8153027296066284,
           0.8474797606468201,
           0.8153027296066284,
           0.7300089001655579,
           0.6939236521720886,
           0.6928876638412476,
           0.7444611191749573,
           0.8142668008804321,
           0.8464438319206238,
           0.8142668008804321,
           0.7815824151039124,
           0.7454971075057983,
           0.744461178779602,
           0.796034574508667,
           0.8658402562141418,
           0.8980172872543335,
           0.8658402562141418,
           0.8513879776000977,
           0.8153026700019836,
           0.8142667412757874,
           0.8658401966094971,
           0.9356458187103271,
           0.9678229093551636,
           0.9356458783149719,
           0.8835650682449341,
           0.8474798202514648,
           0.8464438915252686,
           0.8980173468589783,
           0.9678229689598083,
           1.0000001192092896,
           0.9678230285644531,
           0.8513879179954529,
           0.8153026103973389,
           0.8142667412757874,
           0.8658401966094971,
           0.9356457591056824,
           0.9678229093551636,
           0.9356458187103271,
           0.7815824151039124,
           0.7454971075057983,
           0.744461178779602,
           0.796034574508667,
           0.8658402562141418,
           0.8980172872543335,
           0.8658402562141418
          ],
          [
           0.45922550559043884,
           -0.18733827769756317,
           -0.1673383116722107,
           0.008769925683736801,
           -0.33452558517456055,
           0.047065529972314835,
           0.32371196150779724,
           0.11410044133663177,
           0.4305568039417267,
           -0.09458665549755096,
           -0.16975614428520203,
           0.21402044594287872,
           -0.018997877836227417,
           0.32002177834510803,
           0.04686400294303894,
           0.009327096864581108,
           -0.15808844566345215,
           -0.13649806380271912,
           -0.03750283643603325,
           0.004518564324826002,
           0.7502775192260742,
           0.7310448288917542,
           0.6949595808982849,
           0.6939235925674438,
           0.7454971075057983,
           0.8153027296066284,
           0.8474798202514648,
           0.7492415308952332,
           0.7300089001655579,
           0.6939236521720886,
           0.6928876638412476,
           0.7444611191749573,
           0.8142668008804321,
           0.8464438319206238,
           0.8008150458335876,
           0.7815823554992676,
           0.7454971075057983,
           0.7444612383842468,
           0.7960346341133118,
           0.8658402562141418,
           0.8980172872543335,
           0.8706206679344177,
           0.8513879776000977,
           0.8153026700019836,
           0.8142667412757874,
           0.8658401966094971,
           0.9356458783149719,
           0.9678229093551636,
           0.9027977585792542,
           0.8835651278495789,
           0.8474798202514648,
           0.8464438915252686,
           0.8980172872543335,
           0.9678230285644531,
           1,
           0.870620608329773,
           0.8513879179954529,
           0.8153026700019836,
           0.8142667412757874,
           0.8658401370048523,
           0.9356458187103271,
           0.9678228497505188,
           0.8008150458335876,
           0.7815823554992676,
           0.7454971075057983,
           0.7444611191749573,
           0.7960346341133118,
           0.8658402562141418,
           0.8980172872543335
          ],
          [
           0.3894154131412506,
           -0.15181505680084229,
           -0.07071161270141602,
           -0.14202773571014404,
           -0.4671024978160858,
           -0.0915093868970871,
           0.33524981141090393,
           0.049581579864025116,
           0.3513182997703552,
           -0.1542135626077652,
           -0.22362038493156433,
           0.12974941730499268,
           -0.0462670624256134,
           0.24036793410778046,
           -0.07022961229085922,
           -0.052324503660202026,
           -0.2234605848789215,
           -0.09908942878246307,
           0.030536796897649765,
           -0.04311665892601013,
           0.8835649490356445,
           0.8513878583908081,
           0.7815822958946228,
           0.7300088405609131,
           0.7310447692871094,
           0.7671300768852234,
           0.7863627076148987,
           0.8474798202514648,
           0.8153027296066284,
           0.7454971671104431,
           0.6939235925674438,
           0.6949595808982849,
           0.7310448288917542,
           0.7502775192260742,
           0.8464438319206238,
           0.8142668008804321,
           0.7444611191749573,
           0.6928876638412476,
           0.6939236521720886,
           0.7300089001655579,
           0.7492415308952332,
           0.8980172872543335,
           0.8658401966094971,
           0.796034574508667,
           0.7444610595703125,
           0.7454970479011536,
           0.7815823554992676,
           0.8008149862289429,
           0.9678229093551636,
           0.9356458187103271,
           0.8658401966094971,
           0.8142666816711426,
           0.8153026700019836,
           0.8513879179954529,
           0.870620608329773,
           1,
           0.9678229093551636,
           0.8980172872543335,
           0.846443772315979,
           0.8474798202514648,
           0.8835650086402893,
           0.9027977585792542,
           0.9678229093551636,
           0.9356458187103271,
           0.8658401966094971,
           0.8142666816711426,
           0.8153026700019836,
           0.8513879179954529,
           0.870620608329773
          ],
          [
           0.3134588897228241,
           -0.1821269541978836,
           -0.042818594723939896,
           -0.15335509181022644,
           -0.42953017354011536,
           -0.0546979121863842,
           0.3795483410358429,
           0.023376500234007835,
           0.3683468699455261,
           -0.11122270673513412,
           -0.23112431168556213,
           0.12384404242038727,
           -0.024463707581162453,
           0.19262994825839996,
           -0.06886450201272964,
           -0.06772405654191971,
           -0.27200087904930115,
           -0.05140729248523712,
           -0.019899656996130943,
           -0.036950577050447464,
           0.8513878583908081,
           0.8835649490356445,
           0.8513878583908081,
           0.781582236289978,
           0.7300087809562683,
           0.7310447692871094,
           0.7671300172805786,
           0.8153027296066284,
           0.8474798202514648,
           0.8153027296066284,
           0.7454969882965088,
           0.6939235925674438,
           0.6949595808982849,
           0.7310448288917542,
           0.8142668008804321,
           0.8464438319206238,
           0.8142666816711426,
           0.7444611191749573,
           0.6928876042366028,
           0.6939236521720886,
           0.7300089001655579,
           0.8658401966094971,
           0.8980172276496887,
           0.8658401370048523,
           0.7960345149040222,
           0.7444610595703125,
           0.7454970479011536,
           0.7815822958946228,
           0.9356458187103271,
           0.9678228497505188,
           0.9356457591056824,
           0.8658400774002075,
           0.8142666220664978,
           0.8153026103973389,
           0.8513879179954529,
           0.9678229093551636,
           1,
           0.9678228497505188,
           0.8980172276496887,
           0.846443772315979,
           0.8474797606468201,
           0.8835650682449341,
           0.9356458187103271,
           0.9678228497505188,
           0.9356457591056824,
           0.8658400774002075,
           0.8142666220664978,
           0.8153026103973389,
           0.8513879179954529
          ],
          [
           0.2722085416316986,
           -0.18348702788352966,
           -0.007515876553952694,
           -0.1035609245300293,
           -0.366548627614975,
           -0.0445423349738121,
           0.3369506001472473,
           0.00130084331613034,
           0.3789016604423523,
           -0.057558510452508926,
           -0.1806151121854782,
           0.1348080039024353,
           0.005756109952926636,
           0.12806770205497742,
           -0.08176374435424805,
           -0.07601521164178848,
           -0.3143139183521271,
           -0.0352749340236187,
           -0.03469466418027878,
           -0.038000013679265976,
           0.7815822958946228,
           0.8513878583908081,
           0.8835649490356445,
           0.8513878583908081,
           0.7815822958946228,
           0.7300088405609131,
           0.7310447692871094,
           0.7454971075057983,
           0.8153026700019836,
           0.8474798798561096,
           0.8153026700019836,
           0.7454970479011536,
           0.6939236521720886,
           0.6949595808982849,
           0.7444611191749573,
           0.8142666816711426,
           0.8464438319206238,
           0.8142667412757874,
           0.7444611191749573,
           0.6928876638412476,
           0.6939236521720886,
           0.796034574508667,
           0.8658401370048523,
           0.8980172276496887,
           0.8658401370048523,
           0.796034574508667,
           0.7444611191749573,
           0.7454970479011536,
           0.8658401966094971,
           0.9356457591056824,
           0.9678229093551636,
           0.9356458783149719,
           0.8658402562141418,
           0.8142667412757874,
           0.8153026700019836,
           0.8980172872543335,
           0.9678228497505188,
           1,
           0.9678229689598083,
           0.8980174660682678,
           0.8464438319206238,
           0.8474797606468201,
           0.8658401966094971,
           0.9356457591056824,
           0.9678229093551636,
           0.9356458783149719,
           0.8658402562141418,
           0.8142667412757874,
           0.8153026700019836
          ],
          [
           0.30350029468536377,
           -0.17500704526901245,
           -0.01774856634438038,
           -0.013342623598873615,
           -0.32970094680786133,
           -0.046459633857011795,
           0.2452172040939331,
           0.014405784197151661,
           0.3811239004135132,
           -0.03813391923904419,
           -0.11677217483520508,
           0.1588667929172516,
           0.024250390008091927,
           0.10415107756853104,
           -0.07338171452283859,
           -0.06623618304729462,
           -0.3238529860973358,
           -0.07602212578058243,
           -0.008087837137281895,
           -0.045042235404253006,
           0.7300088405609131,
           0.781582236289978,
           0.8513878583908081,
           0.8835649490356445,
           0.8513879179954529,
           0.781582236289978,
           0.7300087809562683,
           0.6939235925674438,
           0.7454969882965088,
           0.8153027296066284,
           0.8474798202514648,
           0.8153027296066284,
           0.7454970479011536,
           0.6939235925674438,
           0.6928876638412476,
           0.7444610595703125,
           0.8142667412757874,
           0.8464438915252686,
           0.8142668008804321,
           0.7444611191749573,
           0.6928876638412476,
           0.7444610595703125,
           0.7960345149040222,
           0.8658401370048523,
           0.8980172276496887,
           0.8658401966094971,
           0.7960345149040222,
           0.7444610595703125,
           0.8142666816711426,
           0.8658400774002075,
           0.9356458783149719,
           0.9678228497505188,
           0.9356458187103271,
           0.8658401966094971,
           0.8142667412757874,
           0.846443772315979,
           0.8980172276496887,
           0.9678229689598083,
           1,
           0.9678229689598083,
           0.8980172872543335,
           0.8464438319206238,
           0.8142666816711426,
           0.8658400774002075,
           0.9356458783149719,
           0.9678228497505188,
           0.9356458187103271,
           0.8658401966094971,
           0.8142667412757874
          ],
          [
           0.38158687949180603,
           -0.1845625638961792,
           -0.08278883993625641,
           0.0573909729719162,
           -0.34504827857017517,
           -0.03531181812286377,
           0.1884443759918213,
           0.06325364112854004,
           0.3805676996707916,
           -0.0647415816783905,
           -0.0993955135345459,
           0.1818499118089676,
           0.019834941253066063,
           0.1451883167028427,
           -0.027794022113084793,
           -0.04845406860113144,
           -0.2961721122264862,
           -0.1450049728155136,
           0.028167540207505226,
           -0.050772543996572495,
           0.7310447692871094,
           0.7300087809562683,
           0.7815822958946228,
           0.8513879179954529,
           0.8835650086402893,
           0.8513879179954529,
           0.7815822958946228,
           0.6949595808982849,
           0.6939235925674438,
           0.7454971075057983,
           0.8153027296066284,
           0.8474797606468201,
           0.8153027296066284,
           0.7454971075057983,
           0.6939236521720886,
           0.6928876042366028,
           0.7444611191749573,
           0.8142668008804321,
           0.8464438319206238,
           0.8142668008804321,
           0.7444611191749573,
           0.7454970479011536,
           0.7444610595703125,
           0.796034574508667,
           0.8658401966094971,
           0.8980172872543335,
           0.8658401966094971,
           0.796034574508667,
           0.8153026700019836,
           0.8142666220664978,
           0.8658402562141418,
           0.9356458187103271,
           0.9678228497505188,
           0.9356457591056824,
           0.8658401370048523,
           0.8474798202514648,
           0.846443772315979,
           0.8980174660682678,
           0.9678229689598083,
           1,
           0.9678229093551636,
           0.8980172276496887,
           0.8153026700019836,
           0.8142666220664978,
           0.8658402562141418,
           0.9356458187103271,
           0.9678228497505188,
           0.9356457591056824,
           0.8658401370048523
          ],
          [
           0.4404069781303406,
           -0.22154252231121063,
           -0.15775218605995178,
           0.06229129806160927,
           -0.3890649378299713,
           -0.0009679764043539762,
           0.2195148915052414,
           0.1163245216012001,
           0.3849944770336151,
           -0.1050521731376648,
           -0.1483786553144455,
           0.19138149917125702,
           -0.0000019892822820111178,
           0.21970820426940918,
           0.034712035208940506,
           -0.044385120272636414,
           -0.25344914197921753,
           -0.18520301580429077,
           0.034637778997421265,
           -0.048317801207304,
           0.7671300768852234,
           0.7310447692871094,
           0.7300088405609131,
           0.781582236289978,
           0.8513879179954529,
           0.8835649490356445,
           0.8513879179954529,
           0.7310448288917542,
           0.6949595808982849,
           0.6939236521720886,
           0.7454970479011536,
           0.8153027296066284,
           0.8474797606468201,
           0.8153027296066284,
           0.7300089001655579,
           0.6939236521720886,
           0.6928876638412476,
           0.7444611191749573,
           0.8142668008804321,
           0.8464438319206238,
           0.8142668008804321,
           0.7815823554992676,
           0.7454970479011536,
           0.7444611191749573,
           0.7960345149040222,
           0.8658401966094971,
           0.8980172276496887,
           0.8658401966094971,
           0.8513879179954529,
           0.8153026103973389,
           0.8142667412757874,
           0.8658401966094971,
           0.9356457591056824,
           0.9678229093551636,
           0.9356458187103271,
           0.8835650086402893,
           0.8474797606468201,
           0.8464438319206238,
           0.8980172872543335,
           0.9678229093551636,
           1,
           0.9678229689598083,
           0.8513879179954529,
           0.8153026103973389,
           0.8142667412757874,
           0.8658401966094971,
           0.9356457591056824,
           0.9678229093551636,
           0.9356458187103271
          ],
          [
           0.43360528349876404,
           -0.2667805552482605,
           -0.18323732912540436,
           0.009331759065389633,
           -0.4102330505847931,
           0.040155086666345596,
           0.311123251914978,
           0.13785633444786072,
           0.39719459414482117,
           -0.11234213411808014,
           -0.22509324550628662,
           0.18730692565441132,
           -0.016312338411808014,
           0.268708735704422,
           0.07455587387084961,
           -0.06692375987768173,
           -0.22521723806858063,
           -0.16314920783042908,
           0.0009944636840373278,
           -0.03744347766041756,
           0.7863627076148987,
           0.7671300172805786,
           0.7310447692871094,
           0.7300087809562683,
           0.7815822958946228,
           0.8513879179954529,
           0.8835649490356445,
           0.7502775192260742,
           0.7310448288917542,
           0.6949596405029297,
           0.6939235925674438,
           0.7454971075057983,
           0.8153027296066284,
           0.8474798202514648,
           0.7492415308952332,
           0.7300089001655579,
           0.6939236521720886,
           0.6928877234458923,
           0.7444611191749573,
           0.8142668008804321,
           0.8464438319206238,
           0.8008149862289429,
           0.7815822958946228,
           0.7454970479011536,
           0.7444610595703125,
           0.796034574508667,
           0.8658401966094971,
           0.8980172276496887,
           0.870620608329773,
           0.8513879179954529,
           0.8153026700019836,
           0.8142667412757874,
           0.8658401370048523,
           0.9356458187103271,
           0.9678228497505188,
           0.9027977585792542,
           0.8835650682449341,
           0.8474797606468201,
           0.8464438319206238,
           0.8980172276496887,
           0.9678229689598083,
           0.9999999403953552,
           0.870620608329773,
           0.8513879179954529,
           0.8153026700019836,
           0.8142667412757874,
           0.8658401370048523,
           0.9356458187103271,
           0.9678228497505188
          ],
          [
           0.36971205472946167,
           -0.07882528007030487,
           -0.02918287366628647,
           -0.1838618963956833,
           -0.4908235967159271,
           -0.11950452625751495,
           0.27304014563560486,
           0.08235618472099304,
           0.32124462723731995,
           -0.13831079006195068,
           -0.26537707448005676,
           0.10304290056228638,
           -0.02895475924015045,
           0.18355679512023926,
           -0.03581956773996353,
           -0.10534423589706421,
           -0.2422163188457489,
           -0.0658482238650322,
           0.029931169003248215,
           -0.04595620930194855,
           0.9027977585792542,
           0.8706207275390625,
           0.8008150458335876,
           0.7492415904998779,
           0.750277578830719,
           0.7863628268241882,
           0.8055954575538635,
           0.8835650086402893,
           0.8513879776000977,
           0.7815823554992676,
           0.7300088405609131,
           0.7310448288917542,
           0.7671300768852234,
           0.7863627076148987,
           0.8474798202514648,
           0.8153027296066284,
           0.7454971075057983,
           0.6939237117767334,
           0.6949596405029297,
           0.7310448884963989,
           0.7502775192260742,
           0.846443772315979,
           0.8142666816711426,
           0.7444611191749573,
           0.6928876638412476,
           0.6939235925674438,
           0.7300088405609131,
           0.7492415308952332,
           0.8980172872543335,
           0.8658401966094971,
           0.7960346341133118,
           0.744461178779602,
           0.7454971075057983,
           0.7815824151039124,
           0.8008150458335876,
           0.9678229093551636,
           0.9356458187103271,
           0.8658401966094971,
           0.8142666816711426,
           0.8153026700019836,
           0.8513879179954529,
           0.870620608329773,
           1,
           0.9678229093551636,
           0.8980172872543335,
           0.846443772315979,
           0.8474798202514648,
           0.8835650086402893,
           0.9027977585792542
          ],
          [
           0.29375550150871277,
           -0.1091371476650238,
           -0.0012898535933345556,
           -0.19518925249576569,
           -0.45325130224227905,
           -0.08269304037094116,
           0.31733864545822144,
           0.056151121854782104,
           0.33827319741249084,
           -0.09531991928815842,
           -0.27288100123405457,
           0.09713751822710037,
           -0.007151404861360788,
           0.13581879436969757,
           -0.03445446118712425,
           -0.12074379622936249,
           -0.29075661301612854,
           -0.01816607266664505,
           -0.020505284890532494,
           -0.03979012742638588,
           0.8706207275390625,
           0.9027977585792542,
           0.870620608329773,
           0.8008150458335876,
           0.7492415308952332,
           0.7502775192260742,
           0.7863628268241882,
           0.8513879776000977,
           0.8835650086402893,
           0.8513879179954529,
           0.7815822958946228,
           0.7300087809562683,
           0.7310448288917542,
           0.7671300768852234,
           0.8153027296066284,
           0.8474798202514648,
           0.8153026700019836,
           0.7454971075057983,
           0.6939235925674438,
           0.6949596405029297,
           0.7310448884963989,
           0.8142666816711426,
           0.8464438319206238,
           0.8142666816711426,
           0.7444609999656677,
           0.6928876042366028,
           0.6939235925674438,
           0.7300088405609131,
           0.8658401966094971,
           0.8980172872543335,
           0.8658401966094971,
           0.796034574508667,
           0.7444611191749573,
           0.7454971075057983,
           0.7815823554992676,
           0.9356458187103271,
           0.9678228497505188,
           0.9356457591056824,
           0.8658400774002075,
           0.8142666220664978,
           0.8153026103973389,
           0.8513879179954529,
           0.9678229093551636,
           1,
           0.9678228497505188,
           0.8980172276496887,
           0.846443772315979,
           0.8474797606468201,
           0.8835650682449341
          ],
          [
           0.2525051236152649,
           -0.11049723625183105,
           0.03401286154985428,
           -0.14539508521556854,
           -0.3902697265148163,
           -0.07253747433423996,
           0.27474087476730347,
           0.03407545015215874,
           0.3488280177116394,
           -0.04165571555495262,
           -0.22237183153629303,
           0.10810154676437378,
           0.023068413138389587,
           0.07125654071569443,
           -0.04735371097922325,
           -0.12903490662574768,
           -0.33306968212127686,
           -0.0020337323658168316,
           -0.03530029207468033,
           -0.04083956405520439,
           0.8008150458335876,
           0.870620608329773,
           0.9027977585792542,
           0.8706206679344177,
           0.8008150458335876,
           0.7492415904998779,
           0.7502775192260742,
           0.7815822958946228,
           0.8513878583908081,
           0.8835650086402893,
           0.8513879179954529,
           0.7815822958946228,
           0.7300088405609131,
           0.7310448288917542,
           0.7454971075057983,
           0.8153026700019836,
           0.8474798202514648,
           0.8153027296066284,
           0.7454971075057983,
           0.6939236521720886,
           0.6949596405029297,
           0.7444611191749573,
           0.8142666816711426,
           0.846443772315979,
           0.8142666816711426,
           0.7444610595703125,
           0.6928876638412476,
           0.6939235925674438,
           0.7960346341133118,
           0.8658401966094971,
           0.8980172872543335,
           0.8658401966094971,
           0.7960346341133118,
           0.744461178779602,
           0.7454971075057983,
           0.8658401966094971,
           0.9356457591056824,
           0.9678229093551636,
           0.9356458783149719,
           0.8658402562141418,
           0.8142667412757874,
           0.8153026700019836,
           0.8980172872543335,
           0.9678228497505188,
           1,
           0.9678229689598083,
           0.8980174660682678,
           0.8464438319206238,
           0.8474797606468201
          ],
          [
           0.28379693627357483,
           -0.10201726853847504,
           0.02378017269074917,
           -0.05517679080367088,
           -0.353422075510025,
           -0.07445477694272995,
           0.18300753831863403,
           0.047180384397506714,
           0.3510502576828003,
           -0.022231142967939377,
           -0.1585288941860199,
           0.1321602314710617,
           0.041562680155038834,
           0.04733990505337715,
           -0.0389716736972332,
           -0.1192559078335762,
           -0.3426086902618408,
           -0.042780905961990356,
           -0.008693465031683445,
           -0.04788178205490112,
           0.7492415904998779,
           0.8008150458335876,
           0.8706206679344177,
           0.9027977585792542,
           0.8706207275390625,
           0.8008149862289429,
           0.7492415904998779,
           0.7300088405609131,
           0.7815822958946228,
           0.8513879179954529,
           0.8835650086402893,
           0.8513879776000977,
           0.781582236289978,
           0.7300088405609131,
           0.6939235925674438,
           0.7454970479011536,
           0.8153027296066284,
           0.8474798798561096,
           0.8153027892112732,
           0.7454971075057983,
           0.6939236521720886,
           0.6928876638412476,
           0.7444609999656677,
           0.8142666816711426,
           0.8464438319206238,
           0.8142667412757874,
           0.7444610595703125,
           0.6928876042366028,
           0.744461178779602,
           0.796034574508667,
           0.8658401966094971,
           0.8980172872543335,
           0.8658402562141418,
           0.796034574508667,
           0.7444611191749573,
           0.8142666816711426,
           0.8658400774002075,
           0.9356458783149719,
           0.9678228497505188,
           0.9356458187103271,
           0.8658401966094971,
           0.8142667412757874,
           0.846443772315979,
           0.8980172276496887,
           0.9678229689598083,
           1,
           0.9678229689598083,
           0.8980172872543335,
           0.8464438319206238
          ],
          [
           0.3618835210800171,
           -0.11157279461622238,
           -0.041260093450546265,
           0.01555680949240923,
           -0.3687693774700165,
           -0.06330697238445282,
           0.12623471021652222,
           0.09602824598550797,
           0.35049402713775635,
           -0.04883881285786629,
           -0.14115221798419952,
           0.1551433950662613,
           0.037147242575883865,
           0.08837715536355972,
           0.006616025697439909,
           -0.10147379338741302,
           -0.3149278461933136,
           -0.11176376044750214,
           0.027561912313103676,
           -0.05361209064722061,
           0.750277578830719,
           0.7492415308952332,
           0.8008150458335876,
           0.8706207275390625,
           0.9027977585792542,
           0.8706207275390625,
           0.8008150458335876,
           0.7310448288917542,
           0.7300087809562683,
           0.7815823554992676,
           0.8513879776000977,
           0.8835650086402893,
           0.8513879776000977,
           0.7815822958946228,
           0.6949596405029297,
           0.6939235925674438,
           0.7454971075057983,
           0.8153027892112732,
           0.8474798202514648,
           0.8153027892112732,
           0.7454971075057983,
           0.6939235925674438,
           0.6928876042366028,
           0.7444610595703125,
           0.8142667412757874,
           0.846443772315979,
           0.8142667412757874,
           0.7444611191749573,
           0.7454971075057983,
           0.7444611191749573,
           0.7960346341133118,
           0.8658402562141418,
           0.8980173468589783,
           0.8658402562141418,
           0.7960346341133118,
           0.8153026700019836,
           0.8142666220664978,
           0.8658402562141418,
           0.9356458187103271,
           0.9678228497505188,
           0.9356457591056824,
           0.8658401370048523,
           0.8474798202514648,
           0.846443772315979,
           0.8980174660682678,
           0.9678229689598083,
           1,
           0.9678229093551636,
           0.8980172276496887
          ],
          [
           0.42070361971855164,
           -0.14855274558067322,
           -0.11622343957424164,
           0.02045711688697338,
           -0.412786066532135,
           -0.028963133692741394,
           0.15730524063110352,
           0.14909912645816803,
           0.3549208343029022,
           -0.08914940059185028,
           -0.19013535976409912,
           0.16467498242855072,
           0.017310313880443573,
           0.16289706528186798,
           0.06912209838628769,
           -0.0974048525094986,
           -0.2722048759460449,
           -0.1519618183374405,
           0.03403214365243912,
           -0.051157355308532715,
           0.7863628268241882,
           0.7502775192260742,
           0.7492415904998779,
           0.8008149862289429,
           0.8706207275390625,
           0.9027977585792542,
           0.8706207275390625,
           0.7671300768852234,
           0.7310448288917542,
           0.7300088405609131,
           0.781582236289978,
           0.8513879776000977,
           0.8835650086402893,
           0.8513879776000977,
           0.7310448884963989,
           0.6949596405029297,
           0.6939236521720886,
           0.7454971075057983,
           0.8153027892112732,
           0.8474798202514648,
           0.8153027892112732,
           0.7300088405609131,
           0.6939235925674438,
           0.6928876638412476,
           0.7444610595703125,
           0.8142667412757874,
           0.846443772315979,
           0.8142667412757874,
           0.7815824151039124,
           0.7454971075057983,
           0.744461178779602,
           0.796034574508667,
           0.8658402562141418,
           0.8980172872543335,
           0.8658402562141418,
           0.8513879179954529,
           0.8153026103973389,
           0.8142667412757874,
           0.8658401966094971,
           0.9356457591056824,
           0.9678229093551636,
           0.9356458187103271,
           0.8835650086402893,
           0.8474797606468201,
           0.8464438319206238,
           0.8980172872543335,
           0.9678229093551636,
           1,
           0.9678229689598083
          ],
          [
           0.4139019250869751,
           -0.1937907338142395,
           -0.1417085826396942,
           -0.03250237926840782,
           -0.4339541494846344,
           0.012159926816821098,
           0.24891360104084015,
           0.17063093185424805,
           0.3671209216117859,
           -0.09643934667110443,
           -0.26684996485710144,
           0.16060040891170502,
           0.0009999647736549377,
           0.21189755201339722,
           0.1089659184217453,
           -0.11994350701570511,
           -0.24397295713424683,
           -0.1299079954624176,
           0.0003888358478434384,
           -0.040283020585775375,
           0.8055954575538635,
           0.7863628268241882,
           0.7502775192260742,
           0.7492415904998779,
           0.8008150458335876,
           0.8706207275390625,
           0.9027977585792542,
           0.7863627076148987,
           0.7671300768852234,
           0.7310448288917542,
           0.7300088405609131,
           0.7815822958946228,
           0.8513879776000977,
           0.8835650086402893,
           0.7502775192260742,
           0.7310448884963989,
           0.6949596405029297,
           0.6939237713813782,
           0.7454971075057983,
           0.8153027892112732,
           0.8474798202514648,
           0.7492415308952332,
           0.7300088405609131,
           0.6939235925674438,
           0.6928876042366028,
           0.7444611191749573,
           0.8142667412757874,
           0.8464438319206238,
           0.8008150458335876,
           0.7815823554992676,
           0.7454971075057983,
           0.7444611191749573,
           0.7960346341133118,
           0.8658402562141418,
           0.8980172872543335,
           0.870620608329773,
           0.8513879179954529,
           0.8153026700019836,
           0.8142667412757874,
           0.8658401370048523,
           0.9356458187103271,
           0.9678228497505188,
           0.9027977585792542,
           0.8835650682449341,
           0.8474797606468201,
           0.8464438319206238,
           0.8980172276496887,
           0.9678229689598083,
           0.9999999403953552
          ]
         ]
        }
       ],
       "layout": {
        "coloraxis": {
         "colorscale": [
          [
           0,
           "#440154"
          ],
          [
           0.1111111111111111,
           "#482878"
          ],
          [
           0.2222222222222222,
           "#3e4989"
          ],
          [
           0.3333333333333333,
           "#31688e"
          ],
          [
           0.4444444444444444,
           "#26828e"
          ],
          [
           0.5555555555555556,
           "#1f9e89"
          ],
          [
           0.6666666666666666,
           "#35b779"
          ],
          [
           0.7777777777777778,
           "#6ece58"
          ],
          [
           0.8888888888888888,
           "#b5de2b"
          ],
          [
           1,
           "#fde725"
          ]
         ]
        },
        "template": {
         "data": {
          "bar": [
           {
            "error_x": {
             "color": "#2a3f5f"
            },
            "error_y": {
             "color": "#2a3f5f"
            },
            "marker": {
             "line": {
              "color": "#E5ECF6",
              "width": 0.5
             },
             "pattern": {
              "fillmode": "overlay",
              "size": 10,
              "solidity": 0.2
             }
            },
            "type": "bar"
           }
          ],
          "barpolar": [
           {
            "marker": {
             "line": {
              "color": "#E5ECF6",
              "width": 0.5
             },
             "pattern": {
              "fillmode": "overlay",
              "size": 10,
              "solidity": 0.2
             }
            },
            "type": "barpolar"
           }
          ],
          "carpet": [
           {
            "aaxis": {
             "endlinecolor": "#2a3f5f",
             "gridcolor": "white",
             "linecolor": "white",
             "minorgridcolor": "white",
             "startlinecolor": "#2a3f5f"
            },
            "baxis": {
             "endlinecolor": "#2a3f5f",
             "gridcolor": "white",
             "linecolor": "white",
             "minorgridcolor": "white",
             "startlinecolor": "#2a3f5f"
            },
            "type": "carpet"
           }
          ],
          "choropleth": [
           {
            "colorbar": {
             "outlinewidth": 0,
             "ticks": ""
            },
            "type": "choropleth"
           }
          ],
          "contour": [
           {
            "colorbar": {
             "outlinewidth": 0,
             "ticks": ""
            },
            "colorscale": [
             [
              0,
              "#0d0887"
             ],
             [
              0.1111111111111111,
              "#46039f"
             ],
             [
              0.2222222222222222,
              "#7201a8"
             ],
             [
              0.3333333333333333,
              "#9c179e"
             ],
             [
              0.4444444444444444,
              "#bd3786"
             ],
             [
              0.5555555555555556,
              "#d8576b"
             ],
             [
              0.6666666666666666,
              "#ed7953"
             ],
             [
              0.7777777777777778,
              "#fb9f3a"
             ],
             [
              0.8888888888888888,
              "#fdca26"
             ],
             [
              1,
              "#f0f921"
             ]
            ],
            "type": "contour"
           }
          ],
          "contourcarpet": [
           {
            "colorbar": {
             "outlinewidth": 0,
             "ticks": ""
            },
            "type": "contourcarpet"
           }
          ],
          "heatmap": [
           {
            "colorbar": {
             "outlinewidth": 0,
             "ticks": ""
            },
            "colorscale": [
             [
              0,
              "#0d0887"
             ],
             [
              0.1111111111111111,
              "#46039f"
             ],
             [
              0.2222222222222222,
              "#7201a8"
             ],
             [
              0.3333333333333333,
              "#9c179e"
             ],
             [
              0.4444444444444444,
              "#bd3786"
             ],
             [
              0.5555555555555556,
              "#d8576b"
             ],
             [
              0.6666666666666666,
              "#ed7953"
             ],
             [
              0.7777777777777778,
              "#fb9f3a"
             ],
             [
              0.8888888888888888,
              "#fdca26"
             ],
             [
              1,
              "#f0f921"
             ]
            ],
            "type": "heatmap"
           }
          ],
          "heatmapgl": [
           {
            "colorbar": {
             "outlinewidth": 0,
             "ticks": ""
            },
            "colorscale": [
             [
              0,
              "#0d0887"
             ],
             [
              0.1111111111111111,
              "#46039f"
             ],
             [
              0.2222222222222222,
              "#7201a8"
             ],
             [
              0.3333333333333333,
              "#9c179e"
             ],
             [
              0.4444444444444444,
              "#bd3786"
             ],
             [
              0.5555555555555556,
              "#d8576b"
             ],
             [
              0.6666666666666666,
              "#ed7953"
             ],
             [
              0.7777777777777778,
              "#fb9f3a"
             ],
             [
              0.8888888888888888,
              "#fdca26"
             ],
             [
              1,
              "#f0f921"
             ]
            ],
            "type": "heatmapgl"
           }
          ],
          "histogram": [
           {
            "marker": {
             "pattern": {
              "fillmode": "overlay",
              "size": 10,
              "solidity": 0.2
             }
            },
            "type": "histogram"
           }
          ],
          "histogram2d": [
           {
            "colorbar": {
             "outlinewidth": 0,
             "ticks": ""
            },
            "colorscale": [
             [
              0,
              "#0d0887"
             ],
             [
              0.1111111111111111,
              "#46039f"
             ],
             [
              0.2222222222222222,
              "#7201a8"
             ],
             [
              0.3333333333333333,
              "#9c179e"
             ],
             [
              0.4444444444444444,
              "#bd3786"
             ],
             [
              0.5555555555555556,
              "#d8576b"
             ],
             [
              0.6666666666666666,
              "#ed7953"
             ],
             [
              0.7777777777777778,
              "#fb9f3a"
             ],
             [
              0.8888888888888888,
              "#fdca26"
             ],
             [
              1,
              "#f0f921"
             ]
            ],
            "type": "histogram2d"
           }
          ],
          "histogram2dcontour": [
           {
            "colorbar": {
             "outlinewidth": 0,
             "ticks": ""
            },
            "colorscale": [
             [
              0,
              "#0d0887"
             ],
             [
              0.1111111111111111,
              "#46039f"
             ],
             [
              0.2222222222222222,
              "#7201a8"
             ],
             [
              0.3333333333333333,
              "#9c179e"
             ],
             [
              0.4444444444444444,
              "#bd3786"
             ],
             [
              0.5555555555555556,
              "#d8576b"
             ],
             [
              0.6666666666666666,
              "#ed7953"
             ],
             [
              0.7777777777777778,
              "#fb9f3a"
             ],
             [
              0.8888888888888888,
              "#fdca26"
             ],
             [
              1,
              "#f0f921"
             ]
            ],
            "type": "histogram2dcontour"
           }
          ],
          "mesh3d": [
           {
            "colorbar": {
             "outlinewidth": 0,
             "ticks": ""
            },
            "type": "mesh3d"
           }
          ],
          "parcoords": [
           {
            "line": {
             "colorbar": {
              "outlinewidth": 0,
              "ticks": ""
             }
            },
            "type": "parcoords"
           }
          ],
          "pie": [
           {
            "automargin": true,
            "type": "pie"
           }
          ],
          "scatter": [
           {
            "fillpattern": {
             "fillmode": "overlay",
             "size": 10,
             "solidity": 0.2
            },
            "type": "scatter"
           }
          ],
          "scatter3d": [
           {
            "line": {
             "colorbar": {
              "outlinewidth": 0,
              "ticks": ""
             }
            },
            "marker": {
             "colorbar": {
              "outlinewidth": 0,
              "ticks": ""
             }
            },
            "type": "scatter3d"
           }
          ],
          "scattercarpet": [
           {
            "marker": {
             "colorbar": {
              "outlinewidth": 0,
              "ticks": ""
             }
            },
            "type": "scattercarpet"
           }
          ],
          "scattergeo": [
           {
            "marker": {
             "colorbar": {
              "outlinewidth": 0,
              "ticks": ""
             }
            },
            "type": "scattergeo"
           }
          ],
          "scattergl": [
           {
            "marker": {
             "colorbar": {
              "outlinewidth": 0,
              "ticks": ""
             }
            },
            "type": "scattergl"
           }
          ],
          "scattermapbox": [
           {
            "marker": {
             "colorbar": {
              "outlinewidth": 0,
              "ticks": ""
             }
            },
            "type": "scattermapbox"
           }
          ],
          "scatterpolar": [
           {
            "marker": {
             "colorbar": {
              "outlinewidth": 0,
              "ticks": ""
             }
            },
            "type": "scatterpolar"
           }
          ],
          "scatterpolargl": [
           {
            "marker": {
             "colorbar": {
              "outlinewidth": 0,
              "ticks": ""
             }
            },
            "type": "scatterpolargl"
           }
          ],
          "scatterternary": [
           {
            "marker": {
             "colorbar": {
              "outlinewidth": 0,
              "ticks": ""
             }
            },
            "type": "scatterternary"
           }
          ],
          "surface": [
           {
            "colorbar": {
             "outlinewidth": 0,
             "ticks": ""
            },
            "colorscale": [
             [
              0,
              "#0d0887"
             ],
             [
              0.1111111111111111,
              "#46039f"
             ],
             [
              0.2222222222222222,
              "#7201a8"
             ],
             [
              0.3333333333333333,
              "#9c179e"
             ],
             [
              0.4444444444444444,
              "#bd3786"
             ],
             [
              0.5555555555555556,
              "#d8576b"
             ],
             [
              0.6666666666666666,
              "#ed7953"
             ],
             [
              0.7777777777777778,
              "#fb9f3a"
             ],
             [
              0.8888888888888888,
              "#fdca26"
             ],
             [
              1,
              "#f0f921"
             ]
            ],
            "type": "surface"
           }
          ],
          "table": [
           {
            "cells": {
             "fill": {
              "color": "#EBF0F8"
             },
             "line": {
              "color": "white"
             }
            },
            "header": {
             "fill": {
              "color": "#C8D4E3"
             },
             "line": {
              "color": "white"
             }
            },
            "type": "table"
           }
          ]
         },
         "layout": {
          "annotationdefaults": {
           "arrowcolor": "#2a3f5f",
           "arrowhead": 0,
           "arrowwidth": 1
          },
          "autotypenumbers": "strict",
          "coloraxis": {
           "colorbar": {
            "outlinewidth": 0,
            "ticks": ""
           }
          },
          "colorscale": {
           "diverging": [
            [
             0,
             "#8e0152"
            ],
            [
             0.1,
             "#c51b7d"
            ],
            [
             0.2,
             "#de77ae"
            ],
            [
             0.3,
             "#f1b6da"
            ],
            [
             0.4,
             "#fde0ef"
            ],
            [
             0.5,
             "#f7f7f7"
            ],
            [
             0.6,
             "#e6f5d0"
            ],
            [
             0.7,
             "#b8e186"
            ],
            [
             0.8,
             "#7fbc41"
            ],
            [
             0.9,
             "#4d9221"
            ],
            [
             1,
             "#276419"
            ]
           ],
           "sequential": [
            [
             0,
             "#0d0887"
            ],
            [
             0.1111111111111111,
             "#46039f"
            ],
            [
             0.2222222222222222,
             "#7201a8"
            ],
            [
             0.3333333333333333,
             "#9c179e"
            ],
            [
             0.4444444444444444,
             "#bd3786"
            ],
            [
             0.5555555555555556,
             "#d8576b"
            ],
            [
             0.6666666666666666,
             "#ed7953"
            ],
            [
             0.7777777777777778,
             "#fb9f3a"
            ],
            [
             0.8888888888888888,
             "#fdca26"
            ],
            [
             1,
             "#f0f921"
            ]
           ],
           "sequentialminus": [
            [
             0,
             "#0d0887"
            ],
            [
             0.1111111111111111,
             "#46039f"
            ],
            [
             0.2222222222222222,
             "#7201a8"
            ],
            [
             0.3333333333333333,
             "#9c179e"
            ],
            [
             0.4444444444444444,
             "#bd3786"
            ],
            [
             0.5555555555555556,
             "#d8576b"
            ],
            [
             0.6666666666666666,
             "#ed7953"
            ],
            [
             0.7777777777777778,
             "#fb9f3a"
            ],
            [
             0.8888888888888888,
             "#fdca26"
            ],
            [
             1,
             "#f0f921"
            ]
           ]
          },
          "colorway": [
           "#636efa",
           "#EF553B",
           "#00cc96",
           "#ab63fa",
           "#FFA15A",
           "#19d3f3",
           "#FF6692",
           "#B6E880",
           "#FF97FF",
           "#FECB52"
          ],
          "font": {
           "color": "#2a3f5f"
          },
          "geo": {
           "bgcolor": "white",
           "lakecolor": "white",
           "landcolor": "#E5ECF6",
           "showlakes": true,
           "showland": true,
           "subunitcolor": "white"
          },
          "hoverlabel": {
           "align": "left"
          },
          "hovermode": "closest",
          "mapbox": {
           "style": "light"
          },
          "paper_bgcolor": "white",
          "plot_bgcolor": "#E5ECF6",
          "polar": {
           "angularaxis": {
            "gridcolor": "white",
            "linecolor": "white",
            "ticks": ""
           },
           "bgcolor": "#E5ECF6",
           "radialaxis": {
            "gridcolor": "white",
            "linecolor": "white",
            "ticks": ""
           }
          },
          "scene": {
           "xaxis": {
            "backgroundcolor": "#E5ECF6",
            "gridcolor": "white",
            "gridwidth": 2,
            "linecolor": "white",
            "showbackground": true,
            "ticks": "",
            "zerolinecolor": "white"
           },
           "yaxis": {
            "backgroundcolor": "#E5ECF6",
            "gridcolor": "white",
            "gridwidth": 2,
            "linecolor": "white",
            "showbackground": true,
            "ticks": "",
            "zerolinecolor": "white"
           },
           "zaxis": {
            "backgroundcolor": "#E5ECF6",
            "gridcolor": "white",
            "gridwidth": 2,
            "linecolor": "white",
            "showbackground": true,
            "ticks": "",
            "zerolinecolor": "white"
           }
          },
          "shapedefaults": {
           "line": {
            "color": "#2a3f5f"
           }
          },
          "ternary": {
           "aaxis": {
            "gridcolor": "white",
            "linecolor": "white",
            "ticks": ""
           },
           "baxis": {
            "gridcolor": "white",
            "linecolor": "white",
            "ticks": ""
           },
           "bgcolor": "#E5ECF6",
           "caxis": {
            "gridcolor": "white",
            "linecolor": "white",
            "ticks": ""
           }
          },
          "title": {
           "x": 0.05
          },
          "xaxis": {
           "automargin": true,
           "gridcolor": "white",
           "linecolor": "white",
           "ticks": "",
           "title": {
            "standoff": 15
           },
           "zerolinecolor": "white",
           "zerolinewidth": 2
          },
          "yaxis": {
           "automargin": true,
           "gridcolor": "white",
           "linecolor": "white",
           "ticks": "",
           "title": {
            "standoff": 15
           },
           "zerolinecolor": "white",
           "zerolinewidth": 2
          }
         }
        },
        "title": {
         "text": "Pairwise Cosine Similarity Heatmap"
        },
        "xaxis": {
         "anchor": "y",
         "constrain": "domain",
         "domain": [
          0,
          1
         ],
         "scaleanchor": "y"
        },
        "yaxis": {
         "anchor": "x",
         "autorange": "reversed",
         "constrain": "domain",
         "domain": [
          0,
          1
         ]
        }
       }
      }
     },
     "metadata": {},
     "output_type": "display_data"
    }
   ],
   "source": [
    "import sys \n",
    "sys.path.append('..')\n",
    "\n",
    "import torch\n",
    "from src.environments.memory import MemoryEnv\n",
    "from src.models.components import MiniGridBOWEmbedding\n",
    "from src.visualization import tensor_cosine_similarity_heatmap, tensor_2d_embedding_similarity\n",
    "from minigrid.wrappers import ViewSizeWrapper\n",
    "import plotly.express as px \n",
    "\n",
    "env = ViewSizeWrapper(MemoryEnv(size = 7, random_length=False, random_start_pos=False, max_steps=200, render_mode='rgb_array'), 7)\n",
    "obs, info = env.reset()\n",
    "obs['image'].shape\n",
    "# px.imshow(env.render()).show()\n",
    "# px.imshow(obs['image'][:,:,0].T).show()\n",
    "\n",
    "\n",
    "state_embedding = MiniGridBOWEmbedding(\n",
    "    embedding_dim=32, \n",
    "    max_values=[11, 6, 3], \n",
    "    channel_names=['object', 'color', 'state'], \n",
    "    view_size=7,\n",
    "    add_positional_enc=True)\n",
    "\n",
    "print(state_embedding)\n",
    "obs, info = env.reset()\n",
    "obs = torch.from_numpy(obs['image']).unsqueeze(0)\n",
    "print(state_embedding(obs).shape)\n",
    "print(\"--\")\n",
    "print(state_embedding.get_channel_embedding('object').shape)\n",
    "print(state_embedding.get_channel_embedding('color').shape)\n",
    "print(state_embedding.get_channel_embedding('state').shape)\n",
    "print(state_embedding.get_all_channel_embeddings().shape)\n",
    "print(state_embedding.get_positional_encoding().shape) # 2D positional encoding\n",
    "print(\"--\")\n",
    "print(\"average norm channel embeddings:\", torch.norm(state_embedding.get_all_channel_embeddings(), dim = 1).mean())\n",
    "print(\"average norm positional encoding:\", torch.norm(state_embedding.get_positional_encoding(), dim = 1).mean())\n",
    "\n",
    "\n",
    "# Test the function with a sample PyTorch tensor\n",
    "for channel in ['object', 'color', 'state']:\n",
    "    tensor_cosine_similarity_heatmap(state_embedding.get_channel_embedding(channel).detach())\n",
    "tensor_cosine_similarity_heatmap(state_embedding.get_all_channel_embeddings().detach())\n",
    "\n",
    "env = ViewSizeWrapper(MemoryEnv(size = 7, random_length=False, random_start_pos=False, max_steps=200, render_mode='rgb_array'), 7)\n",
    "obs, info = env.reset()\n",
    "obs['image'].shape\n",
    "# px.imshow(env.render()).show()\n",
    "px.imshow(obs['image'][:,:,0].T).show()\n",
    "\n",
    "# Test the function with an example image sample PyTorch tensor\n",
    "obs = torch.from_numpy(obs['image']).unsqueeze(0)\n",
    "embed_2d = state_embedding(obs).detach()\n",
    "x = 2; y = 1\n",
    "tensor_2d_embedding_similarity(embed_2d[0], x, y)\n",
    "# tensor_2d_embedding_similarity(embed_2d[0], x, y, mode=\"contour\")\n",
    "\n",
    "non_positional_embeddings = state_embedding.get_all_channel_embeddings().detach()\n",
    "positional_encoding = state_embedding.get_positional_encoding().detach()\n",
    "concatenated_embeddings = torch.cat([non_positional_embeddings, positional_encoding.squeeze(0).view(-1, 32)], dim=0)\n",
    "\n",
    "tensor_cosine_similarity_heatmap(concatenated_embeddings)"
   ]
  },
  {
   "cell_type": "code",
   "execution_count": 2,
   "metadata": {},
   "outputs": [],
   "source": [
    "import torch\n",
    "from positional_encodings.torch_encodings import PositionalEncoding1D, PositionalEncoding2D, PositionalEncoding3D, Summer\n",
    "\n",
    "# now let's do it in 2d \n",
    "p_enc_2d_model = PositionalEncoding2D(128)\n",
    "p_enc_2d_model_sum = Summer(PositionalEncoding2D(128))\n",
    "\n",
    "x = torch.rand(1,7,7,128)\n",
    "penc_no_sum = p_enc_2d_model(x) # penc_no_sum.shape == (1, 6, 10)\n",
    "penc_sum = p_enc_2d_model_sum(x)\n",
    "# print(penc_no_sum + x == penc_sum) # True"
   ]
  },
  {
   "cell_type": "code",
   "execution_count": 3,
   "metadata": {},
   "outputs": [],
   "source": [
    "\n",
    "# Test the function with a sample PyTorch tensor\n",
    "n_dim = 8\n",
    "p_enc_2d_model = PositionalEncoding2D(128)\n",
    "p_enc_2d_model_sum = Summer(PositionalEncoding2D(128))\n",
    "x = torch.zeros(1,7,7,128)\n",
    "tensor = p_enc_2d_model_sum(x)\n",
    "x, y = 2, 5\n"
   ]
  },
  {
   "cell_type": "code",
   "execution_count": null,
   "metadata": {},
   "outputs": [],
   "source": []
  }
 ],
 "metadata": {
  "kernelspec": {
   "display_name": "decision_transformer_interpretability",
   "language": "python",
   "name": "python3"
  },
  "language_info": {
   "codemirror_mode": {
    "name": "ipython",
    "version": 3
   },
   "file_extension": ".py",
   "mimetype": "text/x-python",
   "name": "python",
   "nbconvert_exporter": "python",
   "pygments_lexer": "ipython3",
   "version": "3.10.9"
  },
  "orig_nbformat": 4
 },
 "nbformat": 4,
 "nbformat_minor": 2
}
